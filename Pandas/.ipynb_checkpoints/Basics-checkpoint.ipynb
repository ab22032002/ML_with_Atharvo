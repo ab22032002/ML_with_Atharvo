{
 "cells": [
  {
   "cell_type": "code",
   "execution_count": 2,
   "id": "af07717d",
   "metadata": {},
   "outputs": [],
   "source": [
    "import pandas as pd \n",
    "import numpy as np"
   ]
  },
  {
   "cell_type": "markdown",
   "id": "5eaf38ac",
   "metadata": {},
   "source": [
    "# Series"
   ]
  },
  {
   "cell_type": "code",
   "execution_count": 3,
   "id": "16b7adfb",
   "metadata": {},
   "outputs": [
    {
     "name": "stdout",
     "output_type": "stream",
     "text": [
      "array: ['red' 'blue' 'white' 'black']\n",
      "     NOw generating The Output as Series  \n",
      "0      red\n",
      "1     blue\n",
      "2    white\n",
      "3    black\n",
      "dtype: object\n"
     ]
    }
   ],
   "source": [
    "dt= np.array(['red','blue','white','black'])\n",
    "st= pd.Series(dt)\n",
    "print(\"array:\",dt)\n",
    "print(\"     NOw generating The Output as Series  \")\n",
    "print(st)"
   ]
  },
  {
   "cell_type": "code",
   "execution_count": 4,
   "id": "309daad3",
   "metadata": {},
   "outputs": [],
   "source": [
    "dt={'a':0,'a1':89,90:\"ab\"}"
   ]
  },
  {
   "cell_type": "code",
   "execution_count": 5,
   "id": "f749f82a",
   "metadata": {},
   "outputs": [
    {
     "name": "stdout",
     "output_type": "stream",
     "text": [
      "{'a': 0, 'a1': 89, 90: 'ab'}\n"
     ]
    }
   ],
   "source": [
    "print(dt)"
   ]
  },
  {
   "cell_type": "code",
   "execution_count": 6,
   "id": "f08569b9",
   "metadata": {},
   "outputs": [
    {
     "name": "stdout",
     "output_type": "stream",
     "text": [
      "we can generate any kind of Key Value Pair:\n"
     ]
    },
    {
     "data": {
      "text/plain": [
       "a      0\n",
       "a1    89\n",
       "90    ab\n",
       "dtype: object"
      ]
     },
     "execution_count": 6,
     "metadata": {},
     "output_type": "execute_result"
    }
   ],
   "source": [
    "a= pd.Series(dt)\n",
    "print(\"we can generate any kind of Key Value Pair:\")\n",
    "a"
   ]
  },
  {
   "cell_type": "code",
   "execution_count": 7,
   "id": "0ef17f68",
   "metadata": {},
   "outputs": [
    {
     "data": {
      "text/plain": [
       "array([0, 89, 'ab'], dtype=object)"
      ]
     },
     "execution_count": 7,
     "metadata": {},
     "output_type": "execute_result"
    }
   ],
   "source": [
    "a.values"
   ]
  },
  {
   "cell_type": "code",
   "execution_count": 8,
   "id": "73357781",
   "metadata": {},
   "outputs": [
    {
     "data": {
      "text/plain": [
       "<bound method Series.keys of a      0\n",
       "a1    89\n",
       "90    ab\n",
       "dtype: object>"
      ]
     },
     "execution_count": 8,
     "metadata": {},
     "output_type": "execute_result"
    }
   ],
   "source": [
    "a.keys"
   ]
  },
  {
   "cell_type": "code",
   "execution_count": 17,
   "id": "5a1acfeb",
   "metadata": {},
   "outputs": [
    {
     "data": {
      "text/plain": [
       "array(['a', 'a1', 90], dtype=object)"
      ]
     },
     "execution_count": 17,
     "metadata": {},
     "output_type": "execute_result"
    }
   ],
   "source": [
    "a.index.values"
   ]
  },
  {
   "cell_type": "code",
   "execution_count": 9,
   "id": "19111bd6",
   "metadata": {},
   "outputs": [
    {
     "name": "stdout",
     "output_type": "stream",
     "text": [
      "89\n"
     ]
    }
   ],
   "source": [
    "print(a['a1'])\n",
    "# The Correspondant Value : "
   ]
  },
  {
   "cell_type": "code",
   "execution_count": 10,
   "id": "a8de6956",
   "metadata": {},
   "outputs": [
    {
     "name": "stdout",
     "output_type": "stream",
     "text": [
      "white\n"
     ]
    },
    {
     "data": {
      "text/plain": [
       "'black'"
      ]
     },
     "execution_count": 10,
     "metadata": {},
     "output_type": "execute_result"
    }
   ],
   "source": [
    "print(st[2])\n",
    "st[3]"
   ]
  },
  {
   "cell_type": "code",
   "execution_count": 11,
   "id": "a827fc36",
   "metadata": {},
   "outputs": [
    {
     "data": {
      "text/plain": [
       "0      red\n",
       "1     blue\n",
       "2    white\n",
       "3    green\n",
       "dtype: object"
      ]
     },
     "execution_count": 11,
     "metadata": {},
     "output_type": "execute_result"
    }
   ],
   "source": [
    "# Changing Values :\n",
    "st[3]=\"green\"\n",
    "st"
   ]
  },
  {
   "cell_type": "markdown",
   "id": "698b53f5",
   "metadata": {},
   "source": [
    "# Creating A DataFrame:"
   ]
  },
  {
   "cell_type": "code",
   "execution_count": 13,
   "id": "f90c227b",
   "metadata": {},
   "outputs": [
    {
     "name": "stdout",
     "output_type": "stream",
     "text": [
      "{'colors': ['red', 'green', 'yellow', 'blue'], 'Availibility': [10, 34, 43, 23]}\n",
      "   \n"
     ]
    },
    {
     "data": {
      "text/html": [
       "<div>\n",
       "<style scoped>\n",
       "    .dataframe tbody tr th:only-of-type {\n",
       "        vertical-align: middle;\n",
       "    }\n",
       "\n",
       "    .dataframe tbody tr th {\n",
       "        vertical-align: top;\n",
       "    }\n",
       "\n",
       "    .dataframe thead th {\n",
       "        text-align: right;\n",
       "    }\n",
       "</style>\n",
       "<table border=\"1\" class=\"dataframe\">\n",
       "  <thead>\n",
       "    <tr style=\"text-align: right;\">\n",
       "      <th></th>\n",
       "      <th>colors</th>\n",
       "      <th>Availibility</th>\n",
       "    </tr>\n",
       "  </thead>\n",
       "  <tbody>\n",
       "    <tr>\n",
       "      <th>0</th>\n",
       "      <td>red</td>\n",
       "      <td>10</td>\n",
       "    </tr>\n",
       "    <tr>\n",
       "      <th>1</th>\n",
       "      <td>green</td>\n",
       "      <td>34</td>\n",
       "    </tr>\n",
       "    <tr>\n",
       "      <th>2</th>\n",
       "      <td>yellow</td>\n",
       "      <td>43</td>\n",
       "    </tr>\n",
       "    <tr>\n",
       "      <th>3</th>\n",
       "      <td>blue</td>\n",
       "      <td>23</td>\n",
       "    </tr>\n",
       "  </tbody>\n",
       "</table>\n",
       "</div>"
      ],
      "text/plain": [
       "   colors  Availibility\n",
       "0     red            10\n",
       "1   green            34\n",
       "2  yellow            43\n",
       "3    blue            23"
      ]
     },
     "execution_count": 13,
     "metadata": {},
     "output_type": "execute_result"
    }
   ],
   "source": [
    "data={\n",
    "    'colors':['red','green','yellow','blue'],\n",
    "    'Availibility':[10,34,43,23]\n",
    "}\n",
    "print(data)\n",
    "stock=pd.DataFrame(data)\n",
    "print(\"   \")\n",
    "stock"
   ]
  },
  {
   "cell_type": "code",
   "execution_count": 14,
   "id": "e73d3fab",
   "metadata": {},
   "outputs": [
    {
     "data": {
      "text/html": [
       "<div>\n",
       "<style scoped>\n",
       "    .dataframe tbody tr th:only-of-type {\n",
       "        vertical-align: middle;\n",
       "    }\n",
       "\n",
       "    .dataframe tbody tr th {\n",
       "        vertical-align: top;\n",
       "    }\n",
       "\n",
       "    .dataframe thead th {\n",
       "        text-align: right;\n",
       "    }\n",
       "</style>\n",
       "<table border=\"1\" class=\"dataframe\">\n",
       "  <thead>\n",
       "    <tr style=\"text-align: right;\">\n",
       "      <th></th>\n",
       "      <th>colors</th>\n",
       "      <th>Availibility</th>\n",
       "    </tr>\n",
       "  </thead>\n",
       "  <tbody>\n",
       "    <tr>\n",
       "      <th>a</th>\n",
       "      <td>red</td>\n",
       "      <td>10</td>\n",
       "    </tr>\n",
       "    <tr>\n",
       "      <th>b</th>\n",
       "      <td>green</td>\n",
       "      <td>34</td>\n",
       "    </tr>\n",
       "    <tr>\n",
       "      <th>c</th>\n",
       "      <td>yellow</td>\n",
       "      <td>43</td>\n",
       "    </tr>\n",
       "    <tr>\n",
       "      <th>d</th>\n",
       "      <td>blue</td>\n",
       "      <td>23</td>\n",
       "    </tr>\n",
       "  </tbody>\n",
       "</table>\n",
       "</div>"
      ],
      "text/plain": [
       "   colors  Availibility\n",
       "a     red            10\n",
       "b   green            34\n",
       "c  yellow            43\n",
       "d    blue            23"
      ]
     },
     "execution_count": 14,
     "metadata": {},
     "output_type": "execute_result"
    }
   ],
   "source": [
    "stock = pd.DataFrame(data,index=['a','b','c','d'])\n",
    "stock"
   ]
  },
  {
   "cell_type": "code",
   "execution_count": 25,
   "id": "cee10981",
   "metadata": {},
   "outputs": [
    {
     "name": "stdout",
     "output_type": "stream",
     "text": [
      "colors          red\n",
      "Availibility     10\n",
      "Name: a, dtype: object \n",
      "\n",
      "forward slash n works as new line in pyhton too\n",
      "colors          green\n",
      "Availibility       34\n",
      "Name: b, dtype: object\n"
     ]
    }
   ],
   "source": [
    "print(stock.loc['a'],\"\\n\")\n",
    "print(\"forward slash n works as new line in pyhton too\")\n",
    "print(stock.loc['b'])"
   ]
  },
  {
   "cell_type": "code",
   "execution_count": 30,
   "id": "eddd1f0a",
   "metadata": {},
   "outputs": [
    {
     "name": "stdout",
     "output_type": "stream",
     "text": [
      "   colors\n",
      "a     red\n",
      "b   green\n",
      "c  yellow\n"
     ]
    },
    {
     "data": {
      "text/html": [
       "<div>\n",
       "<style scoped>\n",
       "    .dataframe tbody tr th:only-of-type {\n",
       "        vertical-align: middle;\n",
       "    }\n",
       "\n",
       "    .dataframe tbody tr th {\n",
       "        vertical-align: top;\n",
       "    }\n",
       "\n",
       "    .dataframe thead th {\n",
       "        text-align: right;\n",
       "    }\n",
       "</style>\n",
       "<table border=\"1\" class=\"dataframe\">\n",
       "  <thead>\n",
       "    <tr style=\"text-align: right;\">\n",
       "      <th></th>\n",
       "      <th>colors</th>\n",
       "    </tr>\n",
       "  </thead>\n",
       "  <tbody>\n",
       "    <tr>\n",
       "      <th>a</th>\n",
       "      <td>red</td>\n",
       "    </tr>\n",
       "    <tr>\n",
       "      <th>b</th>\n",
       "      <td>green</td>\n",
       "    </tr>\n",
       "    <tr>\n",
       "      <th>c</th>\n",
       "      <td>yellow</td>\n",
       "    </tr>\n",
       "    <tr>\n",
       "      <th>d</th>\n",
       "      <td>blue</td>\n",
       "    </tr>\n",
       "  </tbody>\n",
       "</table>\n",
       "</div>"
      ],
      "text/plain": [
       "   colors\n",
       "a     red\n",
       "b   green\n",
       "c  yellow\n",
       "d    blue"
      ]
     },
     "execution_count": 30,
     "metadata": {},
     "output_type": "execute_result"
    }
   ],
   "source": [
    "print(stock.loc['a':'c',[\"colors\"]])\n",
    "# C is included in this case : \n",
    "stock.loc[:,[\"colors\"]]"
   ]
  },
  {
   "cell_type": "code",
   "execution_count": 32,
   "id": "1538aa5a",
   "metadata": {},
   "outputs": [
    {
     "name": "stdout",
     "output_type": "stream",
     "text": [
      "34\n"
     ]
    }
   ],
   "source": [
    "print(stock.iloc[1,1])\n",
    "#  Prints the 1,1 th value in the dataFrame : "
   ]
  },
  {
   "cell_type": "code",
   "execution_count": 33,
   "id": "16e060f2",
   "metadata": {},
   "outputs": [
    {
     "name": "stdout",
     "output_type": "stream",
     "text": [
      "a    10\n",
      "b    34\n",
      "c    43\n",
      "d    23\n",
      "Name: Availibility, dtype: int64\n"
     ]
    }
   ],
   "source": [
    "print(stock.iloc[:,1])"
   ]
  },
  {
   "cell_type": "code",
   "execution_count": 34,
   "id": "64ccf9c9",
   "metadata": {},
   "outputs": [
    {
     "name": "stdout",
     "output_type": "stream",
     "text": [
      "  colors  Availibility\n",
      "d   blue            23\n"
     ]
    }
   ],
   "source": [
    "print(stock.iloc[[-1]])"
   ]
  },
  {
   "cell_type": "code",
   "execution_count": 35,
   "id": "150ce0cc",
   "metadata": {},
   "outputs": [
    {
     "name": "stdout",
     "output_type": "stream",
     "text": [
      "a    10\n",
      "b    34\n",
      "c    43\n",
      "d    23\n",
      "Name: Availibility, dtype: int64\n"
     ]
    }
   ],
   "source": [
    "print(stock.iloc[:,-1])"
   ]
  },
  {
   "cell_type": "code",
   "execution_count": 38,
   "id": "108e8f72",
   "metadata": {},
   "outputs": [
    {
     "name": "stdout",
     "output_type": "stream",
     "text": [
      "   colors  Availibility\n",
      "a     red            10\n",
      "b   green            34\n",
      "c  yellow            43\n"
     ]
    }
   ],
   "source": [
    "print(stock.iloc[:-1])\n",
    "# Descard the last row and print the others:"
   ]
  },
  {
   "cell_type": "markdown",
   "id": "e7288ec0",
   "metadata": {},
   "source": [
    "# Mergign  DataFrames:"
   ]
  },
  {
   "cell_type": "code",
   "execution_count": 41,
   "id": "47baec47",
   "metadata": {},
   "outputs": [
    {
     "name": "stdout",
     "output_type": "stream",
     "text": [
      "{'Items': ['ball', 'book', 'pen', 'chair'], 'price': [10, 50, 5, 24], 'colors': ['red', 'green', 'yellow', 'black']} \n",
      "\n"
     ]
    },
    {
     "data": {
      "text/html": [
       "<div>\n",
       "<style scoped>\n",
       "    .dataframe tbody tr th:only-of-type {\n",
       "        vertical-align: middle;\n",
       "    }\n",
       "\n",
       "    .dataframe tbody tr th {\n",
       "        vertical-align: top;\n",
       "    }\n",
       "\n",
       "    .dataframe thead th {\n",
       "        text-align: right;\n",
       "    }\n",
       "</style>\n",
       "<table border=\"1\" class=\"dataframe\">\n",
       "  <thead>\n",
       "    <tr style=\"text-align: right;\">\n",
       "      <th></th>\n",
       "      <th>Items</th>\n",
       "      <th>price</th>\n",
       "      <th>colors</th>\n",
       "    </tr>\n",
       "  </thead>\n",
       "  <tbody>\n",
       "    <tr>\n",
       "      <th>0</th>\n",
       "      <td>ball</td>\n",
       "      <td>10</td>\n",
       "      <td>red</td>\n",
       "    </tr>\n",
       "    <tr>\n",
       "      <th>1</th>\n",
       "      <td>book</td>\n",
       "      <td>50</td>\n",
       "      <td>green</td>\n",
       "    </tr>\n",
       "    <tr>\n",
       "      <th>2</th>\n",
       "      <td>pen</td>\n",
       "      <td>5</td>\n",
       "      <td>yellow</td>\n",
       "    </tr>\n",
       "    <tr>\n",
       "      <th>3</th>\n",
       "      <td>chair</td>\n",
       "      <td>24</td>\n",
       "      <td>black</td>\n",
       "    </tr>\n",
       "  </tbody>\n",
       "</table>\n",
       "</div>"
      ],
      "text/plain": [
       "   Items  price  colors\n",
       "0   ball     10     red\n",
       "1   book     50   green\n",
       "2    pen      5  yellow\n",
       "3  chair     24   black"
      ]
     },
     "execution_count": 41,
     "metadata": {},
     "output_type": "execute_result"
    }
   ],
   "source": [
    "item={\n",
    "    \"Items\":[\"ball\",\"book\",'pen',\"chair\"],\n",
    "    \"price\":[10,50,5,24],\n",
    "    'colors':['red','green','yellow','black']\n",
    "}\n",
    "print(item,\"\\n\")\n",
    "item_data= pd.DataFrame(item)\n",
    "item_data"
   ]
  },
  {
   "cell_type": "code",
   "execution_count": 45,
   "id": "f57ed24b",
   "metadata": {},
   "outputs": [
    {
     "data": {
      "text/html": [
       "<div>\n",
       "<style scoped>\n",
       "    .dataframe tbody tr th:only-of-type {\n",
       "        vertical-align: middle;\n",
       "    }\n",
       "\n",
       "    .dataframe tbody tr th {\n",
       "        vertical-align: top;\n",
       "    }\n",
       "\n",
       "    .dataframe thead th {\n",
       "        text-align: right;\n",
       "    }\n",
       "</style>\n",
       "<table border=\"1\" class=\"dataframe\">\n",
       "  <thead>\n",
       "    <tr style=\"text-align: right;\">\n",
       "      <th></th>\n",
       "      <th>Items</th>\n",
       "      <th>price</th>\n",
       "      <th>colors</th>\n",
       "      <th>Availibility</th>\n",
       "    </tr>\n",
       "  </thead>\n",
       "  <tbody>\n",
       "    <tr>\n",
       "      <th>0</th>\n",
       "      <td>ball</td>\n",
       "      <td>10</td>\n",
       "      <td>red</td>\n",
       "      <td>10</td>\n",
       "    </tr>\n",
       "    <tr>\n",
       "      <th>1</th>\n",
       "      <td>book</td>\n",
       "      <td>50</td>\n",
       "      <td>green</td>\n",
       "      <td>34</td>\n",
       "    </tr>\n",
       "    <tr>\n",
       "      <th>2</th>\n",
       "      <td>pen</td>\n",
       "      <td>5</td>\n",
       "      <td>yellow</td>\n",
       "      <td>43</td>\n",
       "    </tr>\n",
       "  </tbody>\n",
       "</table>\n",
       "</div>"
      ],
      "text/plain": [
       "  Items  price  colors  Availibility\n",
       "0  ball     10     red            10\n",
       "1  book     50   green            34\n",
       "2   pen      5  yellow            43"
      ]
     },
     "execution_count": 45,
     "metadata": {},
     "output_type": "execute_result"
    }
   ],
   "source": [
    "# Merging the DataFrames:\n",
    "merge1=pd.merge(item_data,stock,on=\"colors\")\n",
    "merge1\n",
    "# We must use the things in Common: "
   ]
  },
  {
   "cell_type": "code",
   "execution_count": 47,
   "id": "6bcd17ea",
   "metadata": {},
   "outputs": [
    {
     "data": {
      "text/html": [
       "<div>\n",
       "<style scoped>\n",
       "    .dataframe tbody tr th:only-of-type {\n",
       "        vertical-align: middle;\n",
       "    }\n",
       "\n",
       "    .dataframe tbody tr th {\n",
       "        vertical-align: top;\n",
       "    }\n",
       "\n",
       "    .dataframe thead th {\n",
       "        text-align: right;\n",
       "    }\n",
       "</style>\n",
       "<table border=\"1\" class=\"dataframe\">\n",
       "  <thead>\n",
       "    <tr style=\"text-align: right;\">\n",
       "      <th></th>\n",
       "      <th>Items</th>\n",
       "      <th>price</th>\n",
       "      <th>colors</th>\n",
       "      <th>colors</th>\n",
       "      <th>Availibility</th>\n",
       "    </tr>\n",
       "  </thead>\n",
       "  <tbody>\n",
       "    <tr>\n",
       "      <th>0</th>\n",
       "      <td>ball</td>\n",
       "      <td>10.0</td>\n",
       "      <td>red</td>\n",
       "      <td>NaN</td>\n",
       "      <td>NaN</td>\n",
       "    </tr>\n",
       "    <tr>\n",
       "      <th>1</th>\n",
       "      <td>book</td>\n",
       "      <td>50.0</td>\n",
       "      <td>green</td>\n",
       "      <td>NaN</td>\n",
       "      <td>NaN</td>\n",
       "    </tr>\n",
       "    <tr>\n",
       "      <th>2</th>\n",
       "      <td>pen</td>\n",
       "      <td>5.0</td>\n",
       "      <td>yellow</td>\n",
       "      <td>NaN</td>\n",
       "      <td>NaN</td>\n",
       "    </tr>\n",
       "    <tr>\n",
       "      <th>3</th>\n",
       "      <td>chair</td>\n",
       "      <td>24.0</td>\n",
       "      <td>black</td>\n",
       "      <td>NaN</td>\n",
       "      <td>NaN</td>\n",
       "    </tr>\n",
       "    <tr>\n",
       "      <th>a</th>\n",
       "      <td>NaN</td>\n",
       "      <td>NaN</td>\n",
       "      <td>NaN</td>\n",
       "      <td>red</td>\n",
       "      <td>10.0</td>\n",
       "    </tr>\n",
       "    <tr>\n",
       "      <th>b</th>\n",
       "      <td>NaN</td>\n",
       "      <td>NaN</td>\n",
       "      <td>NaN</td>\n",
       "      <td>green</td>\n",
       "      <td>34.0</td>\n",
       "    </tr>\n",
       "    <tr>\n",
       "      <th>c</th>\n",
       "      <td>NaN</td>\n",
       "      <td>NaN</td>\n",
       "      <td>NaN</td>\n",
       "      <td>yellow</td>\n",
       "      <td>43.0</td>\n",
       "    </tr>\n",
       "    <tr>\n",
       "      <th>d</th>\n",
       "      <td>NaN</td>\n",
       "      <td>NaN</td>\n",
       "      <td>NaN</td>\n",
       "      <td>blue</td>\n",
       "      <td>23.0</td>\n",
       "    </tr>\n",
       "  </tbody>\n",
       "</table>\n",
       "</div>"
      ],
      "text/plain": [
       "   Items  price  colors  colors  Availibility\n",
       "0   ball   10.0     red     NaN           NaN\n",
       "1   book   50.0   green     NaN           NaN\n",
       "2    pen    5.0  yellow     NaN           NaN\n",
       "3  chair   24.0   black     NaN           NaN\n",
       "a    NaN    NaN     NaN     red          10.0\n",
       "b    NaN    NaN     NaN   green          34.0\n",
       "c    NaN    NaN     NaN  yellow          43.0\n",
       "d    NaN    NaN     NaN    blue          23.0"
      ]
     },
     "execution_count": 47,
     "metadata": {},
     "output_type": "execute_result"
    }
   ],
   "source": [
    "# Concatenating \n",
    "con=pd.concat([item_data,stock],axis=1)\n",
    "con"
   ]
  },
  {
   "cell_type": "code",
   "execution_count": 50,
   "id": "f8c556a4",
   "metadata": {},
   "outputs": [
    {
     "name": "stderr",
     "output_type": "stream",
     "text": [
      "C:\\Users\\Public\\anaconda3\\lib\\site-packages\\IPython\\core\\interactiveshell.py:3444: DtypeWarning: Columns (3,4,5,6,12) have mixed types.Specify dtype option on import or set low_memory=False.\n",
      "  exec(code_obj, self.user_global_ns, self.user_ns)\n"
     ]
    }
   ],
   "source": [
    "data=pd.read_csv(\"salaries.csv\")"
   ]
  },
  {
   "cell_type": "code",
   "execution_count": 54,
   "id": "85b7fce9",
   "metadata": {},
   "outputs": [
    {
     "data": {
      "text/html": [
       "<div>\n",
       "<style scoped>\n",
       "    .dataframe tbody tr th:only-of-type {\n",
       "        vertical-align: middle;\n",
       "    }\n",
       "\n",
       "    .dataframe tbody tr th {\n",
       "        vertical-align: top;\n",
       "    }\n",
       "\n",
       "    .dataframe thead th {\n",
       "        text-align: right;\n",
       "    }\n",
       "</style>\n",
       "<table border=\"1\" class=\"dataframe\">\n",
       "  <thead>\n",
       "    <tr style=\"text-align: right;\">\n",
       "      <th></th>\n",
       "      <th>Id</th>\n",
       "      <th>EmployeeName</th>\n",
       "      <th>JobTitle</th>\n",
       "      <th>BasePay</th>\n",
       "      <th>OvertimePay</th>\n",
       "      <th>OtherPay</th>\n",
       "      <th>Benefits</th>\n",
       "      <th>TotalPay</th>\n",
       "      <th>TotalPayBenefits</th>\n",
       "      <th>Year</th>\n",
       "      <th>Notes</th>\n",
       "      <th>Agency</th>\n",
       "      <th>Status</th>\n",
       "    </tr>\n",
       "  </thead>\n",
       "  <tbody>\n",
       "    <tr>\n",
       "      <th>0</th>\n",
       "      <td>1</td>\n",
       "      <td>NATHANIEL FORD</td>\n",
       "      <td>GENERAL MANAGER-METROPOLITAN TRANSIT AUTHORITY</td>\n",
       "      <td>167411.18</td>\n",
       "      <td>0.0</td>\n",
       "      <td>400184.25</td>\n",
       "      <td>NaN</td>\n",
       "      <td>567595.43</td>\n",
       "      <td>567595.43</td>\n",
       "      <td>2011</td>\n",
       "      <td>NaN</td>\n",
       "      <td>San Francisco</td>\n",
       "      <td>NaN</td>\n",
       "    </tr>\n",
       "    <tr>\n",
       "      <th>1</th>\n",
       "      <td>2</td>\n",
       "      <td>GARY JIMENEZ</td>\n",
       "      <td>CAPTAIN III (POLICE DEPARTMENT)</td>\n",
       "      <td>155966.02</td>\n",
       "      <td>245131.88</td>\n",
       "      <td>137811.38</td>\n",
       "      <td>NaN</td>\n",
       "      <td>538909.28</td>\n",
       "      <td>538909.28</td>\n",
       "      <td>2011</td>\n",
       "      <td>NaN</td>\n",
       "      <td>San Francisco</td>\n",
       "      <td>NaN</td>\n",
       "    </tr>\n",
       "    <tr>\n",
       "      <th>2</th>\n",
       "      <td>3</td>\n",
       "      <td>ALBERT PARDINI</td>\n",
       "      <td>CAPTAIN III (POLICE DEPARTMENT)</td>\n",
       "      <td>212739.13</td>\n",
       "      <td>106088.18</td>\n",
       "      <td>16452.6</td>\n",
       "      <td>NaN</td>\n",
       "      <td>335279.91</td>\n",
       "      <td>335279.91</td>\n",
       "      <td>2011</td>\n",
       "      <td>NaN</td>\n",
       "      <td>San Francisco</td>\n",
       "      <td>NaN</td>\n",
       "    </tr>\n",
       "    <tr>\n",
       "      <th>3</th>\n",
       "      <td>4</td>\n",
       "      <td>CHRISTOPHER CHONG</td>\n",
       "      <td>WIRE ROPE CABLE MAINTENANCE MECHANIC</td>\n",
       "      <td>77916.0</td>\n",
       "      <td>56120.71</td>\n",
       "      <td>198306.9</td>\n",
       "      <td>NaN</td>\n",
       "      <td>332343.61</td>\n",
       "      <td>332343.61</td>\n",
       "      <td>2011</td>\n",
       "      <td>NaN</td>\n",
       "      <td>San Francisco</td>\n",
       "      <td>NaN</td>\n",
       "    </tr>\n",
       "    <tr>\n",
       "      <th>4</th>\n",
       "      <td>5</td>\n",
       "      <td>PATRICK GARDNER</td>\n",
       "      <td>DEPUTY CHIEF OF DEPARTMENT,(FIRE DEPARTMENT)</td>\n",
       "      <td>134401.6</td>\n",
       "      <td>9737.0</td>\n",
       "      <td>182234.59</td>\n",
       "      <td>NaN</td>\n",
       "      <td>326373.19</td>\n",
       "      <td>326373.19</td>\n",
       "      <td>2011</td>\n",
       "      <td>NaN</td>\n",
       "      <td>San Francisco</td>\n",
       "      <td>NaN</td>\n",
       "    </tr>\n",
       "    <tr>\n",
       "      <th>5</th>\n",
       "      <td>6</td>\n",
       "      <td>DAVID SULLIVAN</td>\n",
       "      <td>ASSISTANT DEPUTY CHIEF II</td>\n",
       "      <td>118602.0</td>\n",
       "      <td>8601.0</td>\n",
       "      <td>189082.74</td>\n",
       "      <td>NaN</td>\n",
       "      <td>316285.74</td>\n",
       "      <td>316285.74</td>\n",
       "      <td>2011</td>\n",
       "      <td>NaN</td>\n",
       "      <td>San Francisco</td>\n",
       "      <td>NaN</td>\n",
       "    </tr>\n",
       "    <tr>\n",
       "      <th>6</th>\n",
       "      <td>7</td>\n",
       "      <td>ALSON LEE</td>\n",
       "      <td>BATTALION CHIEF, (FIRE DEPARTMENT)</td>\n",
       "      <td>92492.01</td>\n",
       "      <td>89062.9</td>\n",
       "      <td>134426.14</td>\n",
       "      <td>NaN</td>\n",
       "      <td>315981.05</td>\n",
       "      <td>315981.05</td>\n",
       "      <td>2011</td>\n",
       "      <td>NaN</td>\n",
       "      <td>San Francisco</td>\n",
       "      <td>NaN</td>\n",
       "    </tr>\n",
       "    <tr>\n",
       "      <th>7</th>\n",
       "      <td>8</td>\n",
       "      <td>DAVID KUSHNER</td>\n",
       "      <td>DEPUTY DIRECTOR OF INVESTMENTS</td>\n",
       "      <td>256576.96</td>\n",
       "      <td>0.0</td>\n",
       "      <td>51322.5</td>\n",
       "      <td>NaN</td>\n",
       "      <td>307899.46</td>\n",
       "      <td>307899.46</td>\n",
       "      <td>2011</td>\n",
       "      <td>NaN</td>\n",
       "      <td>San Francisco</td>\n",
       "      <td>NaN</td>\n",
       "    </tr>\n",
       "    <tr>\n",
       "      <th>8</th>\n",
       "      <td>9</td>\n",
       "      <td>MICHAEL MORRIS</td>\n",
       "      <td>BATTALION CHIEF, (FIRE DEPARTMENT)</td>\n",
       "      <td>176932.64</td>\n",
       "      <td>86362.68</td>\n",
       "      <td>40132.23</td>\n",
       "      <td>NaN</td>\n",
       "      <td>303427.55</td>\n",
       "      <td>303427.55</td>\n",
       "      <td>2011</td>\n",
       "      <td>NaN</td>\n",
       "      <td>San Francisco</td>\n",
       "      <td>NaN</td>\n",
       "    </tr>\n",
       "    <tr>\n",
       "      <th>9</th>\n",
       "      <td>10</td>\n",
       "      <td>JOANNE HAYES-WHITE</td>\n",
       "      <td>CHIEF OF DEPARTMENT, (FIRE DEPARTMENT)</td>\n",
       "      <td>285262.0</td>\n",
       "      <td>0.0</td>\n",
       "      <td>17115.73</td>\n",
       "      <td>NaN</td>\n",
       "      <td>302377.73</td>\n",
       "      <td>302377.73</td>\n",
       "      <td>2011</td>\n",
       "      <td>NaN</td>\n",
       "      <td>San Francisco</td>\n",
       "      <td>NaN</td>\n",
       "    </tr>\n",
       "  </tbody>\n",
       "</table>\n",
       "</div>"
      ],
      "text/plain": [
       "   Id        EmployeeName                                        JobTitle  \\\n",
       "0   1      NATHANIEL FORD  GENERAL MANAGER-METROPOLITAN TRANSIT AUTHORITY   \n",
       "1   2        GARY JIMENEZ                 CAPTAIN III (POLICE DEPARTMENT)   \n",
       "2   3      ALBERT PARDINI                 CAPTAIN III (POLICE DEPARTMENT)   \n",
       "3   4   CHRISTOPHER CHONG            WIRE ROPE CABLE MAINTENANCE MECHANIC   \n",
       "4   5     PATRICK GARDNER    DEPUTY CHIEF OF DEPARTMENT,(FIRE DEPARTMENT)   \n",
       "5   6      DAVID SULLIVAN                       ASSISTANT DEPUTY CHIEF II   \n",
       "6   7           ALSON LEE              BATTALION CHIEF, (FIRE DEPARTMENT)   \n",
       "7   8       DAVID KUSHNER                  DEPUTY DIRECTOR OF INVESTMENTS   \n",
       "8   9      MICHAEL MORRIS              BATTALION CHIEF, (FIRE DEPARTMENT)   \n",
       "9  10  JOANNE HAYES-WHITE          CHIEF OF DEPARTMENT, (FIRE DEPARTMENT)   \n",
       "\n",
       "     BasePay OvertimePay   OtherPay Benefits   TotalPay  TotalPayBenefits  \\\n",
       "0  167411.18         0.0  400184.25      NaN  567595.43         567595.43   \n",
       "1  155966.02   245131.88  137811.38      NaN  538909.28         538909.28   \n",
       "2  212739.13   106088.18    16452.6      NaN  335279.91         335279.91   \n",
       "3    77916.0    56120.71   198306.9      NaN  332343.61         332343.61   \n",
       "4   134401.6      9737.0  182234.59      NaN  326373.19         326373.19   \n",
       "5   118602.0      8601.0  189082.74      NaN  316285.74         316285.74   \n",
       "6   92492.01     89062.9  134426.14      NaN  315981.05         315981.05   \n",
       "7  256576.96         0.0    51322.5      NaN  307899.46         307899.46   \n",
       "8  176932.64    86362.68   40132.23      NaN  303427.55         303427.55   \n",
       "9   285262.0         0.0   17115.73      NaN  302377.73         302377.73   \n",
       "\n",
       "   Year  Notes         Agency Status  \n",
       "0  2011    NaN  San Francisco    NaN  \n",
       "1  2011    NaN  San Francisco    NaN  \n",
       "2  2011    NaN  San Francisco    NaN  \n",
       "3  2011    NaN  San Francisco    NaN  \n",
       "4  2011    NaN  San Francisco    NaN  \n",
       "5  2011    NaN  San Francisco    NaN  \n",
       "6  2011    NaN  San Francisco    NaN  \n",
       "7  2011    NaN  San Francisco    NaN  \n",
       "8  2011    NaN  San Francisco    NaN  \n",
       "9  2011    NaN  San Francisco    NaN  "
      ]
     },
     "execution_count": 54,
     "metadata": {},
     "output_type": "execute_result"
    }
   ],
   "source": [
    "data.head(10)"
   ]
  },
  {
   "cell_type": "code",
   "execution_count": 55,
   "id": "a79b0ea3",
   "metadata": {},
   "outputs": [],
   "source": [
    "# tab after writting halfway"
   ]
  },
  {
   "cell_type": "code",
   "execution_count": 56,
   "id": "db4ea4b6",
   "metadata": {},
   "outputs": [
    {
     "data": {
      "text/html": [
       "<div>\n",
       "<style scoped>\n",
       "    .dataframe tbody tr th:only-of-type {\n",
       "        vertical-align: middle;\n",
       "    }\n",
       "\n",
       "    .dataframe tbody tr th {\n",
       "        vertical-align: top;\n",
       "    }\n",
       "\n",
       "    .dataframe thead th {\n",
       "        text-align: right;\n",
       "    }\n",
       "</style>\n",
       "<table border=\"1\" class=\"dataframe\">\n",
       "  <thead>\n",
       "    <tr style=\"text-align: right;\">\n",
       "      <th></th>\n",
       "      <th>Id</th>\n",
       "      <th>EmployeeName</th>\n",
       "      <th>JobTitle</th>\n",
       "      <th>BasePay</th>\n",
       "      <th>OvertimePay</th>\n",
       "      <th>OtherPay</th>\n",
       "      <th>Benefits</th>\n",
       "      <th>TotalPay</th>\n",
       "      <th>TotalPayBenefits</th>\n",
       "      <th>Year</th>\n",
       "      <th>Notes</th>\n",
       "      <th>Agency</th>\n",
       "      <th>Status</th>\n",
       "    </tr>\n",
       "  </thead>\n",
       "  <tbody>\n",
       "    <tr>\n",
       "      <th>148644</th>\n",
       "      <td>148645</td>\n",
       "      <td>Randy D Winn</td>\n",
       "      <td>Stationary Eng, Sewage Plant</td>\n",
       "      <td>0.00</td>\n",
       "      <td>0.00</td>\n",
       "      <td>0.00</td>\n",
       "      <td>0.00</td>\n",
       "      <td>0.00</td>\n",
       "      <td>0.00</td>\n",
       "      <td>2014</td>\n",
       "      <td>NaN</td>\n",
       "      <td>San Francisco</td>\n",
       "      <td>PT</td>\n",
       "    </tr>\n",
       "    <tr>\n",
       "      <th>148645</th>\n",
       "      <td>148646</td>\n",
       "      <td>Carolyn A Wilson</td>\n",
       "      <td>Human Services Technician</td>\n",
       "      <td>0.00</td>\n",
       "      <td>0.00</td>\n",
       "      <td>0.00</td>\n",
       "      <td>0.00</td>\n",
       "      <td>0.00</td>\n",
       "      <td>0.00</td>\n",
       "      <td>2014</td>\n",
       "      <td>NaN</td>\n",
       "      <td>San Francisco</td>\n",
       "      <td>PT</td>\n",
       "    </tr>\n",
       "    <tr>\n",
       "      <th>148646</th>\n",
       "      <td>148647</td>\n",
       "      <td>Not provided</td>\n",
       "      <td>Not provided</td>\n",
       "      <td>Not Provided</td>\n",
       "      <td>Not Provided</td>\n",
       "      <td>Not Provided</td>\n",
       "      <td>Not Provided</td>\n",
       "      <td>0.00</td>\n",
       "      <td>0.00</td>\n",
       "      <td>2014</td>\n",
       "      <td>NaN</td>\n",
       "      <td>San Francisco</td>\n",
       "      <td>NaN</td>\n",
       "    </tr>\n",
       "    <tr>\n",
       "      <th>148647</th>\n",
       "      <td>148648</td>\n",
       "      <td>Joann Anderson</td>\n",
       "      <td>Communications Dispatcher 2</td>\n",
       "      <td>0.00</td>\n",
       "      <td>0.00</td>\n",
       "      <td>0.00</td>\n",
       "      <td>0.00</td>\n",
       "      <td>0.00</td>\n",
       "      <td>0.00</td>\n",
       "      <td>2014</td>\n",
       "      <td>NaN</td>\n",
       "      <td>San Francisco</td>\n",
       "      <td>PT</td>\n",
       "    </tr>\n",
       "    <tr>\n",
       "      <th>148648</th>\n",
       "      <td>148649</td>\n",
       "      <td>Leon Walker</td>\n",
       "      <td>Custodian</td>\n",
       "      <td>0.00</td>\n",
       "      <td>0.00</td>\n",
       "      <td>0.00</td>\n",
       "      <td>0.00</td>\n",
       "      <td>0.00</td>\n",
       "      <td>0.00</td>\n",
       "      <td>2014</td>\n",
       "      <td>NaN</td>\n",
       "      <td>San Francisco</td>\n",
       "      <td>PT</td>\n",
       "    </tr>\n",
       "    <tr>\n",
       "      <th>148649</th>\n",
       "      <td>148650</td>\n",
       "      <td>Roy I Tillery</td>\n",
       "      <td>Custodian</td>\n",
       "      <td>0.00</td>\n",
       "      <td>0.00</td>\n",
       "      <td>0.00</td>\n",
       "      <td>0.00</td>\n",
       "      <td>0.00</td>\n",
       "      <td>0.00</td>\n",
       "      <td>2014</td>\n",
       "      <td>NaN</td>\n",
       "      <td>San Francisco</td>\n",
       "      <td>PT</td>\n",
       "    </tr>\n",
       "    <tr>\n",
       "      <th>148650</th>\n",
       "      <td>148651</td>\n",
       "      <td>Not provided</td>\n",
       "      <td>Not provided</td>\n",
       "      <td>Not Provided</td>\n",
       "      <td>Not Provided</td>\n",
       "      <td>Not Provided</td>\n",
       "      <td>Not Provided</td>\n",
       "      <td>0.00</td>\n",
       "      <td>0.00</td>\n",
       "      <td>2014</td>\n",
       "      <td>NaN</td>\n",
       "      <td>San Francisco</td>\n",
       "      <td>NaN</td>\n",
       "    </tr>\n",
       "    <tr>\n",
       "      <th>148651</th>\n",
       "      <td>148652</td>\n",
       "      <td>Not provided</td>\n",
       "      <td>Not provided</td>\n",
       "      <td>Not Provided</td>\n",
       "      <td>Not Provided</td>\n",
       "      <td>Not Provided</td>\n",
       "      <td>Not Provided</td>\n",
       "      <td>0.00</td>\n",
       "      <td>0.00</td>\n",
       "      <td>2014</td>\n",
       "      <td>NaN</td>\n",
       "      <td>San Francisco</td>\n",
       "      <td>NaN</td>\n",
       "    </tr>\n",
       "    <tr>\n",
       "      <th>148652</th>\n",
       "      <td>148653</td>\n",
       "      <td>Not provided</td>\n",
       "      <td>Not provided</td>\n",
       "      <td>Not Provided</td>\n",
       "      <td>Not Provided</td>\n",
       "      <td>Not Provided</td>\n",
       "      <td>Not Provided</td>\n",
       "      <td>0.00</td>\n",
       "      <td>0.00</td>\n",
       "      <td>2014</td>\n",
       "      <td>NaN</td>\n",
       "      <td>San Francisco</td>\n",
       "      <td>NaN</td>\n",
       "    </tr>\n",
       "    <tr>\n",
       "      <th>148653</th>\n",
       "      <td>148654</td>\n",
       "      <td>Joe Lopez</td>\n",
       "      <td>Counselor, Log Cabin Ranch</td>\n",
       "      <td>0.00</td>\n",
       "      <td>0.00</td>\n",
       "      <td>-618.13</td>\n",
       "      <td>0.00</td>\n",
       "      <td>-618.13</td>\n",
       "      <td>-618.13</td>\n",
       "      <td>2014</td>\n",
       "      <td>NaN</td>\n",
       "      <td>San Francisco</td>\n",
       "      <td>PT</td>\n",
       "    </tr>\n",
       "  </tbody>\n",
       "</table>\n",
       "</div>"
      ],
      "text/plain": [
       "            Id      EmployeeName                      JobTitle       BasePay  \\\n",
       "148644  148645      Randy D Winn  Stationary Eng, Sewage Plant          0.00   \n",
       "148645  148646  Carolyn A Wilson     Human Services Technician          0.00   \n",
       "148646  148647      Not provided                  Not provided  Not Provided   \n",
       "148647  148648    Joann Anderson   Communications Dispatcher 2          0.00   \n",
       "148648  148649       Leon Walker                     Custodian          0.00   \n",
       "148649  148650     Roy I Tillery                     Custodian          0.00   \n",
       "148650  148651      Not provided                  Not provided  Not Provided   \n",
       "148651  148652      Not provided                  Not provided  Not Provided   \n",
       "148652  148653      Not provided                  Not provided  Not Provided   \n",
       "148653  148654         Joe Lopez    Counselor, Log Cabin Ranch          0.00   \n",
       "\n",
       "         OvertimePay      OtherPay      Benefits  TotalPay  TotalPayBenefits  \\\n",
       "148644          0.00          0.00          0.00      0.00              0.00   \n",
       "148645          0.00          0.00          0.00      0.00              0.00   \n",
       "148646  Not Provided  Not Provided  Not Provided      0.00              0.00   \n",
       "148647          0.00          0.00          0.00      0.00              0.00   \n",
       "148648          0.00          0.00          0.00      0.00              0.00   \n",
       "148649          0.00          0.00          0.00      0.00              0.00   \n",
       "148650  Not Provided  Not Provided  Not Provided      0.00              0.00   \n",
       "148651  Not Provided  Not Provided  Not Provided      0.00              0.00   \n",
       "148652  Not Provided  Not Provided  Not Provided      0.00              0.00   \n",
       "148653          0.00       -618.13          0.00   -618.13           -618.13   \n",
       "\n",
       "        Year  Notes         Agency Status  \n",
       "148644  2014    NaN  San Francisco     PT  \n",
       "148645  2014    NaN  San Francisco     PT  \n",
       "148646  2014    NaN  San Francisco    NaN  \n",
       "148647  2014    NaN  San Francisco     PT  \n",
       "148648  2014    NaN  San Francisco     PT  \n",
       "148649  2014    NaN  San Francisco     PT  \n",
       "148650  2014    NaN  San Francisco    NaN  \n",
       "148651  2014    NaN  San Francisco    NaN  \n",
       "148652  2014    NaN  San Francisco    NaN  \n",
       "148653  2014    NaN  San Francisco     PT  "
      ]
     },
     "execution_count": 56,
     "metadata": {},
     "output_type": "execute_result"
    }
   ],
   "source": [
    "data.tail(10)"
   ]
  },
  {
   "cell_type": "code",
   "execution_count": 58,
   "id": "c6358652",
   "metadata": {},
   "outputs": [
    {
     "data": {
      "text/plain": [
       "(148654, 13)"
      ]
     },
     "execution_count": 58,
     "metadata": {},
     "output_type": "execute_result"
    }
   ],
   "source": [
    "data.shape\n",
    "# Row,col"
   ]
  },
  {
   "cell_type": "code",
   "execution_count": 59,
   "id": "be5ebd5d",
   "metadata": {},
   "outputs": [
    {
     "name": "stdout",
     "output_type": "stream",
     "text": [
      "<class 'pandas.core.frame.DataFrame'>\n",
      "RangeIndex: 148654 entries, 0 to 148653\n",
      "Data columns (total 13 columns):\n",
      " #   Column            Non-Null Count   Dtype  \n",
      "---  ------            --------------   -----  \n",
      " 0   Id                148654 non-null  int64  \n",
      " 1   EmployeeName      148654 non-null  object \n",
      " 2   JobTitle          148654 non-null  object \n",
      " 3   BasePay           148049 non-null  object \n",
      " 4   OvertimePay       148654 non-null  object \n",
      " 5   OtherPay          148654 non-null  object \n",
      " 6   Benefits          112495 non-null  object \n",
      " 7   TotalPay          148654 non-null  float64\n",
      " 8   TotalPayBenefits  148654 non-null  float64\n",
      " 9   Year              148654 non-null  int64  \n",
      " 10  Notes             0 non-null       float64\n",
      " 11  Agency            148654 non-null  object \n",
      " 12  Status            38119 non-null   object \n",
      "dtypes: float64(3), int64(2), object(8)\n",
      "memory usage: 14.7+ MB\n"
     ]
    }
   ],
   "source": [
    "data.info()"
   ]
  },
  {
   "cell_type": "code",
   "execution_count": 60,
   "id": "998dd663",
   "metadata": {},
   "outputs": [],
   "source": [
    "# Null Valaues in DataSet"
   ]
  },
  {
   "cell_type": "code",
   "execution_count": 62,
   "id": "6462c20b",
   "metadata": {},
   "outputs": [
    {
     "data": {
      "text/plain": [
       "Id                       0\n",
       "EmployeeName             0\n",
       "JobTitle                 0\n",
       "BasePay                605\n",
       "OvertimePay              0\n",
       "OtherPay                 0\n",
       "Benefits             36159\n",
       "TotalPay                 0\n",
       "TotalPayBenefits         0\n",
       "Year                     0\n",
       "Notes               148654\n",
       "Agency                   0\n",
       "Status              110535\n",
       "dtype: int64"
      ]
     },
     "execution_count": 62,
     "metadata": {},
     "output_type": "execute_result"
    }
   ],
   "source": [
    "data.isnull().sum()"
   ]
  },
  {
   "cell_type": "code",
   "execution_count": 64,
   "id": "4e94f9b9",
   "metadata": {},
   "outputs": [
    {
     "data": {
      "text/plain": [
       "Id                       0\n",
       "EmployeeName             0\n",
       "JobTitle                 0\n",
       "BasePay                605\n",
       "OvertimePay              0\n",
       "OtherPay                 0\n",
       "Benefits             36159\n",
       "TotalPay                 0\n",
       "TotalPayBenefits         0\n",
       "Year                     0\n",
       "Notes               148654\n",
       "Agency                   0\n",
       "Status              110535\n",
       "dtype: int64"
      ]
     },
     "execution_count": 64,
     "metadata": {},
     "output_type": "execute_result"
    }
   ],
   "source": [
    "data.isna().sum()"
   ]
  },
  {
   "cell_type": "code",
   "execution_count": 71,
   "id": "a4d34c06",
   "metadata": {},
   "outputs": [
    {
     "data": {
      "text/plain": [
       "Index(['EmployeeName', 'JobTitle', 'BasePay', 'OvertimePay', 'OtherPay',\n",
       "       'Benefits', 'TotalPay', 'TotalPayBenefits', 'Year'],\n",
       "      dtype='object')"
      ]
     },
     "execution_count": 71,
     "metadata": {},
     "output_type": "execute_result"
    }
   ],
   "source": [
    "data.columns"
   ]
  },
  {
   "cell_type": "code",
   "execution_count": 75,
   "id": "1c1b0d09",
   "metadata": {},
   "outputs": [
    {
     "data": {
      "text/html": [
       "<div>\n",
       "<style scoped>\n",
       "    .dataframe tbody tr th:only-of-type {\n",
       "        vertical-align: middle;\n",
       "    }\n",
       "\n",
       "    .dataframe tbody tr th {\n",
       "        vertical-align: top;\n",
       "    }\n",
       "\n",
       "    .dataframe thead th {\n",
       "        text-align: right;\n",
       "    }\n",
       "</style>\n",
       "<table border=\"1\" class=\"dataframe\">\n",
       "  <thead>\n",
       "    <tr style=\"text-align: right;\">\n",
       "      <th></th>\n",
       "      <th>TotalPay</th>\n",
       "      <th>TotalPayBenefits</th>\n",
       "      <th>Year</th>\n",
       "    </tr>\n",
       "  </thead>\n",
       "  <tbody>\n",
       "    <tr>\n",
       "      <th>count</th>\n",
       "      <td>148654.000000</td>\n",
       "      <td>148654.000000</td>\n",
       "      <td>148654.000000</td>\n",
       "    </tr>\n",
       "    <tr>\n",
       "      <th>mean</th>\n",
       "      <td>74768.321972</td>\n",
       "      <td>93692.554811</td>\n",
       "      <td>2012.522643</td>\n",
       "    </tr>\n",
       "    <tr>\n",
       "      <th>std</th>\n",
       "      <td>50517.005274</td>\n",
       "      <td>62793.533483</td>\n",
       "      <td>1.117538</td>\n",
       "    </tr>\n",
       "    <tr>\n",
       "      <th>min</th>\n",
       "      <td>-618.130000</td>\n",
       "      <td>-618.130000</td>\n",
       "      <td>2011.000000</td>\n",
       "    </tr>\n",
       "    <tr>\n",
       "      <th>25%</th>\n",
       "      <td>36168.995000</td>\n",
       "      <td>44065.650000</td>\n",
       "      <td>2012.000000</td>\n",
       "    </tr>\n",
       "    <tr>\n",
       "      <th>50%</th>\n",
       "      <td>71426.610000</td>\n",
       "      <td>92404.090000</td>\n",
       "      <td>2013.000000</td>\n",
       "    </tr>\n",
       "    <tr>\n",
       "      <th>75%</th>\n",
       "      <td>105839.135000</td>\n",
       "      <td>132876.450000</td>\n",
       "      <td>2014.000000</td>\n",
       "    </tr>\n",
       "    <tr>\n",
       "      <th>max</th>\n",
       "      <td>567595.430000</td>\n",
       "      <td>567595.430000</td>\n",
       "      <td>2014.000000</td>\n",
       "    </tr>\n",
       "  </tbody>\n",
       "</table>\n",
       "</div>"
      ],
      "text/plain": [
       "            TotalPay  TotalPayBenefits           Year\n",
       "count  148654.000000     148654.000000  148654.000000\n",
       "mean    74768.321972      93692.554811    2012.522643\n",
       "std     50517.005274      62793.533483       1.117538\n",
       "min      -618.130000       -618.130000    2011.000000\n",
       "25%     36168.995000      44065.650000    2012.000000\n",
       "50%     71426.610000      92404.090000    2013.000000\n",
       "75%    105839.135000     132876.450000    2014.000000\n",
       "max    567595.430000     567595.430000    2014.000000"
      ]
     },
     "execution_count": 75,
     "metadata": {},
     "output_type": "execute_result"
    }
   ],
   "source": [
    "data.describe()\n",
    "# stastestical valaue represents the value where the number is Domain:"
   ]
  },
  {
   "cell_type": "code",
   "execution_count": 76,
   "id": "dc77abf6",
   "metadata": {},
   "outputs": [
    {
     "data": {
      "text/plain": [
       "Index(['EmployeeName', 'JobTitle', 'BasePay', 'OvertimePay', 'OtherPay',\n",
       "       'Benefits', 'TotalPay', 'TotalPayBenefits', 'Year'],\n",
       "      dtype='object')"
      ]
     },
     "execution_count": 76,
     "metadata": {},
     "output_type": "execute_result"
    }
   ],
   "source": [
    "data.columns"
   ]
  },
  {
   "cell_type": "code",
   "execution_count": 77,
   "id": "94de9225",
   "metadata": {},
   "outputs": [
    {
     "data": {
      "text/plain": [
       "Kevin Lee       13\n",
       "Richard Lee     11\n",
       "Steven Lee      11\n",
       "William Wong    11\n",
       "Stanley Lee      9\n",
       "Name: EmployeeName, dtype: int64"
      ]
     },
     "execution_count": 77,
     "metadata": {},
     "output_type": "execute_result"
    }
   ],
   "source": [
    "data[\"EmployeeName\"].value_counts().head()"
   ]
  },
  {
   "cell_type": "code",
   "execution_count": 78,
   "id": "362e7b50",
   "metadata": {},
   "outputs": [
    {
     "data": {
      "text/plain": [
       "Kevin Lee                   13\n",
       "Richard Lee                 11\n",
       "Steven Lee                  11\n",
       "William Wong                11\n",
       "Stanley Lee                  9\n",
       "                            ..\n",
       "Jeffrey Skover               1\n",
       "Ken Dever                    1\n",
       "Kevin Whitfield              1\n",
       "Granville McCollough III     1\n",
       "Joe Lopez                    1\n",
       "Name: EmployeeName, Length: 110811, dtype: int64"
      ]
     },
     "execution_count": 78,
     "metadata": {},
     "output_type": "execute_result"
    }
   ],
   "source": [
    "data[\"EmployeeName\"].value_counts()"
   ]
  },
  {
   "cell_type": "code",
   "execution_count": 80,
   "id": "cb6f564c",
   "metadata": {},
   "outputs": [
    {
     "data": {
      "text/plain": [
       "array(['NATHANIEL FORD', 'GARY JIMENEZ', 'ALBERT PARDINI', ...,\n",
       "       'Charlene D Mccully', 'Not provided', 'Joe Lopez'], dtype=object)"
      ]
     },
     "execution_count": 80,
     "metadata": {},
     "output_type": "execute_result"
    }
   ],
   "source": [
    "data[\"EmployeeName\"].unique()"
   ]
  },
  {
   "cell_type": "code",
   "execution_count": 82,
   "id": "96599cfe",
   "metadata": {},
   "outputs": [
    {
     "data": {
      "text/plain": [
       "array(['GENERAL MANAGER-METROPOLITAN TRANSIT AUTHORITY',\n",
       "       'CAPTAIN III (POLICE DEPARTMENT)',\n",
       "       'WIRE ROPE CABLE MAINTENANCE MECHANIC', ..., 'Conversion',\n",
       "       'Cashier 3', 'Not provided'], dtype=object)"
      ]
     },
     "execution_count": 82,
     "metadata": {},
     "output_type": "execute_result"
    }
   ],
   "source": [
    "data[\"JobTitle\"].unique()"
   ]
  },
  {
   "cell_type": "code",
   "execution_count": 84,
   "id": "5b8d9904",
   "metadata": {},
   "outputs": [
    {
     "data": {
      "text/plain": [
       "2159"
      ]
     },
     "execution_count": 84,
     "metadata": {},
     "output_type": "execute_result"
    }
   ],
   "source": [
    "data[\"JobTitle\"].nunique()\n",
    "# Gives the Count of the unique Values:"
   ]
  },
  {
   "cell_type": "markdown",
   "id": "eebeb3d0",
   "metadata": {},
   "source": [
    "# To get the number of Job Titles containing the word Captain"
   ]
  },
  {
   "cell_type": "code",
   "execution_count": 87,
   "id": "7617f2f1",
   "metadata": {},
   "outputs": [
    {
     "data": {
      "text/plain": [
       "0         False\n",
       "1          True\n",
       "2          True\n",
       "3         False\n",
       "4         False\n",
       "          ...  \n",
       "148649    False\n",
       "148650    False\n",
       "148651    False\n",
       "148652    False\n",
       "148653    False\n",
       "Name: JobTitle, Length: 148654, dtype: bool"
      ]
     },
     "execution_count": 87,
     "metadata": {},
     "output_type": "execute_result"
    }
   ],
   "source": [
    "data[\"JobTitle\"].str.contains(\"CAPTAIN\")"
   ]
  },
  {
   "cell_type": "code",
   "execution_count": 88,
   "id": "3113e95d",
   "metadata": {},
   "outputs": [
    {
     "data": {
      "text/plain": [
       "False    148513\n",
       "True        141\n",
       "Name: JobTitle, dtype: int64"
      ]
     },
     "execution_count": 88,
     "metadata": {},
     "output_type": "execute_result"
    }
   ],
   "source": [
    "data[\"JobTitle\"].str.contains(\"CAPTAIN\").value_counts()"
   ]
  },
  {
   "cell_type": "code",
   "execution_count": 90,
   "id": "a2c16ea2",
   "metadata": {},
   "outputs": [
    {
     "data": {
      "text/html": [
       "<div>\n",
       "<style scoped>\n",
       "    .dataframe tbody tr th:only-of-type {\n",
       "        vertical-align: middle;\n",
       "    }\n",
       "\n",
       "    .dataframe tbody tr th {\n",
       "        vertical-align: top;\n",
       "    }\n",
       "\n",
       "    .dataframe thead th {\n",
       "        text-align: right;\n",
       "    }\n",
       "</style>\n",
       "<table border=\"1\" class=\"dataframe\">\n",
       "  <thead>\n",
       "    <tr style=\"text-align: right;\">\n",
       "      <th></th>\n",
       "      <th>EmployeeName</th>\n",
       "      <th>JobTitle</th>\n",
       "      <th>BasePay</th>\n",
       "      <th>OvertimePay</th>\n",
       "      <th>OtherPay</th>\n",
       "      <th>Benefits</th>\n",
       "      <th>TotalPay</th>\n",
       "      <th>TotalPayBenefits</th>\n",
       "      <th>Year</th>\n",
       "    </tr>\n",
       "  </thead>\n",
       "  <tbody>\n",
       "    <tr>\n",
       "      <th>1</th>\n",
       "      <td>GARY JIMENEZ</td>\n",
       "      <td>CAPTAIN III (POLICE DEPARTMENT)</td>\n",
       "      <td>155966.02</td>\n",
       "      <td>245131.88</td>\n",
       "      <td>137811.38</td>\n",
       "      <td>NaN</td>\n",
       "      <td>538909.28</td>\n",
       "      <td>538909.28</td>\n",
       "      <td>2011</td>\n",
       "    </tr>\n",
       "    <tr>\n",
       "      <th>2</th>\n",
       "      <td>ALBERT PARDINI</td>\n",
       "      <td>CAPTAIN III (POLICE DEPARTMENT)</td>\n",
       "      <td>212739.13</td>\n",
       "      <td>106088.18</td>\n",
       "      <td>16452.6</td>\n",
       "      <td>NaN</td>\n",
       "      <td>335279.91</td>\n",
       "      <td>335279.91</td>\n",
       "      <td>2011</td>\n",
       "    </tr>\n",
       "    <tr>\n",
       "      <th>11</th>\n",
       "      <td>PATRICIA JACKSON</td>\n",
       "      <td>CAPTAIN III (POLICE DEPARTMENT)</td>\n",
       "      <td>99722.0</td>\n",
       "      <td>87082.62</td>\n",
       "      <td>110804.3</td>\n",
       "      <td>NaN</td>\n",
       "      <td>297608.92</td>\n",
       "      <td>297608.92</td>\n",
       "      <td>2011</td>\n",
       "    </tr>\n",
       "    <tr>\n",
       "      <th>17</th>\n",
       "      <td>SEBASTIAN WONG</td>\n",
       "      <td>CAPTAIN, EMERGENCYCY MEDICAL SERVICES</td>\n",
       "      <td>140546.87</td>\n",
       "      <td>119397.26</td>\n",
       "      <td>18625.08</td>\n",
       "      <td>NaN</td>\n",
       "      <td>278569.21</td>\n",
       "      <td>278569.21</td>\n",
       "      <td>2011</td>\n",
       "    </tr>\n",
       "    <tr>\n",
       "      <th>22</th>\n",
       "      <td>GEORGE GARCIA</td>\n",
       "      <td>CAPTAIN, FIRE SUPPRESSION</td>\n",
       "      <td>140546.88</td>\n",
       "      <td>93200.58</td>\n",
       "      <td>39955.25</td>\n",
       "      <td>NaN</td>\n",
       "      <td>273702.71</td>\n",
       "      <td>273702.71</td>\n",
       "      <td>2011</td>\n",
       "    </tr>\n",
       "    <tr>\n",
       "      <th>...</th>\n",
       "      <td>...</td>\n",
       "      <td>...</td>\n",
       "      <td>...</td>\n",
       "      <td>...</td>\n",
       "      <td>...</td>\n",
       "      <td>...</td>\n",
       "      <td>...</td>\n",
       "      <td>...</td>\n",
       "      <td>...</td>\n",
       "    </tr>\n",
       "    <tr>\n",
       "      <th>8684</th>\n",
       "      <td>JEANNE SEYLER</td>\n",
       "      <td>CAPTAIN, FIRE SUPPRESSION</td>\n",
       "      <td>95055.34</td>\n",
       "      <td>0.0</td>\n",
       "      <td>9197.14</td>\n",
       "      <td>NaN</td>\n",
       "      <td>104252.48</td>\n",
       "      <td>104252.48</td>\n",
       "      <td>2011</td>\n",
       "    </tr>\n",
       "    <tr>\n",
       "      <th>10485</th>\n",
       "      <td>JANE SMITH</td>\n",
       "      <td>CAPTAIN, EMERGENCYCY MEDICAL SERVICES</td>\n",
       "      <td>74592.0</td>\n",
       "      <td>1538.59</td>\n",
       "      <td>18804.68</td>\n",
       "      <td>NaN</td>\n",
       "      <td>94935.27</td>\n",
       "      <td>94935.27</td>\n",
       "      <td>2011</td>\n",
       "    </tr>\n",
       "    <tr>\n",
       "      <th>11198</th>\n",
       "      <td>KATHRYN BROWN</td>\n",
       "      <td>CAPTAIN III (POLICE DEPARTMENT)</td>\n",
       "      <td>10684.5</td>\n",
       "      <td>0.0</td>\n",
       "      <td>81244.87</td>\n",
       "      <td>NaN</td>\n",
       "      <td>91929.37</td>\n",
       "      <td>91929.37</td>\n",
       "      <td>2011</td>\n",
       "    </tr>\n",
       "    <tr>\n",
       "      <th>31297</th>\n",
       "      <td>MARCO CARNIGLIA</td>\n",
       "      <td>CAPTAIN, EMERGENCYCY MEDICAL SERVICES</td>\n",
       "      <td>9839.72</td>\n",
       "      <td>0.0</td>\n",
       "      <td>1203.77</td>\n",
       "      <td>NaN</td>\n",
       "      <td>11043.49</td>\n",
       "      <td>11043.49</td>\n",
       "      <td>2011</td>\n",
       "    </tr>\n",
       "    <tr>\n",
       "      <th>34124</th>\n",
       "      <td>JOHN FORBES-3</td>\n",
       "      <td>CAPTAIN, FIRE SUPPRESSION</td>\n",
       "      <td>0.0</td>\n",
       "      <td>982.06</td>\n",
       "      <td>2277.34</td>\n",
       "      <td>NaN</td>\n",
       "      <td>3259.40</td>\n",
       "      <td>3259.40</td>\n",
       "      <td>2011</td>\n",
       "    </tr>\n",
       "  </tbody>\n",
       "</table>\n",
       "<p>141 rows × 9 columns</p>\n",
       "</div>"
      ],
      "text/plain": [
       "           EmployeeName                               JobTitle    BasePay  \\\n",
       "1          GARY JIMENEZ        CAPTAIN III (POLICE DEPARTMENT)  155966.02   \n",
       "2        ALBERT PARDINI        CAPTAIN III (POLICE DEPARTMENT)  212739.13   \n",
       "11     PATRICIA JACKSON        CAPTAIN III (POLICE DEPARTMENT)    99722.0   \n",
       "17       SEBASTIAN WONG  CAPTAIN, EMERGENCYCY MEDICAL SERVICES  140546.87   \n",
       "22        GEORGE GARCIA              CAPTAIN, FIRE SUPPRESSION  140546.88   \n",
       "...                 ...                                    ...        ...   \n",
       "8684      JEANNE SEYLER              CAPTAIN, FIRE SUPPRESSION   95055.34   \n",
       "10485        JANE SMITH  CAPTAIN, EMERGENCYCY MEDICAL SERVICES    74592.0   \n",
       "11198     KATHRYN BROWN        CAPTAIN III (POLICE DEPARTMENT)    10684.5   \n",
       "31297   MARCO CARNIGLIA  CAPTAIN, EMERGENCYCY MEDICAL SERVICES    9839.72   \n",
       "34124     JOHN FORBES-3              CAPTAIN, FIRE SUPPRESSION        0.0   \n",
       "\n",
       "      OvertimePay   OtherPay Benefits   TotalPay  TotalPayBenefits  Year  \n",
       "1       245131.88  137811.38      NaN  538909.28         538909.28  2011  \n",
       "2       106088.18    16452.6      NaN  335279.91         335279.91  2011  \n",
       "11       87082.62   110804.3      NaN  297608.92         297608.92  2011  \n",
       "17      119397.26   18625.08      NaN  278569.21         278569.21  2011  \n",
       "22       93200.58   39955.25      NaN  273702.71         273702.71  2011  \n",
       "...           ...        ...      ...        ...               ...   ...  \n",
       "8684          0.0    9197.14      NaN  104252.48         104252.48  2011  \n",
       "10485     1538.59   18804.68      NaN   94935.27          94935.27  2011  \n",
       "11198         0.0   81244.87      NaN   91929.37          91929.37  2011  \n",
       "31297         0.0    1203.77      NaN   11043.49          11043.49  2011  \n",
       "34124      982.06    2277.34      NaN    3259.40           3259.40  2011  \n",
       "\n",
       "[141 rows x 9 columns]"
      ]
     },
     "execution_count": 90,
     "metadata": {},
     "output_type": "execute_result"
    }
   ],
   "source": [
    "data[data[\"JobTitle\"].str.contains(\"CAPTAIN\")]"
   ]
  },
  {
   "cell_type": "code",
   "execution_count": 92,
   "id": "8c5a5816",
   "metadata": {},
   "outputs": [
    {
     "data": {
      "text/plain": [
       "141"
      ]
     },
     "execution_count": 92,
     "metadata": {},
     "output_type": "execute_result"
    }
   ],
   "source": [
    "len(data[data[\"JobTitle\"].str.contains(\"CAPTAIN\")])"
   ]
  },
  {
   "cell_type": "code",
   "execution_count": 97,
   "id": "4ac6aeaa",
   "metadata": {},
   "outputs": [
    {
     "data": {
      "text/plain": [
       "EmployeeName        552\n",
       "JobTitle            552\n",
       "BasePay             551\n",
       "OvertimePay         552\n",
       "OtherPay            552\n",
       "Benefits            411\n",
       "TotalPay            552\n",
       "TotalPayBenefits    552\n",
       "Year                552\n",
       "dtype: int64"
      ]
     },
     "execution_count": 97,
     "metadata": {},
     "output_type": "execute_result"
    }
   ],
   "source": [
    "data[data[\"JobTitle\"].str.contains(\"CAPTAIN\",case=False)].count()"
   ]
  },
  {
   "cell_type": "code",
   "execution_count": 99,
   "id": "95d9f71d",
   "metadata": {},
   "outputs": [
    {
     "data": {
      "text/plain": [
       "Index(['EmployeeName', 'JobTitle', 'BasePay', 'OvertimePay', 'OtherPay',\n",
       "       'Benefits', 'TotalPay', 'TotalPayBenefits', 'Year'],\n",
       "      dtype='object')"
      ]
     },
     "execution_count": 99,
     "metadata": {},
     "output_type": "execute_result"
    }
   ],
   "source": [
    "data.columns"
   ]
  },
  {
   "cell_type": "markdown",
   "id": "02636e06",
   "metadata": {},
   "source": [
    "# Displaying Employee Name from Fire Department:\n"
   ]
  },
  {
   "cell_type": "code",
   "execution_count": 100,
   "id": "eebdb5c1",
   "metadata": {},
   "outputs": [
    {
     "data": {
      "text/plain": [
       "0         GENERAL MANAGER-METROPOLITAN TRANSIT AUTHORITY\n",
       "1                        CAPTAIN III (POLICE DEPARTMENT)\n",
       "2                        CAPTAIN III (POLICE DEPARTMENT)\n",
       "3                   WIRE ROPE CABLE MAINTENANCE MECHANIC\n",
       "4           DEPUTY CHIEF OF DEPARTMENT,(FIRE DEPARTMENT)\n",
       "                               ...                      \n",
       "148649                                         Custodian\n",
       "148650                                      Not provided\n",
       "148651                                      Not provided\n",
       "148652                                      Not provided\n",
       "148653                        Counselor, Log Cabin Ranch\n",
       "Name: JobTitle, Length: 148654, dtype: object"
      ]
     },
     "execution_count": 100,
     "metadata": {},
     "output_type": "execute_result"
    }
   ],
   "source": [
    "data['JobTitle']"
   ]
  },
  {
   "cell_type": "code",
   "execution_count": 102,
   "id": "4fbc9bf9",
   "metadata": {},
   "outputs": [
    {
     "data": {
      "text/html": [
       "<div>\n",
       "<style scoped>\n",
       "    .dataframe tbody tr th:only-of-type {\n",
       "        vertical-align: middle;\n",
       "    }\n",
       "\n",
       "    .dataframe tbody tr th {\n",
       "        vertical-align: top;\n",
       "    }\n",
       "\n",
       "    .dataframe thead th {\n",
       "        text-align: right;\n",
       "    }\n",
       "</style>\n",
       "<table border=\"1\" class=\"dataframe\">\n",
       "  <thead>\n",
       "    <tr style=\"text-align: right;\">\n",
       "      <th></th>\n",
       "      <th>EmployeeName</th>\n",
       "      <th>JobTitle</th>\n",
       "      <th>BasePay</th>\n",
       "      <th>OvertimePay</th>\n",
       "      <th>OtherPay</th>\n",
       "      <th>Benefits</th>\n",
       "      <th>TotalPay</th>\n",
       "      <th>TotalPayBenefits</th>\n",
       "      <th>Year</th>\n",
       "    </tr>\n",
       "  </thead>\n",
       "  <tbody>\n",
       "    <tr>\n",
       "      <th>4</th>\n",
       "      <td>PATRICK GARDNER</td>\n",
       "      <td>DEPUTY CHIEF OF DEPARTMENT,(FIRE DEPARTMENT)</td>\n",
       "      <td>134401.6</td>\n",
       "      <td>9737.0</td>\n",
       "      <td>182234.59</td>\n",
       "      <td>NaN</td>\n",
       "      <td>326373.19</td>\n",
       "      <td>326373.19</td>\n",
       "      <td>2011</td>\n",
       "    </tr>\n",
       "    <tr>\n",
       "      <th>6</th>\n",
       "      <td>ALSON LEE</td>\n",
       "      <td>BATTALION CHIEF, (FIRE DEPARTMENT)</td>\n",
       "      <td>92492.01</td>\n",
       "      <td>89062.9</td>\n",
       "      <td>134426.14</td>\n",
       "      <td>NaN</td>\n",
       "      <td>315981.05</td>\n",
       "      <td>315981.05</td>\n",
       "      <td>2011</td>\n",
       "    </tr>\n",
       "    <tr>\n",
       "      <th>8</th>\n",
       "      <td>MICHAEL MORRIS</td>\n",
       "      <td>BATTALION CHIEF, (FIRE DEPARTMENT)</td>\n",
       "      <td>176932.64</td>\n",
       "      <td>86362.68</td>\n",
       "      <td>40132.23</td>\n",
       "      <td>NaN</td>\n",
       "      <td>303427.55</td>\n",
       "      <td>303427.55</td>\n",
       "      <td>2011</td>\n",
       "    </tr>\n",
       "    <tr>\n",
       "      <th>9</th>\n",
       "      <td>JOANNE HAYES-WHITE</td>\n",
       "      <td>CHIEF OF DEPARTMENT, (FIRE DEPARTMENT)</td>\n",
       "      <td>285262.0</td>\n",
       "      <td>0.0</td>\n",
       "      <td>17115.73</td>\n",
       "      <td>NaN</td>\n",
       "      <td>302377.73</td>\n",
       "      <td>302377.73</td>\n",
       "      <td>2011</td>\n",
       "    </tr>\n",
       "    <tr>\n",
       "      <th>10</th>\n",
       "      <td>ARTHUR KENNEY</td>\n",
       "      <td>ASSISTANT CHIEF OF DEPARTMENT, (FIRE DEPARTMENT)</td>\n",
       "      <td>194999.39</td>\n",
       "      <td>71344.88</td>\n",
       "      <td>33149.9</td>\n",
       "      <td>NaN</td>\n",
       "      <td>299494.17</td>\n",
       "      <td>299494.17</td>\n",
       "      <td>2011</td>\n",
       "    </tr>\n",
       "    <tr>\n",
       "      <th>...</th>\n",
       "      <td>...</td>\n",
       "      <td>...</td>\n",
       "      <td>...</td>\n",
       "      <td>...</td>\n",
       "      <td>...</td>\n",
       "      <td>...</td>\n",
       "      <td>...</td>\n",
       "      <td>...</td>\n",
       "      <td>...</td>\n",
       "    </tr>\n",
       "    <tr>\n",
       "      <th>145956</th>\n",
       "      <td>Kenneth C Farris</td>\n",
       "      <td>Firefighter</td>\n",
       "      <td>0.00</td>\n",
       "      <td>0.00</td>\n",
       "      <td>0.00</td>\n",
       "      <td>4645.56</td>\n",
       "      <td>0.00</td>\n",
       "      <td>4645.56</td>\n",
       "      <td>2014</td>\n",
       "    </tr>\n",
       "    <tr>\n",
       "      <th>147556</th>\n",
       "      <td>Edward A Dunn</td>\n",
       "      <td>Firefighter</td>\n",
       "      <td>1063.24</td>\n",
       "      <td>0.00</td>\n",
       "      <td>132.90</td>\n",
       "      <td>385.66</td>\n",
       "      <td>1196.14</td>\n",
       "      <td>1581.80</td>\n",
       "      <td>2014</td>\n",
       "    </tr>\n",
       "    <tr>\n",
       "      <th>148021</th>\n",
       "      <td>Kari A Johnson</td>\n",
       "      <td>Firefighter</td>\n",
       "      <td>688.71</td>\n",
       "      <td>0.00</td>\n",
       "      <td>0.00</td>\n",
       "      <td>143.39</td>\n",
       "      <td>688.71</td>\n",
       "      <td>832.10</td>\n",
       "      <td>2014</td>\n",
       "    </tr>\n",
       "    <tr>\n",
       "      <th>148209</th>\n",
       "      <td>Sheryl K Lee</td>\n",
       "      <td>Firefighter</td>\n",
       "      <td>459.14</td>\n",
       "      <td>0.00</td>\n",
       "      <td>0.00</td>\n",
       "      <td>95.59</td>\n",
       "      <td>459.14</td>\n",
       "      <td>554.73</td>\n",
       "      <td>2014</td>\n",
       "    </tr>\n",
       "    <tr>\n",
       "      <th>148554</th>\n",
       "      <td>Lawrence F Gatt</td>\n",
       "      <td>Fire Alarm Dispatcher</td>\n",
       "      <td>73.33</td>\n",
       "      <td>0.00</td>\n",
       "      <td>0.00</td>\n",
       "      <td>0.73</td>\n",
       "      <td>73.33</td>\n",
       "      <td>74.06</td>\n",
       "      <td>2014</td>\n",
       "    </tr>\n",
       "  </tbody>\n",
       "</table>\n",
       "<p>5879 rows × 9 columns</p>\n",
       "</div>"
      ],
      "text/plain": [
       "              EmployeeName                                          JobTitle  \\\n",
       "4          PATRICK GARDNER      DEPUTY CHIEF OF DEPARTMENT,(FIRE DEPARTMENT)   \n",
       "6                ALSON LEE                BATTALION CHIEF, (FIRE DEPARTMENT)   \n",
       "8           MICHAEL MORRIS                BATTALION CHIEF, (FIRE DEPARTMENT)   \n",
       "9       JOANNE HAYES-WHITE            CHIEF OF DEPARTMENT, (FIRE DEPARTMENT)   \n",
       "10           ARTHUR KENNEY  ASSISTANT CHIEF OF DEPARTMENT, (FIRE DEPARTMENT)   \n",
       "...                    ...                                               ...   \n",
       "145956    Kenneth C Farris                                       Firefighter   \n",
       "147556       Edward A Dunn                                       Firefighter   \n",
       "148021      Kari A Johnson                                       Firefighter   \n",
       "148209        Sheryl K Lee                                       Firefighter   \n",
       "148554     Lawrence F Gatt                             Fire Alarm Dispatcher   \n",
       "\n",
       "          BasePay OvertimePay   OtherPay Benefits   TotalPay  \\\n",
       "4        134401.6      9737.0  182234.59      NaN  326373.19   \n",
       "6        92492.01     89062.9  134426.14      NaN  315981.05   \n",
       "8       176932.64    86362.68   40132.23      NaN  303427.55   \n",
       "9        285262.0         0.0   17115.73      NaN  302377.73   \n",
       "10      194999.39    71344.88    33149.9      NaN  299494.17   \n",
       "...           ...         ...        ...      ...        ...   \n",
       "145956       0.00        0.00       0.00  4645.56       0.00   \n",
       "147556    1063.24        0.00     132.90   385.66    1196.14   \n",
       "148021     688.71        0.00       0.00   143.39     688.71   \n",
       "148209     459.14        0.00       0.00    95.59     459.14   \n",
       "148554      73.33        0.00       0.00     0.73      73.33   \n",
       "\n",
       "        TotalPayBenefits  Year  \n",
       "4              326373.19  2011  \n",
       "6              315981.05  2011  \n",
       "8              303427.55  2011  \n",
       "9              302377.73  2011  \n",
       "10             299494.17  2011  \n",
       "...                  ...   ...  \n",
       "145956           4645.56  2014  \n",
       "147556           1581.80  2014  \n",
       "148021            832.10  2014  \n",
       "148209            554.73  2014  \n",
       "148554             74.06  2014  \n",
       "\n",
       "[5879 rows x 9 columns]"
      ]
     },
     "execution_count": 102,
     "metadata": {},
     "output_type": "execute_result"
    }
   ],
   "source": [
    "data[data[\"JobTitle\"].str.contains(\"fire\",case=False)]"
   ]
  },
  {
   "cell_type": "code",
   "execution_count": 103,
   "id": "ae3520bc",
   "metadata": {},
   "outputs": [
    {
     "data": {
      "text/plain": [
       "4            PATRICK GARDNER\n",
       "6                  ALSON LEE\n",
       "8             MICHAEL MORRIS\n",
       "9         JOANNE HAYES-WHITE\n",
       "10             ARTHUR KENNEY\n",
       "                 ...        \n",
       "145956      Kenneth C Farris\n",
       "147556         Edward A Dunn\n",
       "148021        Kari A Johnson\n",
       "148209          Sheryl K Lee\n",
       "148554       Lawrence F Gatt\n",
       "Name: EmployeeName, Length: 5879, dtype: object"
      ]
     },
     "execution_count": 103,
     "metadata": {},
     "output_type": "execute_result"
    }
   ],
   "source": [
    "data[data[\"JobTitle\"].str.contains(\"fire\",case=False)]['EmployeeName']"
   ]
  },
  {
   "cell_type": "code",
   "execution_count": 104,
   "id": "54d10581",
   "metadata": {},
   "outputs": [
    {
     "data": {
      "text/plain": [
       "4            patrick gardner\n",
       "6                  alson lee\n",
       "8             michael morris\n",
       "9         joanne hayes-white\n",
       "10             arthur kenney\n",
       "                 ...        \n",
       "145956      kenneth c farris\n",
       "147556         edward a dunn\n",
       "148021        kari a johnson\n",
       "148209          sheryl k lee\n",
       "148554       lawrence f gatt\n",
       "Name: EmployeeName, Length: 5879, dtype: object"
      ]
     },
     "execution_count": 104,
     "metadata": {},
     "output_type": "execute_result"
    }
   ],
   "source": [
    "name=data[data[\"JobTitle\"].str.contains(\"fire\",case=False)]['EmployeeName']\n",
    "name.str.lower()"
   ]
  },
  {
   "cell_type": "code",
   "execution_count": 105,
   "id": "52e5cae6",
   "metadata": {},
   "outputs": [
    {
     "data": {
      "text/plain": [
       "4            PATRICK GARDNER\n",
       "6                  ALSON LEE\n",
       "8             MICHAEL MORRIS\n",
       "9         JOANNE HAYES-WHITE\n",
       "10             ARTHUR KENNEY\n",
       "                 ...        \n",
       "145956      KENNETH C FARRIS\n",
       "147556         EDWARD A DUNN\n",
       "148021        KARI A JOHNSON\n",
       "148209          SHERYL K LEE\n",
       "148554       LAWRENCE F GATT\n",
       "Name: EmployeeName, Length: 5879, dtype: object"
      ]
     },
     "execution_count": 105,
     "metadata": {},
     "output_type": "execute_result"
    }
   ],
   "source": [
    "nameu=data[data[\"JobTitle\"].str.contains(\"fire\",case=False)]['EmployeeName']\n",
    "nameu.str.upper()"
   ]
  },
  {
   "cell_type": "code",
   "execution_count": 107,
   "id": "796c7841",
   "metadata": {},
   "outputs": [
    {
     "data": {
      "text/plain": [
       "148554    Lawrence F Gatt\n",
       "Name: EmployeeName, dtype: object"
      ]
     },
     "execution_count": 107,
     "metadata": {},
     "output_type": "execute_result"
    }
   ],
   "source": [
    "search=name.iloc[[-1]]\n",
    "search"
   ]
  },
  {
   "cell_type": "code",
   "execution_count": 109,
   "id": "cd90c0c2",
   "metadata": {},
   "outputs": [
    {
     "data": {
      "text/plain": [
       "148554    2\n",
       "Name: EmployeeName, dtype: int64"
      ]
     },
     "execution_count": 109,
     "metadata": {},
     "output_type": "execute_result"
    }
   ],
   "source": [
    "search.str.count('t')"
   ]
  },
  {
   "cell_type": "code",
   "execution_count": 110,
   "id": "ab9b5601",
   "metadata": {},
   "outputs": [
    {
     "data": {
      "text/plain": [
       "148554    True\n",
       "Name: EmployeeName, dtype: bool"
      ]
     },
     "execution_count": 110,
     "metadata": {},
     "output_type": "execute_result"
    }
   ],
   "source": [
    "search.str.startswith('L')"
   ]
  },
  {
   "cell_type": "code",
   "execution_count": 111,
   "id": "6005ea2a",
   "metadata": {},
   "outputs": [
    {
     "data": {
      "text/plain": [
       "148554    2\n",
       "Name: EmployeeName, dtype: int64"
      ]
     },
     "execution_count": 111,
     "metadata": {},
     "output_type": "execute_result"
    }
   ],
   "source": [
    "search.str.find('w')"
   ]
  },
  {
   "cell_type": "markdown",
   "id": "4267e0e7",
   "metadata": {},
   "source": [
    "# To find the Minimum -Max Average of the Total Pay"
   ]
  },
  {
   "cell_type": "code",
   "execution_count": 112,
   "id": "18a3dec4",
   "metadata": {},
   "outputs": [
    {
     "data": {
      "text/plain": [
       "count    148654.000000\n",
       "mean      74768.321972\n",
       "std       50517.005274\n",
       "min        -618.130000\n",
       "25%       36168.995000\n",
       "50%       71426.610000\n",
       "75%      105839.135000\n",
       "max      567595.430000\n",
       "Name: TotalPay, dtype: float64"
      ]
     },
     "execution_count": 112,
     "metadata": {},
     "output_type": "execute_result"
    }
   ],
   "source": [
    "data[\"TotalPay\"].describe()"
   ]
  },
  {
   "cell_type": "code",
   "execution_count": 113,
   "id": "62ea4567",
   "metadata": {},
   "outputs": [
    {
     "data": {
      "text/plain": [
       "-618.13"
      ]
     },
     "execution_count": 113,
     "metadata": {},
     "output_type": "execute_result"
    }
   ],
   "source": [
    "data[\"TotalPay\"].min()"
   ]
  },
  {
   "cell_type": "code",
   "execution_count": 114,
   "id": "aa955dba",
   "metadata": {},
   "outputs": [
    {
     "data": {
      "text/plain": [
       "567595.43"
      ]
     },
     "execution_count": 114,
     "metadata": {},
     "output_type": "execute_result"
    }
   ],
   "source": [
    "data[\"TotalPay\"].max()"
   ]
  },
  {
   "cell_type": "code",
   "execution_count": 118,
   "id": "c3cd46f5",
   "metadata": {},
   "outputs": [],
   "source": [
    "import numpy as np"
   ]
  },
  {
   "cell_type": "code",
   "execution_count": 119,
   "id": "61290b39",
   "metadata": {},
   "outputs": [
    {
     "data": {
      "text/plain": [
       "0            NATHANIEL FORD\n",
       "1              GARY JIMENEZ\n",
       "2            ALBERT PARDINI\n",
       "3         CHRISTOPHER CHONG\n",
       "4           PATRICK GARDNER\n",
       "                ...        \n",
       "148649        Roy I Tillery\n",
       "148650         Not provided\n",
       "148651         Not provided\n",
       "148652         Not provided\n",
       "148653            Joe Lopez\n",
       "Name: EmployeeName, Length: 148654, dtype: object"
      ]
     },
     "execution_count": 119,
     "metadata": {},
     "output_type": "execute_result"
    }
   ],
   "source": [
    "data[\"EmployeeName\"]"
   ]
  },
  {
   "cell_type": "markdown",
   "id": "90bf61f5",
   "metadata": {},
   "source": [
    "# Replacing NoT Provided with NaN"
   ]
  },
  {
   "cell_type": "code",
   "execution_count": 121,
   "id": "73a71567",
   "metadata": {},
   "outputs": [
    {
     "data": {
      "text/plain": [
       "0            NATHANIEL FORD\n",
       "1              GARY JIMENEZ\n",
       "2            ALBERT PARDINI\n",
       "3         CHRISTOPHER CHONG\n",
       "4           PATRICK GARDNER\n",
       "                ...        \n",
       "148649        Roy I Tillery\n",
       "148650                  NaN\n",
       "148651                  NaN\n",
       "148652                  NaN\n",
       "148653            Joe Lopez\n",
       "Name: EmployeeName, Length: 148654, dtype: object"
      ]
     },
     "execution_count": 121,
     "metadata": {},
     "output_type": "execute_result"
    }
   ],
   "source": [
    "data['EmployeeName'].replace('Not provided',np.NaN)"
   ]
  },
  {
   "cell_type": "code",
   "execution_count": 127,
   "id": "32b2d286",
   "metadata": {},
   "outputs": [
    {
     "data": {
      "text/plain": [
       "0         False\n",
       "1         False\n",
       "2          True\n",
       "3         False\n",
       "4         False\n",
       "          ...  \n",
       "148649    False\n",
       "148650    False\n",
       "148651    False\n",
       "148652    False\n",
       "148653    False\n",
       "Name: EmployeeName, Length: 148654, dtype: bool"
      ]
     },
     "execution_count": 127,
     "metadata": {},
     "output_type": "execute_result"
    }
   ],
   "source": [
    "data['EmployeeName']=='ALBERT PARDINI'"
   ]
  },
  {
   "cell_type": "code",
   "execution_count": 123,
   "id": "03fcb710",
   "metadata": {},
   "outputs": [
    {
     "data": {
      "text/html": [
       "<div>\n",
       "<style scoped>\n",
       "    .dataframe tbody tr th:only-of-type {\n",
       "        vertical-align: middle;\n",
       "    }\n",
       "\n",
       "    .dataframe tbody tr th {\n",
       "        vertical-align: top;\n",
       "    }\n",
       "\n",
       "    .dataframe thead th {\n",
       "        text-align: right;\n",
       "    }\n",
       "</style>\n",
       "<table border=\"1\" class=\"dataframe\">\n",
       "  <thead>\n",
       "    <tr style=\"text-align: right;\">\n",
       "      <th></th>\n",
       "      <th>EmployeeName</th>\n",
       "      <th>JobTitle</th>\n",
       "      <th>BasePay</th>\n",
       "      <th>OvertimePay</th>\n",
       "      <th>OtherPay</th>\n",
       "      <th>Benefits</th>\n",
       "      <th>TotalPay</th>\n",
       "      <th>TotalPayBenefits</th>\n",
       "      <th>Year</th>\n",
       "    </tr>\n",
       "  </thead>\n",
       "  <tbody>\n",
       "    <tr>\n",
       "      <th>2</th>\n",
       "      <td>ALBERT PARDINI</td>\n",
       "      <td>CAPTAIN III (POLICE DEPARTMENT)</td>\n",
       "      <td>212739.13</td>\n",
       "      <td>106088.18</td>\n",
       "      <td>16452.6</td>\n",
       "      <td>NaN</td>\n",
       "      <td>335279.91</td>\n",
       "      <td>335279.91</td>\n",
       "      <td>2011</td>\n",
       "    </tr>\n",
       "  </tbody>\n",
       "</table>\n",
       "</div>"
      ],
      "text/plain": [
       "     EmployeeName                         JobTitle    BasePay OvertimePay  \\\n",
       "2  ALBERT PARDINI  CAPTAIN III (POLICE DEPARTMENT)  212739.13   106088.18   \n",
       "\n",
       "  OtherPay Benefits   TotalPay  TotalPayBenefits  Year  \n",
       "2  16452.6      NaN  335279.91         335279.91  2011  "
      ]
     },
     "execution_count": 123,
     "metadata": {},
     "output_type": "execute_result"
    }
   ],
   "source": [
    "data[data['EmployeeName']=='ALBERT PARDINI']"
   ]
  },
  {
   "cell_type": "code",
   "execution_count": 124,
   "id": "94cc6793",
   "metadata": {},
   "outputs": [
    {
     "data": {
      "text/plain": [
       "2    CAPTAIN III (POLICE DEPARTMENT)\n",
       "Name: JobTitle, dtype: object"
      ]
     },
     "execution_count": 124,
     "metadata": {},
     "output_type": "execute_result"
    }
   ],
   "source": [
    "data[data['EmployeeName']=='ALBERT PARDINI'][\"JobTitle\"]"
   ]
  },
  {
   "cell_type": "code",
   "execution_count": 125,
   "id": "982caebd",
   "metadata": {},
   "outputs": [
    {
     "data": {
      "text/plain": [
       "{2011: [0, 1, 2, 3, 4, 5, 6, 7, 8, 9, 10, 11, 12, 13, 14, 15, 16, 17, 18, 19, 20, 21, 22, 23, 24, 25, 26, 27, 28, 29, 30, 31, 32, 33, 34, 35, 36, 37, 38, 39, 40, 41, 42, 43, 44, 45, 46, 47, 48, 49, 50, 51, 52, 53, 54, 55, 56, 57, 58, 59, 60, 61, 62, 63, 64, 65, 66, 67, 68, 69, 70, 71, 72, 73, 74, 75, 76, 77, 78, 79, 80, 81, 82, 83, 84, 85, 86, 87, 88, 89, 90, 91, 92, 93, 94, 95, 96, 97, 98, 99, ...], 2012: [36159, 36160, 36161, 36162, 36163, 36164, 36165, 36166, 36167, 36168, 36169, 36170, 36171, 36172, 36173, 36174, 36175, 36176, 36177, 36178, 36179, 36180, 36181, 36182, 36183, 36184, 36185, 36186, 36187, 36188, 36189, 36190, 36191, 36192, 36193, 36194, 36195, 36196, 36197, 36198, 36199, 36200, 36201, 36202, 36203, 36204, 36205, 36206, 36207, 36208, 36209, 36210, 36211, 36212, 36213, 36214, 36215, 36216, 36217, 36218, 36219, 36220, 36221, 36222, 36223, 36224, 36225, 36226, 36227, 36228, 36229, 36230, 36231, 36232, 36233, 36234, 36235, 36236, 36237, 36238, 36239, 36240, 36241, 36242, 36243, 36244, 36245, 36246, 36247, 36248, 36249, 36250, 36251, 36252, 36253, 36254, 36255, 36256, 36257, 36258, ...], 2013: [72925, 72926, 72927, 72928, 72929, 72930, 72931, 72932, 72933, 72934, 72935, 72936, 72937, 72938, 72939, 72940, 72941, 72942, 72943, 72944, 72945, 72946, 72947, 72948, 72949, 72950, 72951, 72952, 72953, 72954, 72955, 72956, 72957, 72958, 72959, 72960, 72961, 72962, 72963, 72964, 72965, 72966, 72967, 72968, 72969, 72970, 72971, 72972, 72973, 72974, 72975, 72976, 72977, 72978, 72979, 72980, 72981, 72982, 72983, 72984, 72985, 72986, 72987, 72988, 72989, 72990, 72991, 72992, 72993, 72994, 72995, 72996, 72997, 72998, 72999, 73000, 73001, 73002, 73003, 73004, 73005, 73006, 73007, 73008, 73009, 73010, 73011, 73012, 73013, 73014, 73015, 73016, 73017, 73018, 73019, 73020, 73021, 73022, 73023, 73024, ...], 2014: [110531, 110532, 110533, 110534, 110535, 110536, 110537, 110538, 110539, 110540, 110541, 110542, 110543, 110544, 110545, 110546, 110547, 110548, 110549, 110550, 110551, 110552, 110553, 110554, 110555, 110556, 110557, 110558, 110559, 110560, 110561, 110562, 110563, 110564, 110565, 110566, 110567, 110568, 110569, 110570, 110571, 110572, 110573, 110574, 110575, 110576, 110577, 110578, 110579, 110580, 110581, 110582, 110583, 110584, 110585, 110586, 110587, 110588, 110589, 110590, 110591, 110592, 110593, 110594, 110595, 110596, 110597, 110598, 110599, 110600, 110601, 110602, 110603, 110604, 110605, 110606, 110607, 110608, 110609, 110610, 110611, 110612, 110613, 110614, 110615, 110616, 110617, 110618, 110619, 110620, 110621, 110622, 110623, 110624, 110625, 110626, 110627, 110628, 110629, 110630, ...]}"
      ]
     },
     "execution_count": 125,
     "metadata": {},
     "output_type": "execute_result"
    }
   ],
   "source": [
    "data.groupby('Year').groups"
   ]
  },
  {
   "cell_type": "code",
   "execution_count": 126,
   "id": "b308615a",
   "metadata": {},
   "outputs": [
    {
     "data": {
      "text/plain": [
       "Year\n",
       "2011    71744.103871\n",
       "2012    74113.262265\n",
       "2013    77611.443142\n",
       "2014    75463.918140\n",
       "Name: TotalPay, dtype: float64"
      ]
     },
     "execution_count": 126,
     "metadata": {},
     "output_type": "execute_result"
    }
   ],
   "source": [
    "data.groupby('Year').mean()['TotalPay']"
   ]
  },
  {
   "cell_type": "code",
   "execution_count": 128,
   "id": "283d9fdd",
   "metadata": {},
   "outputs": [
    {
     "data": {
      "text/plain": [
       "Transit Operator                7036\n",
       "Special Nurse                   4389\n",
       "Registered Nurse                3736\n",
       "Public Svc Aide-Public Works    2518\n",
       "Police Officer 3                2421\n",
       "Name: JobTitle, dtype: int64"
      ]
     },
     "execution_count": 128,
     "metadata": {},
     "output_type": "execute_result"
    }
   ],
   "source": [
    "data[\"JobTitle\"].value_counts().head()"
   ]
  },
  {
   "cell_type": "markdown",
   "id": "16596bc1",
   "metadata": {},
   "source": [
    "# Ecommerce"
   ]
  },
  {
   "cell_type": "code",
   "execution_count": 129,
   "id": "7ba9f70b",
   "metadata": {},
   "outputs": [],
   "source": [
    "import pandas as pd\n",
    "low_memory = False"
   ]
  },
  {
   "cell_type": "code",
   "execution_count": 146,
   "id": "cef7697b",
   "metadata": {},
   "outputs": [],
   "source": [
    "ecom = pd.read_csv(\"Ecommerce Purchases\")"
   ]
  },
  {
   "cell_type": "code",
   "execution_count": 147,
   "id": "5c8a968f",
   "metadata": {},
   "outputs": [
    {
     "data": {
      "text/plain": [
       "(10000, 14)"
      ]
     },
     "execution_count": 147,
     "metadata": {},
     "output_type": "execute_result"
    }
   ],
   "source": [
    "ecom.shape"
   ]
  },
  {
   "cell_type": "code",
   "execution_count": 148,
   "id": "d37791f4",
   "metadata": {},
   "outputs": [
    {
     "data": {
      "text/html": [
       "<div>\n",
       "<style scoped>\n",
       "    .dataframe tbody tr th:only-of-type {\n",
       "        vertical-align: middle;\n",
       "    }\n",
       "\n",
       "    .dataframe tbody tr th {\n",
       "        vertical-align: top;\n",
       "    }\n",
       "\n",
       "    .dataframe thead th {\n",
       "        text-align: right;\n",
       "    }\n",
       "</style>\n",
       "<table border=\"1\" class=\"dataframe\">\n",
       "  <thead>\n",
       "    <tr style=\"text-align: right;\">\n",
       "      <th></th>\n",
       "      <th>Address</th>\n",
       "      <th>Lot</th>\n",
       "      <th>AM or PM</th>\n",
       "      <th>Browser Info</th>\n",
       "      <th>Company</th>\n",
       "      <th>Credit Card</th>\n",
       "      <th>CC Exp Date</th>\n",
       "      <th>CC Security Code</th>\n",
       "      <th>CC Provider</th>\n",
       "      <th>Email</th>\n",
       "      <th>Job</th>\n",
       "      <th>IP Address</th>\n",
       "      <th>Language</th>\n",
       "      <th>Purchase Price</th>\n",
       "    </tr>\n",
       "  </thead>\n",
       "  <tbody>\n",
       "    <tr>\n",
       "      <th>9995</th>\n",
       "      <td>966 Castaneda Locks\\nWest Juliafurt, CO 96415</td>\n",
       "      <td>92 XI</td>\n",
       "      <td>PM</td>\n",
       "      <td>Mozilla/5.0 (Windows NT 5.1) AppleWebKit/5352 ...</td>\n",
       "      <td>Randall-Sloan</td>\n",
       "      <td>342945015358701</td>\n",
       "      <td>03/22</td>\n",
       "      <td>838</td>\n",
       "      <td>JCB 15 digit</td>\n",
       "      <td>iscott@wade-garner.com</td>\n",
       "      <td>Printmaker</td>\n",
       "      <td>29.73.197.114</td>\n",
       "      <td>it</td>\n",
       "      <td>82.21</td>\n",
       "    </tr>\n",
       "    <tr>\n",
       "      <th>9996</th>\n",
       "      <td>832 Curtis Dam Suite 785\\nNorth Edwardburgh, T...</td>\n",
       "      <td>41 JY</td>\n",
       "      <td>AM</td>\n",
       "      <td>Mozilla/5.0 (compatible; MSIE 9.0; Windows NT ...</td>\n",
       "      <td>Hale, Collins and Wilson</td>\n",
       "      <td>210033169205009</td>\n",
       "      <td>07/25</td>\n",
       "      <td>207</td>\n",
       "      <td>JCB 16 digit</td>\n",
       "      <td>mary85@hotmail.com</td>\n",
       "      <td>Energy engineer</td>\n",
       "      <td>121.133.168.51</td>\n",
       "      <td>pt</td>\n",
       "      <td>25.63</td>\n",
       "    </tr>\n",
       "    <tr>\n",
       "      <th>9997</th>\n",
       "      <td>Unit 4434 Box 6343\\nDPO AE 28026-0283</td>\n",
       "      <td>74 Zh</td>\n",
       "      <td>AM</td>\n",
       "      <td>Mozilla/5.0 (Macintosh; U; Intel Mac OS X 10_7...</td>\n",
       "      <td>Anderson Ltd</td>\n",
       "      <td>6011539787356311</td>\n",
       "      <td>05/21</td>\n",
       "      <td>1</td>\n",
       "      <td>VISA 16 digit</td>\n",
       "      <td>tyler16@gmail.com</td>\n",
       "      <td>Veterinary surgeon</td>\n",
       "      <td>156.210.0.254</td>\n",
       "      <td>el</td>\n",
       "      <td>83.98</td>\n",
       "    </tr>\n",
       "    <tr>\n",
       "      <th>9998</th>\n",
       "      <td>0096 English Rest\\nRoystad, IA 12457</td>\n",
       "      <td>74 cL</td>\n",
       "      <td>PM</td>\n",
       "      <td>Mozilla/5.0 (Macintosh; Intel Mac OS X 10_8_8;...</td>\n",
       "      <td>Cook Inc</td>\n",
       "      <td>180003348082930</td>\n",
       "      <td>11/17</td>\n",
       "      <td>987</td>\n",
       "      <td>American Express</td>\n",
       "      <td>elizabethmoore@reid.net</td>\n",
       "      <td>Local government officer</td>\n",
       "      <td>55.78.26.143</td>\n",
       "      <td>es</td>\n",
       "      <td>38.84</td>\n",
       "    </tr>\n",
       "    <tr>\n",
       "      <th>9999</th>\n",
       "      <td>40674 Barrett Stravenue\\nGrimesville, WI 79682</td>\n",
       "      <td>64 Hr</td>\n",
       "      <td>AM</td>\n",
       "      <td>Mozilla/5.0 (X11; Linux i686; rv:1.9.5.20) Gec...</td>\n",
       "      <td>Greene Inc</td>\n",
       "      <td>4139972901927273</td>\n",
       "      <td>02/19</td>\n",
       "      <td>302</td>\n",
       "      <td>JCB 15 digit</td>\n",
       "      <td>rachelford@vaughn.com</td>\n",
       "      <td>Embryologist, clinical</td>\n",
       "      <td>176.119.198.199</td>\n",
       "      <td>el</td>\n",
       "      <td>67.59</td>\n",
       "    </tr>\n",
       "  </tbody>\n",
       "</table>\n",
       "</div>"
      ],
      "text/plain": [
       "                                                Address    Lot AM or PM  \\\n",
       "9995      966 Castaneda Locks\\nWest Juliafurt, CO 96415  92 XI       PM   \n",
       "9996  832 Curtis Dam Suite 785\\nNorth Edwardburgh, T...  41 JY       AM   \n",
       "9997              Unit 4434 Box 6343\\nDPO AE 28026-0283  74 Zh       AM   \n",
       "9998               0096 English Rest\\nRoystad, IA 12457  74 cL       PM   \n",
       "9999     40674 Barrett Stravenue\\nGrimesville, WI 79682  64 Hr       AM   \n",
       "\n",
       "                                           Browser Info  \\\n",
       "9995  Mozilla/5.0 (Windows NT 5.1) AppleWebKit/5352 ...   \n",
       "9996  Mozilla/5.0 (compatible; MSIE 9.0; Windows NT ...   \n",
       "9997  Mozilla/5.0 (Macintosh; U; Intel Mac OS X 10_7...   \n",
       "9998  Mozilla/5.0 (Macintosh; Intel Mac OS X 10_8_8;...   \n",
       "9999  Mozilla/5.0 (X11; Linux i686; rv:1.9.5.20) Gec...   \n",
       "\n",
       "                       Company       Credit Card CC Exp Date  \\\n",
       "9995             Randall-Sloan   342945015358701       03/22   \n",
       "9996  Hale, Collins and Wilson   210033169205009       07/25   \n",
       "9997              Anderson Ltd  6011539787356311       05/21   \n",
       "9998                  Cook Inc   180003348082930       11/17   \n",
       "9999                Greene Inc  4139972901927273       02/19   \n",
       "\n",
       "      CC Security Code       CC Provider                    Email  \\\n",
       "9995               838      JCB 15 digit   iscott@wade-garner.com   \n",
       "9996               207      JCB 16 digit       mary85@hotmail.com   \n",
       "9997                 1     VISA 16 digit        tyler16@gmail.com   \n",
       "9998               987  American Express  elizabethmoore@reid.net   \n",
       "9999               302      JCB 15 digit    rachelford@vaughn.com   \n",
       "\n",
       "                           Job       IP Address Language  Purchase Price  \n",
       "9995                Printmaker    29.73.197.114       it           82.21  \n",
       "9996           Energy engineer   121.133.168.51       pt           25.63  \n",
       "9997        Veterinary surgeon    156.210.0.254       el           83.98  \n",
       "9998  Local government officer     55.78.26.143       es           38.84  \n",
       "9999    Embryologist, clinical  176.119.198.199       el           67.59  "
      ]
     },
     "execution_count": 148,
     "metadata": {},
     "output_type": "execute_result"
    }
   ],
   "source": [
    "ecom.tail()"
   ]
  },
  {
   "cell_type": "code",
   "execution_count": 149,
   "id": "7bcfe69c",
   "metadata": {},
   "outputs": [
    {
     "data": {
      "text/html": [
       "<div>\n",
       "<style scoped>\n",
       "    .dataframe tbody tr th:only-of-type {\n",
       "        vertical-align: middle;\n",
       "    }\n",
       "\n",
       "    .dataframe tbody tr th {\n",
       "        vertical-align: top;\n",
       "    }\n",
       "\n",
       "    .dataframe thead th {\n",
       "        text-align: right;\n",
       "    }\n",
       "</style>\n",
       "<table border=\"1\" class=\"dataframe\">\n",
       "  <thead>\n",
       "    <tr style=\"text-align: right;\">\n",
       "      <th></th>\n",
       "      <th>Address</th>\n",
       "      <th>Lot</th>\n",
       "      <th>AM or PM</th>\n",
       "      <th>Browser Info</th>\n",
       "      <th>Company</th>\n",
       "      <th>Credit Card</th>\n",
       "      <th>CC Exp Date</th>\n",
       "      <th>CC Security Code</th>\n",
       "      <th>CC Provider</th>\n",
       "      <th>Email</th>\n",
       "      <th>Job</th>\n",
       "      <th>IP Address</th>\n",
       "      <th>Language</th>\n",
       "      <th>Purchase Price</th>\n",
       "    </tr>\n",
       "  </thead>\n",
       "  <tbody>\n",
       "    <tr>\n",
       "      <th>0</th>\n",
       "      <td>16629 Pace Camp Apt. 448\\nAlexisborough, NE 77...</td>\n",
       "      <td>46 in</td>\n",
       "      <td>PM</td>\n",
       "      <td>Opera/9.56.(X11; Linux x86_64; sl-SI) Presto/2...</td>\n",
       "      <td>Martinez-Herman</td>\n",
       "      <td>6011929061123406</td>\n",
       "      <td>02/20</td>\n",
       "      <td>900</td>\n",
       "      <td>JCB 16 digit</td>\n",
       "      <td>pdunlap@yahoo.com</td>\n",
       "      <td>Scientist, product/process development</td>\n",
       "      <td>149.146.147.205</td>\n",
       "      <td>el</td>\n",
       "      <td>98.14</td>\n",
       "    </tr>\n",
       "    <tr>\n",
       "      <th>1</th>\n",
       "      <td>9374 Jasmine Spurs Suite 508\\nSouth John, TN 8...</td>\n",
       "      <td>28 rn</td>\n",
       "      <td>PM</td>\n",
       "      <td>Opera/8.93.(Windows 98; Win 9x 4.90; en-US) Pr...</td>\n",
       "      <td>Fletcher, Richards and Whitaker</td>\n",
       "      <td>3337758169645356</td>\n",
       "      <td>11/18</td>\n",
       "      <td>561</td>\n",
       "      <td>Mastercard</td>\n",
       "      <td>anthony41@reed.com</td>\n",
       "      <td>Drilling engineer</td>\n",
       "      <td>15.160.41.51</td>\n",
       "      <td>fr</td>\n",
       "      <td>70.73</td>\n",
       "    </tr>\n",
       "    <tr>\n",
       "      <th>2</th>\n",
       "      <td>Unit 0065 Box 5052\\nDPO AP 27450</td>\n",
       "      <td>94 vE</td>\n",
       "      <td>PM</td>\n",
       "      <td>Mozilla/5.0 (compatible; MSIE 9.0; Windows NT ...</td>\n",
       "      <td>Simpson, Williams and Pham</td>\n",
       "      <td>675957666125</td>\n",
       "      <td>08/19</td>\n",
       "      <td>699</td>\n",
       "      <td>JCB 16 digit</td>\n",
       "      <td>amymiller@morales-harrison.com</td>\n",
       "      <td>Customer service manager</td>\n",
       "      <td>132.207.160.22</td>\n",
       "      <td>de</td>\n",
       "      <td>0.95</td>\n",
       "    </tr>\n",
       "    <tr>\n",
       "      <th>3</th>\n",
       "      <td>7780 Julia Fords\\nNew Stacy, WA 45798</td>\n",
       "      <td>36 vm</td>\n",
       "      <td>PM</td>\n",
       "      <td>Mozilla/5.0 (Macintosh; Intel Mac OS X 10_8_0 ...</td>\n",
       "      <td>Williams, Marshall and Buchanan</td>\n",
       "      <td>6011578504430710</td>\n",
       "      <td>02/24</td>\n",
       "      <td>384</td>\n",
       "      <td>Discover</td>\n",
       "      <td>brent16@olson-robinson.info</td>\n",
       "      <td>Drilling engineer</td>\n",
       "      <td>30.250.74.19</td>\n",
       "      <td>es</td>\n",
       "      <td>78.04</td>\n",
       "    </tr>\n",
       "    <tr>\n",
       "      <th>4</th>\n",
       "      <td>23012 Munoz Drive Suite 337\\nNew Cynthia, TX 5...</td>\n",
       "      <td>20 IE</td>\n",
       "      <td>AM</td>\n",
       "      <td>Opera/9.58.(X11; Linux x86_64; it-IT) Presto/2...</td>\n",
       "      <td>Brown, Watson and Andrews</td>\n",
       "      <td>6011456623207998</td>\n",
       "      <td>10/25</td>\n",
       "      <td>678</td>\n",
       "      <td>Diners Club / Carte Blanche</td>\n",
       "      <td>christopherwright@gmail.com</td>\n",
       "      <td>Fine artist</td>\n",
       "      <td>24.140.33.94</td>\n",
       "      <td>es</td>\n",
       "      <td>77.82</td>\n",
       "    </tr>\n",
       "    <tr>\n",
       "      <th>5</th>\n",
       "      <td>7502 Powell Mission Apt. 768\\nTravisland, VA 3...</td>\n",
       "      <td>21 XT</td>\n",
       "      <td>PM</td>\n",
       "      <td>Mozilla/5.0 (Macintosh; U; PPC Mac OS X 10_8_5...</td>\n",
       "      <td>Silva-Anderson</td>\n",
       "      <td>30246185196287</td>\n",
       "      <td>07/25</td>\n",
       "      <td>7169</td>\n",
       "      <td>Discover</td>\n",
       "      <td>ynguyen@gmail.com</td>\n",
       "      <td>Fish farm manager</td>\n",
       "      <td>55.96.152.147</td>\n",
       "      <td>ru</td>\n",
       "      <td>25.15</td>\n",
       "    </tr>\n",
       "    <tr>\n",
       "      <th>6</th>\n",
       "      <td>93971 Conway Causeway\\nAndersonburgh, AZ 75107</td>\n",
       "      <td>96 Xt</td>\n",
       "      <td>AM</td>\n",
       "      <td>Mozilla/5.0 (compatible; MSIE 7.0; Windows NT ...</td>\n",
       "      <td>Gibson and Sons</td>\n",
       "      <td>6011398782655569</td>\n",
       "      <td>07/24</td>\n",
       "      <td>714</td>\n",
       "      <td>VISA 16 digit</td>\n",
       "      <td>olivia04@yahoo.com</td>\n",
       "      <td>Dancer</td>\n",
       "      <td>127.252.144.18</td>\n",
       "      <td>de</td>\n",
       "      <td>88.56</td>\n",
       "    </tr>\n",
       "    <tr>\n",
       "      <th>7</th>\n",
       "      <td>260 Rachel Plains Suite 366\\nCastroberg, WV 24...</td>\n",
       "      <td>96 pG</td>\n",
       "      <td>PM</td>\n",
       "      <td>Mozilla/5.0 (X11; Linux i686) AppleWebKit/5350...</td>\n",
       "      <td>Marshall-Collins</td>\n",
       "      <td>561252141909</td>\n",
       "      <td>06/25</td>\n",
       "      <td>256</td>\n",
       "      <td>VISA 13 digit</td>\n",
       "      <td>phillip48@parks.info</td>\n",
       "      <td>Event organiser</td>\n",
       "      <td>224.247.97.150</td>\n",
       "      <td>pt</td>\n",
       "      <td>44.25</td>\n",
       "    </tr>\n",
       "    <tr>\n",
       "      <th>8</th>\n",
       "      <td>2129 Dylan Burg\\nNew Michelle, ME 28650</td>\n",
       "      <td>45 JN</td>\n",
       "      <td>PM</td>\n",
       "      <td>Mozilla/5.0 (Macintosh; U; Intel Mac OS X 10_7...</td>\n",
       "      <td>Galloway and Sons</td>\n",
       "      <td>180041795790001</td>\n",
       "      <td>04/24</td>\n",
       "      <td>899</td>\n",
       "      <td>JCB 16 digit</td>\n",
       "      <td>kdavis@rasmussen.com</td>\n",
       "      <td>Financial manager</td>\n",
       "      <td>146.234.201.229</td>\n",
       "      <td>ru</td>\n",
       "      <td>59.54</td>\n",
       "    </tr>\n",
       "    <tr>\n",
       "      <th>9</th>\n",
       "      <td>3795 Dawson Extensions\\nLake Tinafort, ID 88739</td>\n",
       "      <td>15 Ug</td>\n",
       "      <td>AM</td>\n",
       "      <td>Mozilla/5.0 (X11; Linux i686; rv:1.9.7.20) Gec...</td>\n",
       "      <td>Rivera, Buchanan and Ramirez</td>\n",
       "      <td>4396283918371</td>\n",
       "      <td>01/17</td>\n",
       "      <td>931</td>\n",
       "      <td>American Express</td>\n",
       "      <td>qcoleman@hunt-huerta.com</td>\n",
       "      <td>Forensic scientist</td>\n",
       "      <td>236.198.199.8</td>\n",
       "      <td>zh</td>\n",
       "      <td>95.63</td>\n",
       "    </tr>\n",
       "  </tbody>\n",
       "</table>\n",
       "</div>"
      ],
      "text/plain": [
       "                                             Address    Lot AM or PM  \\\n",
       "0  16629 Pace Camp Apt. 448\\nAlexisborough, NE 77...  46 in       PM   \n",
       "1  9374 Jasmine Spurs Suite 508\\nSouth John, TN 8...  28 rn       PM   \n",
       "2                   Unit 0065 Box 5052\\nDPO AP 27450  94 vE       PM   \n",
       "3              7780 Julia Fords\\nNew Stacy, WA 45798  36 vm       PM   \n",
       "4  23012 Munoz Drive Suite 337\\nNew Cynthia, TX 5...  20 IE       AM   \n",
       "5  7502 Powell Mission Apt. 768\\nTravisland, VA 3...  21 XT       PM   \n",
       "6     93971 Conway Causeway\\nAndersonburgh, AZ 75107  96 Xt       AM   \n",
       "7  260 Rachel Plains Suite 366\\nCastroberg, WV 24...  96 pG       PM   \n",
       "8            2129 Dylan Burg\\nNew Michelle, ME 28650  45 JN       PM   \n",
       "9    3795 Dawson Extensions\\nLake Tinafort, ID 88739  15 Ug       AM   \n",
       "\n",
       "                                        Browser Info  \\\n",
       "0  Opera/9.56.(X11; Linux x86_64; sl-SI) Presto/2...   \n",
       "1  Opera/8.93.(Windows 98; Win 9x 4.90; en-US) Pr...   \n",
       "2  Mozilla/5.0 (compatible; MSIE 9.0; Windows NT ...   \n",
       "3  Mozilla/5.0 (Macintosh; Intel Mac OS X 10_8_0 ...   \n",
       "4  Opera/9.58.(X11; Linux x86_64; it-IT) Presto/2...   \n",
       "5  Mozilla/5.0 (Macintosh; U; PPC Mac OS X 10_8_5...   \n",
       "6  Mozilla/5.0 (compatible; MSIE 7.0; Windows NT ...   \n",
       "7  Mozilla/5.0 (X11; Linux i686) AppleWebKit/5350...   \n",
       "8  Mozilla/5.0 (Macintosh; U; Intel Mac OS X 10_7...   \n",
       "9  Mozilla/5.0 (X11; Linux i686; rv:1.9.7.20) Gec...   \n",
       "\n",
       "                           Company       Credit Card CC Exp Date  \\\n",
       "0                  Martinez-Herman  6011929061123406       02/20   \n",
       "1  Fletcher, Richards and Whitaker  3337758169645356       11/18   \n",
       "2       Simpson, Williams and Pham      675957666125       08/19   \n",
       "3  Williams, Marshall and Buchanan  6011578504430710       02/24   \n",
       "4        Brown, Watson and Andrews  6011456623207998       10/25   \n",
       "5                   Silva-Anderson    30246185196287       07/25   \n",
       "6                  Gibson and Sons  6011398782655569       07/24   \n",
       "7                 Marshall-Collins      561252141909       06/25   \n",
       "8                Galloway and Sons   180041795790001       04/24   \n",
       "9     Rivera, Buchanan and Ramirez     4396283918371       01/17   \n",
       "\n",
       "   CC Security Code                  CC Provider  \\\n",
       "0               900                 JCB 16 digit   \n",
       "1               561                   Mastercard   \n",
       "2               699                 JCB 16 digit   \n",
       "3               384                     Discover   \n",
       "4               678  Diners Club / Carte Blanche   \n",
       "5              7169                     Discover   \n",
       "6               714                VISA 16 digit   \n",
       "7               256                VISA 13 digit   \n",
       "8               899                 JCB 16 digit   \n",
       "9               931             American Express   \n",
       "\n",
       "                            Email                                     Job  \\\n",
       "0               pdunlap@yahoo.com  Scientist, product/process development   \n",
       "1              anthony41@reed.com                       Drilling engineer   \n",
       "2  amymiller@morales-harrison.com                Customer service manager   \n",
       "3     brent16@olson-robinson.info                       Drilling engineer   \n",
       "4     christopherwright@gmail.com                             Fine artist   \n",
       "5               ynguyen@gmail.com                       Fish farm manager   \n",
       "6              olivia04@yahoo.com                                  Dancer   \n",
       "7            phillip48@parks.info                         Event organiser   \n",
       "8            kdavis@rasmussen.com                       Financial manager   \n",
       "9        qcoleman@hunt-huerta.com                      Forensic scientist   \n",
       "\n",
       "        IP Address Language  Purchase Price  \n",
       "0  149.146.147.205       el           98.14  \n",
       "1     15.160.41.51       fr           70.73  \n",
       "2   132.207.160.22       de            0.95  \n",
       "3     30.250.74.19       es           78.04  \n",
       "4     24.140.33.94       es           77.82  \n",
       "5    55.96.152.147       ru           25.15  \n",
       "6   127.252.144.18       de           88.56  \n",
       "7   224.247.97.150       pt           44.25  \n",
       "8  146.234.201.229       ru           59.54  \n",
       "9    236.198.199.8       zh           95.63  "
      ]
     },
     "execution_count": 149,
     "metadata": {},
     "output_type": "execute_result"
    }
   ],
   "source": [
    "ecom.head(10)"
   ]
  },
  {
   "cell_type": "code",
   "execution_count": 150,
   "id": "153edbd6",
   "metadata": {},
   "outputs": [
    {
     "data": {
      "text/plain": [
       "Address              object\n",
       "Lot                  object\n",
       "AM or PM             object\n",
       "Browser Info         object\n",
       "Company              object\n",
       "Credit Card           int64\n",
       "CC Exp Date          object\n",
       "CC Security Code      int64\n",
       "CC Provider          object\n",
       "Email                object\n",
       "Job                  object\n",
       "IP Address           object\n",
       "Language             object\n",
       "Purchase Price      float64\n",
       "dtype: object"
      ]
     },
     "execution_count": 150,
     "metadata": {},
     "output_type": "execute_result"
    }
   ],
   "source": [
    "ecom.dtypes"
   ]
  },
  {
   "cell_type": "code",
   "execution_count": 151,
   "id": "1975c3d6",
   "metadata": {},
   "outputs": [
    {
     "data": {
      "text/plain": [
       "Address             0\n",
       "Lot                 0\n",
       "AM or PM            0\n",
       "Browser Info        0\n",
       "Company             0\n",
       "Credit Card         0\n",
       "CC Exp Date         0\n",
       "CC Security Code    0\n",
       "CC Provider         0\n",
       "Email               0\n",
       "Job                 0\n",
       "IP Address          0\n",
       "Language            0\n",
       "Purchase Price      0\n",
       "dtype: int64"
      ]
     },
     "execution_count": 151,
     "metadata": {},
     "output_type": "execute_result"
    }
   ],
   "source": [
    "ecom.isnull().sum()\n",
    "# NO null Valaues in the DataSet"
   ]
  },
  {
   "cell_type": "code",
   "execution_count": 152,
   "id": "fa3351e9",
   "metadata": {},
   "outputs": [
    {
     "name": "stdout",
     "output_type": "stream",
     "text": [
      "<class 'pandas.core.frame.DataFrame'>\n",
      "RangeIndex: 10000 entries, 0 to 9999\n",
      "Data columns (total 14 columns):\n",
      " #   Column            Non-Null Count  Dtype  \n",
      "---  ------            --------------  -----  \n",
      " 0   Address           10000 non-null  object \n",
      " 1   Lot               10000 non-null  object \n",
      " 2   AM or PM          10000 non-null  object \n",
      " 3   Browser Info      10000 non-null  object \n",
      " 4   Company           10000 non-null  object \n",
      " 5   Credit Card       10000 non-null  int64  \n",
      " 6   CC Exp Date       10000 non-null  object \n",
      " 7   CC Security Code  10000 non-null  int64  \n",
      " 8   CC Provider       10000 non-null  object \n",
      " 9   Email             10000 non-null  object \n",
      " 10  Job               10000 non-null  object \n",
      " 11  IP Address        10000 non-null  object \n",
      " 12  Language          10000 non-null  object \n",
      " 13  Purchase Price    10000 non-null  float64\n",
      "dtypes: float64(1), int64(2), object(11)\n",
      "memory usage: 1.1+ MB\n"
     ]
    }
   ],
   "source": [
    "ecom.info()"
   ]
  },
  {
   "cell_type": "code",
   "execution_count": 153,
   "id": "f6c02ea7",
   "metadata": {},
   "outputs": [
    {
     "data": {
      "text/plain": [
       "14"
      ]
     },
     "execution_count": 153,
     "metadata": {},
     "output_type": "execute_result"
    }
   ],
   "source": [
    "len(ecom.columns)"
   ]
  },
  {
   "cell_type": "code",
   "execution_count": 154,
   "id": "2d3288a6",
   "metadata": {},
   "outputs": [
    {
     "data": {
      "text/plain": [
       "10000"
      ]
     },
     "execution_count": 154,
     "metadata": {},
     "output_type": "execute_result"
    }
   ],
   "source": [
    "len(ecom)"
   ]
  },
  {
   "cell_type": "markdown",
   "id": "93097d9c",
   "metadata": {},
   "source": [
    "# Highest And Lowest Purchase Prizes"
   ]
  },
  {
   "cell_type": "code",
   "execution_count": 155,
   "id": "b6995c3d",
   "metadata": {},
   "outputs": [
    {
     "data": {
      "text/plain": [
       "Index(['Address', 'Lot', 'AM or PM', 'Browser Info', 'Company', 'Credit Card',\n",
       "       'CC Exp Date', 'CC Security Code', 'CC Provider', 'Email', 'Job',\n",
       "       'IP Address', 'Language', 'Purchase Price'],\n",
       "      dtype='object')"
      ]
     },
     "execution_count": 155,
     "metadata": {},
     "output_type": "execute_result"
    }
   ],
   "source": [
    "ecom.columns"
   ]
  },
  {
   "cell_type": "code",
   "execution_count": 156,
   "id": "62d05c94",
   "metadata": {},
   "outputs": [
    {
     "data": {
      "text/plain": [
       "99.99"
      ]
     },
     "execution_count": 156,
     "metadata": {},
     "output_type": "execute_result"
    }
   ],
   "source": [
    "ecom[\"Purchase Price\"].max()"
   ]
  },
  {
   "cell_type": "code",
   "execution_count": 157,
   "id": "612d059f",
   "metadata": {},
   "outputs": [
    {
     "data": {
      "text/plain": [
       "0.0"
      ]
     },
     "execution_count": 157,
     "metadata": {},
     "output_type": "execute_result"
    }
   ],
   "source": [
    "ecom[\"Purchase Price\"].min()"
   ]
  },
  {
   "cell_type": "code",
   "execution_count": 158,
   "id": "789c9b22",
   "metadata": {},
   "outputs": [
    {
     "data": {
      "text/plain": [
       "50.34730200000025"
      ]
     },
     "execution_count": 158,
     "metadata": {},
     "output_type": "execute_result"
    }
   ],
   "source": [
    "ecom[\"Purchase Price\"].mean()"
   ]
  },
  {
   "cell_type": "code",
   "execution_count": 160,
   "id": "18cfdd4d",
   "metadata": {},
   "outputs": [
    {
     "data": {
      "text/html": [
       "<div>\n",
       "<style scoped>\n",
       "    .dataframe tbody tr th:only-of-type {\n",
       "        vertical-align: middle;\n",
       "    }\n",
       "\n",
       "    .dataframe tbody tr th {\n",
       "        vertical-align: top;\n",
       "    }\n",
       "\n",
       "    .dataframe thead th {\n",
       "        text-align: right;\n",
       "    }\n",
       "</style>\n",
       "<table border=\"1\" class=\"dataframe\">\n",
       "  <thead>\n",
       "    <tr style=\"text-align: right;\">\n",
       "      <th></th>\n",
       "      <th>Credit Card</th>\n",
       "      <th>CC Security Code</th>\n",
       "      <th>Purchase Price</th>\n",
       "    </tr>\n",
       "  </thead>\n",
       "  <tbody>\n",
       "    <tr>\n",
       "      <th>count</th>\n",
       "      <td>1.000000e+04</td>\n",
       "      <td>10000.000000</td>\n",
       "      <td>10000.000000</td>\n",
       "    </tr>\n",
       "    <tr>\n",
       "      <th>mean</th>\n",
       "      <td>2.341374e+15</td>\n",
       "      <td>907.217800</td>\n",
       "      <td>50.347302</td>\n",
       "    </tr>\n",
       "    <tr>\n",
       "      <th>std</th>\n",
       "      <td>2.256103e+15</td>\n",
       "      <td>1589.693035</td>\n",
       "      <td>29.015836</td>\n",
       "    </tr>\n",
       "    <tr>\n",
       "      <th>min</th>\n",
       "      <td>6.040186e+10</td>\n",
       "      <td>0.000000</td>\n",
       "      <td>0.000000</td>\n",
       "    </tr>\n",
       "    <tr>\n",
       "      <th>25%</th>\n",
       "      <td>3.056322e+13</td>\n",
       "      <td>280.000000</td>\n",
       "      <td>25.150000</td>\n",
       "    </tr>\n",
       "    <tr>\n",
       "      <th>50%</th>\n",
       "      <td>8.699942e+14</td>\n",
       "      <td>548.000000</td>\n",
       "      <td>50.505000</td>\n",
       "    </tr>\n",
       "    <tr>\n",
       "      <th>75%</th>\n",
       "      <td>4.492298e+15</td>\n",
       "      <td>816.000000</td>\n",
       "      <td>75.770000</td>\n",
       "    </tr>\n",
       "    <tr>\n",
       "      <th>max</th>\n",
       "      <td>6.012000e+15</td>\n",
       "      <td>9993.000000</td>\n",
       "      <td>99.990000</td>\n",
       "    </tr>\n",
       "  </tbody>\n",
       "</table>\n",
       "</div>"
      ],
      "text/plain": [
       "        Credit Card  CC Security Code  Purchase Price\n",
       "count  1.000000e+04      10000.000000    10000.000000\n",
       "mean   2.341374e+15        907.217800       50.347302\n",
       "std    2.256103e+15       1589.693035       29.015836\n",
       "min    6.040186e+10          0.000000        0.000000\n",
       "25%    3.056322e+13        280.000000       25.150000\n",
       "50%    8.699942e+14        548.000000       50.505000\n",
       "75%    4.492298e+15        816.000000       75.770000\n",
       "max    6.012000e+15       9993.000000       99.990000"
      ]
     },
     "execution_count": 160,
     "metadata": {},
     "output_type": "execute_result"
    }
   ],
   "source": [
    "ecom.describe()\n",
    "# describes the whole numeric data:"
   ]
  },
  {
   "cell_type": "code",
   "execution_count": 162,
   "id": "152c39f5",
   "metadata": {},
   "outputs": [
    {
     "data": {
      "text/html": [
       "<div>\n",
       "<style scoped>\n",
       "    .dataframe tbody tr th:only-of-type {\n",
       "        vertical-align: middle;\n",
       "    }\n",
       "\n",
       "    .dataframe tbody tr th {\n",
       "        vertical-align: top;\n",
       "    }\n",
       "\n",
       "    .dataframe thead th {\n",
       "        text-align: right;\n",
       "    }\n",
       "</style>\n",
       "<table border=\"1\" class=\"dataframe\">\n",
       "  <thead>\n",
       "    <tr style=\"text-align: right;\">\n",
       "      <th></th>\n",
       "      <th>Language</th>\n",
       "      <th>Purchase Price</th>\n",
       "    </tr>\n",
       "  </thead>\n",
       "  <tbody>\n",
       "    <tr>\n",
       "      <th>1</th>\n",
       "      <td>fr</td>\n",
       "      <td>70.73</td>\n",
       "    </tr>\n",
       "    <tr>\n",
       "      <th>19</th>\n",
       "      <td>fr</td>\n",
       "      <td>58.39</td>\n",
       "    </tr>\n",
       "    <tr>\n",
       "      <th>53</th>\n",
       "      <td>fr</td>\n",
       "      <td>10.41</td>\n",
       "    </tr>\n",
       "    <tr>\n",
       "      <th>76</th>\n",
       "      <td>fr</td>\n",
       "      <td>57.34</td>\n",
       "    </tr>\n",
       "    <tr>\n",
       "      <th>82</th>\n",
       "      <td>fr</td>\n",
       "      <td>49.04</td>\n",
       "    </tr>\n",
       "    <tr>\n",
       "      <th>...</th>\n",
       "      <td>...</td>\n",
       "      <td>...</td>\n",
       "    </tr>\n",
       "    <tr>\n",
       "      <th>9941</th>\n",
       "      <td>fr</td>\n",
       "      <td>60.03</td>\n",
       "    </tr>\n",
       "    <tr>\n",
       "      <th>9947</th>\n",
       "      <td>fr</td>\n",
       "      <td>49.61</td>\n",
       "    </tr>\n",
       "    <tr>\n",
       "      <th>9951</th>\n",
       "      <td>fr</td>\n",
       "      <td>57.59</td>\n",
       "    </tr>\n",
       "    <tr>\n",
       "      <th>9977</th>\n",
       "      <td>fr</td>\n",
       "      <td>94.93</td>\n",
       "    </tr>\n",
       "    <tr>\n",
       "      <th>9980</th>\n",
       "      <td>fr</td>\n",
       "      <td>16.05</td>\n",
       "    </tr>\n",
       "  </tbody>\n",
       "</table>\n",
       "<p>1097 rows × 2 columns</p>\n",
       "</div>"
      ],
      "text/plain": [
       "     Language  Purchase Price\n",
       "1          fr           70.73\n",
       "19         fr           58.39\n",
       "53         fr           10.41\n",
       "76         fr           57.34\n",
       "82         fr           49.04\n",
       "...       ...             ...\n",
       "9941       fr           60.03\n",
       "9947       fr           49.61\n",
       "9951       fr           57.59\n",
       "9977       fr           94.93\n",
       "9980       fr           16.05\n",
       "\n",
       "[1097 rows x 2 columns]"
      ]
     },
     "execution_count": 162,
     "metadata": {},
     "output_type": "execute_result"
    }
   ],
   "source": [
    "# Language Contains fr\n",
    "ecom[ecom[\"Language\"].str.contains('fr',case=False)][['Language','Purchase Price']]"
   ]
  },
  {
   "cell_type": "code",
   "execution_count": 164,
   "id": "efeb6210",
   "metadata": {},
   "outputs": [
    {
     "data": {
      "text/html": [
       "<div>\n",
       "<style scoped>\n",
       "    .dataframe tbody tr th:only-of-type {\n",
       "        vertical-align: middle;\n",
       "    }\n",
       "\n",
       "    .dataframe tbody tr th {\n",
       "        vertical-align: top;\n",
       "    }\n",
       "\n",
       "    .dataframe thead th {\n",
       "        text-align: right;\n",
       "    }\n",
       "</style>\n",
       "<table border=\"1\" class=\"dataframe\">\n",
       "  <thead>\n",
       "    <tr style=\"text-align: right;\">\n",
       "      <th></th>\n",
       "      <th>Address</th>\n",
       "      <th>Lot</th>\n",
       "      <th>AM or PM</th>\n",
       "      <th>Browser Info</th>\n",
       "      <th>Company</th>\n",
       "      <th>Credit Card</th>\n",
       "      <th>CC Exp Date</th>\n",
       "      <th>CC Security Code</th>\n",
       "      <th>CC Provider</th>\n",
       "      <th>Email</th>\n",
       "      <th>Job</th>\n",
       "      <th>IP Address</th>\n",
       "      <th>Language</th>\n",
       "      <th>Purchase Price</th>\n",
       "    </tr>\n",
       "  </thead>\n",
       "  <tbody>\n",
       "    <tr>\n",
       "      <th>1</th>\n",
       "      <td>9374 Jasmine Spurs Suite 508\\nSouth John, TN 8...</td>\n",
       "      <td>28 rn</td>\n",
       "      <td>PM</td>\n",
       "      <td>Opera/8.93.(Windows 98; Win 9x 4.90; en-US) Pr...</td>\n",
       "      <td>Fletcher, Richards and Whitaker</td>\n",
       "      <td>3337758169645356</td>\n",
       "      <td>11/18</td>\n",
       "      <td>561</td>\n",
       "      <td>Mastercard</td>\n",
       "      <td>anthony41@reed.com</td>\n",
       "      <td>Drilling engineer</td>\n",
       "      <td>15.160.41.51</td>\n",
       "      <td>fr</td>\n",
       "      <td>70.73</td>\n",
       "    </tr>\n",
       "    <tr>\n",
       "      <th>3</th>\n",
       "      <td>7780 Julia Fords\\nNew Stacy, WA 45798</td>\n",
       "      <td>36 vm</td>\n",
       "      <td>PM</td>\n",
       "      <td>Mozilla/5.0 (Macintosh; Intel Mac OS X 10_8_0 ...</td>\n",
       "      <td>Williams, Marshall and Buchanan</td>\n",
       "      <td>6011578504430710</td>\n",
       "      <td>02/24</td>\n",
       "      <td>384</td>\n",
       "      <td>Discover</td>\n",
       "      <td>brent16@olson-robinson.info</td>\n",
       "      <td>Drilling engineer</td>\n",
       "      <td>30.250.74.19</td>\n",
       "      <td>es</td>\n",
       "      <td>78.04</td>\n",
       "    </tr>\n",
       "    <tr>\n",
       "      <th>50</th>\n",
       "      <td>41159 Michael Centers\\nAdamsfort, RI 37108-6674</td>\n",
       "      <td>46 Ce</td>\n",
       "      <td>PM</td>\n",
       "      <td>Mozilla/5.0 (Windows 98; Win 9x 4.90; sl-SI; r...</td>\n",
       "      <td>Wright, Williams and Mendez</td>\n",
       "      <td>4008586485908075</td>\n",
       "      <td>05/19</td>\n",
       "      <td>945</td>\n",
       "      <td>JCB 16 digit</td>\n",
       "      <td>susanvalentine@obrien.org</td>\n",
       "      <td>Mechanical engineer</td>\n",
       "      <td>213.203.143.215</td>\n",
       "      <td>de</td>\n",
       "      <td>36.85</td>\n",
       "    </tr>\n",
       "    <tr>\n",
       "      <th>55</th>\n",
       "      <td>27635 Maureen Bypass Apt. 883\\nSandraview, SD ...</td>\n",
       "      <td>59 LJ</td>\n",
       "      <td>AM</td>\n",
       "      <td>Mozilla/5.0 (iPod; U; CPU iPhone OS 3_3 like M...</td>\n",
       "      <td>Sims-Lyons</td>\n",
       "      <td>3158113629128344</td>\n",
       "      <td>09/19</td>\n",
       "      <td>857</td>\n",
       "      <td>VISA 16 digit</td>\n",
       "      <td>adkinsarthur@yahoo.com</td>\n",
       "      <td>Engineer, broadcasting (operations)</td>\n",
       "      <td>227.235.89.210</td>\n",
       "      <td>pt</td>\n",
       "      <td>48.74</td>\n",
       "    </tr>\n",
       "    <tr>\n",
       "      <th>60</th>\n",
       "      <td>7126 Katherine Squares\\nPerkinsview, CO 97299-...</td>\n",
       "      <td>63 qu</td>\n",
       "      <td>AM</td>\n",
       "      <td>Opera/8.68.(X11; Linux x86_64; en-US) Presto/2...</td>\n",
       "      <td>Marshall-Fernandez</td>\n",
       "      <td>349767747049645</td>\n",
       "      <td>05/20</td>\n",
       "      <td>672</td>\n",
       "      <td>JCB 15 digit</td>\n",
       "      <td>sweeneyhannah@jones.biz</td>\n",
       "      <td>Engineer, agricultural</td>\n",
       "      <td>197.144.142.102</td>\n",
       "      <td>de</td>\n",
       "      <td>20.43</td>\n",
       "    </tr>\n",
       "    <tr>\n",
       "      <th>...</th>\n",
       "      <td>...</td>\n",
       "      <td>...</td>\n",
       "      <td>...</td>\n",
       "      <td>...</td>\n",
       "      <td>...</td>\n",
       "      <td>...</td>\n",
       "      <td>...</td>\n",
       "      <td>...</td>\n",
       "      <td>...</td>\n",
       "      <td>...</td>\n",
       "      <td>...</td>\n",
       "      <td>...</td>\n",
       "      <td>...</td>\n",
       "      <td>...</td>\n",
       "    </tr>\n",
       "    <tr>\n",
       "      <th>9948</th>\n",
       "      <td>95544 Johnson Isle Suite 939\\nMichaelberg, RI ...</td>\n",
       "      <td>91 bW</td>\n",
       "      <td>AM</td>\n",
       "      <td>Opera/8.36.(X11; Linux x86_64; sl-SI) Presto/2...</td>\n",
       "      <td>Fox-Peterson</td>\n",
       "      <td>4762924304307</td>\n",
       "      <td>03/17</td>\n",
       "      <td>567</td>\n",
       "      <td>Mastercard</td>\n",
       "      <td>haleybenjamin@gmail.com</td>\n",
       "      <td>Structural engineer</td>\n",
       "      <td>120.36.140.58</td>\n",
       "      <td>en</td>\n",
       "      <td>71.89</td>\n",
       "    </tr>\n",
       "    <tr>\n",
       "      <th>9952</th>\n",
       "      <td>9991 Vaughn Hills\\nRacheltown, PA 55409</td>\n",
       "      <td>36 KC</td>\n",
       "      <td>PM</td>\n",
       "      <td>Mozilla/5.0 (X11; Linux i686; rv:1.9.5.20) Gec...</td>\n",
       "      <td>Ward, Smith and Castillo</td>\n",
       "      <td>6011679271321726</td>\n",
       "      <td>09/19</td>\n",
       "      <td>964</td>\n",
       "      <td>Voyager</td>\n",
       "      <td>jonesjennifer@olson.com</td>\n",
       "      <td>Engineer, energy</td>\n",
       "      <td>116.228.12.42</td>\n",
       "      <td>es</td>\n",
       "      <td>39.63</td>\n",
       "    </tr>\n",
       "    <tr>\n",
       "      <th>9970</th>\n",
       "      <td>0060 Keith Stream\\nWestport, CO 47097</td>\n",
       "      <td>11 nt</td>\n",
       "      <td>PM</td>\n",
       "      <td>Mozilla/5.0 (Macintosh; U; Intel Mac OS X 10_8...</td>\n",
       "      <td>Carpenter, Good and Hart</td>\n",
       "      <td>6011485664704662</td>\n",
       "      <td>07/19</td>\n",
       "      <td>543</td>\n",
       "      <td>Discover</td>\n",
       "      <td>rangelbrian@hotmail.com</td>\n",
       "      <td>Electrical engineer</td>\n",
       "      <td>242.8.85.205</td>\n",
       "      <td>en</td>\n",
       "      <td>17.76</td>\n",
       "    </tr>\n",
       "    <tr>\n",
       "      <th>9977</th>\n",
       "      <td>02182 Keith Expressway\\nEast Shannon, CT 20578...</td>\n",
       "      <td>34 RL</td>\n",
       "      <td>AM</td>\n",
       "      <td>Mozilla/5.0 (compatible; MSIE 9.0; Windows NT ...</td>\n",
       "      <td>Deleon, Jacobson and Benton</td>\n",
       "      <td>4186094003664688</td>\n",
       "      <td>06/21</td>\n",
       "      <td>397</td>\n",
       "      <td>JCB 16 digit</td>\n",
       "      <td>daltoncarter@yahoo.com</td>\n",
       "      <td>Biomedical engineer</td>\n",
       "      <td>146.238.118.2</td>\n",
       "      <td>fr</td>\n",
       "      <td>94.93</td>\n",
       "    </tr>\n",
       "    <tr>\n",
       "      <th>9996</th>\n",
       "      <td>832 Curtis Dam Suite 785\\nNorth Edwardburgh, T...</td>\n",
       "      <td>41 JY</td>\n",
       "      <td>AM</td>\n",
       "      <td>Mozilla/5.0 (compatible; MSIE 9.0; Windows NT ...</td>\n",
       "      <td>Hale, Collins and Wilson</td>\n",
       "      <td>210033169205009</td>\n",
       "      <td>07/25</td>\n",
       "      <td>207</td>\n",
       "      <td>JCB 16 digit</td>\n",
       "      <td>mary85@hotmail.com</td>\n",
       "      <td>Energy engineer</td>\n",
       "      <td>121.133.168.51</td>\n",
       "      <td>pt</td>\n",
       "      <td>25.63</td>\n",
       "    </tr>\n",
       "  </tbody>\n",
       "</table>\n",
       "<p>984 rows × 14 columns</p>\n",
       "</div>"
      ],
      "text/plain": [
       "                                                Address    Lot AM or PM  \\\n",
       "1     9374 Jasmine Spurs Suite 508\\nSouth John, TN 8...  28 rn       PM   \n",
       "3                 7780 Julia Fords\\nNew Stacy, WA 45798  36 vm       PM   \n",
       "50      41159 Michael Centers\\nAdamsfort, RI 37108-6674  46 Ce       PM   \n",
       "55    27635 Maureen Bypass Apt. 883\\nSandraview, SD ...  59 LJ       AM   \n",
       "60    7126 Katherine Squares\\nPerkinsview, CO 97299-...  63 qu       AM   \n",
       "...                                                 ...    ...      ...   \n",
       "9948  95544 Johnson Isle Suite 939\\nMichaelberg, RI ...  91 bW       AM   \n",
       "9952            9991 Vaughn Hills\\nRacheltown, PA 55409  36 KC       PM   \n",
       "9970              0060 Keith Stream\\nWestport, CO 47097  11 nt       PM   \n",
       "9977  02182 Keith Expressway\\nEast Shannon, CT 20578...  34 RL       AM   \n",
       "9996  832 Curtis Dam Suite 785\\nNorth Edwardburgh, T...  41 JY       AM   \n",
       "\n",
       "                                           Browser Info  \\\n",
       "1     Opera/8.93.(Windows 98; Win 9x 4.90; en-US) Pr...   \n",
       "3     Mozilla/5.0 (Macintosh; Intel Mac OS X 10_8_0 ...   \n",
       "50    Mozilla/5.0 (Windows 98; Win 9x 4.90; sl-SI; r...   \n",
       "55    Mozilla/5.0 (iPod; U; CPU iPhone OS 3_3 like M...   \n",
       "60    Opera/8.68.(X11; Linux x86_64; en-US) Presto/2...   \n",
       "...                                                 ...   \n",
       "9948  Opera/8.36.(X11; Linux x86_64; sl-SI) Presto/2...   \n",
       "9952  Mozilla/5.0 (X11; Linux i686; rv:1.9.5.20) Gec...   \n",
       "9970  Mozilla/5.0 (Macintosh; U; Intel Mac OS X 10_8...   \n",
       "9977  Mozilla/5.0 (compatible; MSIE 9.0; Windows NT ...   \n",
       "9996  Mozilla/5.0 (compatible; MSIE 9.0; Windows NT ...   \n",
       "\n",
       "                              Company       Credit Card CC Exp Date  \\\n",
       "1     Fletcher, Richards and Whitaker  3337758169645356       11/18   \n",
       "3     Williams, Marshall and Buchanan  6011578504430710       02/24   \n",
       "50        Wright, Williams and Mendez  4008586485908075       05/19   \n",
       "55                         Sims-Lyons  3158113629128344       09/19   \n",
       "60                 Marshall-Fernandez   349767747049645       05/20   \n",
       "...                               ...               ...         ...   \n",
       "9948                     Fox-Peterson     4762924304307       03/17   \n",
       "9952         Ward, Smith and Castillo  6011679271321726       09/19   \n",
       "9970         Carpenter, Good and Hart  6011485664704662       07/19   \n",
       "9977      Deleon, Jacobson and Benton  4186094003664688       06/21   \n",
       "9996         Hale, Collins and Wilson   210033169205009       07/25   \n",
       "\n",
       "      CC Security Code    CC Provider                        Email  \\\n",
       "1                  561     Mastercard           anthony41@reed.com   \n",
       "3                  384       Discover  brent16@olson-robinson.info   \n",
       "50                 945   JCB 16 digit    susanvalentine@obrien.org   \n",
       "55                 857  VISA 16 digit       adkinsarthur@yahoo.com   \n",
       "60                 672   JCB 15 digit      sweeneyhannah@jones.biz   \n",
       "...                ...            ...                          ...   \n",
       "9948               567     Mastercard      haleybenjamin@gmail.com   \n",
       "9952               964        Voyager      jonesjennifer@olson.com   \n",
       "9970               543       Discover      rangelbrian@hotmail.com   \n",
       "9977               397   JCB 16 digit       daltoncarter@yahoo.com   \n",
       "9996               207   JCB 16 digit           mary85@hotmail.com   \n",
       "\n",
       "                                      Job       IP Address Language  \\\n",
       "1                       Drilling engineer     15.160.41.51       fr   \n",
       "3                       Drilling engineer     30.250.74.19       es   \n",
       "50                    Mechanical engineer  213.203.143.215       de   \n",
       "55    Engineer, broadcasting (operations)   227.235.89.210       pt   \n",
       "60                 Engineer, agricultural  197.144.142.102       de   \n",
       "...                                   ...              ...      ...   \n",
       "9948                  Structural engineer    120.36.140.58       en   \n",
       "9952                     Engineer, energy    116.228.12.42       es   \n",
       "9970                  Electrical engineer     242.8.85.205       en   \n",
       "9977                  Biomedical engineer    146.238.118.2       fr   \n",
       "9996                      Energy engineer   121.133.168.51       pt   \n",
       "\n",
       "      Purchase Price  \n",
       "1              70.73  \n",
       "3              78.04  \n",
       "50             36.85  \n",
       "55             48.74  \n",
       "60             20.43  \n",
       "...              ...  \n",
       "9948           71.89  \n",
       "9952           39.63  \n",
       "9970           17.76  \n",
       "9977           94.93  \n",
       "9996           25.63  \n",
       "\n",
       "[984 rows x 14 columns]"
      ]
     },
     "execution_count": 164,
     "metadata": {},
     "output_type": "execute_result"
    }
   ],
   "source": [
    "# Job title Containing Engineer\n",
    "ecom[ecom['Job'].str.contains(\"Engineer\",case=False)]\n",
    "# Not specifying the attributes gives the whole as o/p"
   ]
  },
  {
   "cell_type": "code",
   "execution_count": 166,
   "id": "2a3929f6",
   "metadata": {},
   "outputs": [
    {
     "data": {
      "text/plain": [
       "Index(['Address', 'Lot', 'AM or PM', 'Browser Info', 'Company', 'Credit Card',\n",
       "       'CC Exp Date', 'CC Security Code', 'CC Provider', 'Email', 'Job',\n",
       "       'IP Address', 'Language', 'Purchase Price'],\n",
       "      dtype='object')"
      ]
     },
     "execution_count": 166,
     "metadata": {},
     "output_type": "execute_result"
    }
   ],
   "source": [
    "# Email Address of the Person with Given Specifications:\n",
    "ecom.columns\n",
    "# ecom[ecom[\"IP \"]]"
   ]
  },
  {
   "cell_type": "code",
   "execution_count": 169,
   "id": "7db36315",
   "metadata": {},
   "outputs": [
    {
     "data": {
      "text/plain": [
       "2    amymiller@morales-harrison.com\n",
       "Name: Email, dtype: object"
      ]
     },
     "execution_count": 169,
     "metadata": {},
     "output_type": "execute_result"
    }
   ],
   "source": [
    "ecom[ecom['IP Address'].str.contains(\"132.207.160.22\",case=False)]['Email']\n",
    "# Case is here for Case Sensetive:"
   ]
  },
  {
   "cell_type": "code",
   "execution_count": 170,
   "id": "5ad6d048",
   "metadata": {},
   "outputs": [
    {
     "data": {
      "text/html": [
       "<div>\n",
       "<style scoped>\n",
       "    .dataframe tbody tr th:only-of-type {\n",
       "        vertical-align: middle;\n",
       "    }\n",
       "\n",
       "    .dataframe tbody tr th {\n",
       "        vertical-align: top;\n",
       "    }\n",
       "\n",
       "    .dataframe thead th {\n",
       "        text-align: right;\n",
       "    }\n",
       "</style>\n",
       "<table border=\"1\" class=\"dataframe\">\n",
       "  <thead>\n",
       "    <tr style=\"text-align: right;\">\n",
       "      <th></th>\n",
       "      <th>Address</th>\n",
       "      <th>Lot</th>\n",
       "      <th>AM or PM</th>\n",
       "      <th>Browser Info</th>\n",
       "      <th>Company</th>\n",
       "      <th>Credit Card</th>\n",
       "      <th>CC Exp Date</th>\n",
       "      <th>CC Security Code</th>\n",
       "      <th>CC Provider</th>\n",
       "      <th>Email</th>\n",
       "      <th>Job</th>\n",
       "      <th>IP Address</th>\n",
       "      <th>Language</th>\n",
       "      <th>Purchase Price</th>\n",
       "    </tr>\n",
       "  </thead>\n",
       "  <tbody>\n",
       "    <tr>\n",
       "      <th>2</th>\n",
       "      <td>Unit 0065 Box 5052\\nDPO AP 27450</td>\n",
       "      <td>94 vE</td>\n",
       "      <td>PM</td>\n",
       "      <td>Mozilla/5.0 (compatible; MSIE 9.0; Windows NT ...</td>\n",
       "      <td>Simpson, Williams and Pham</td>\n",
       "      <td>675957666125</td>\n",
       "      <td>08/19</td>\n",
       "      <td>699</td>\n",
       "      <td>JCB 16 digit</td>\n",
       "      <td>amymiller@morales-harrison.com</td>\n",
       "      <td>Customer service manager</td>\n",
       "      <td>132.207.160.22</td>\n",
       "      <td>de</td>\n",
       "      <td>0.95</td>\n",
       "    </tr>\n",
       "  </tbody>\n",
       "</table>\n",
       "</div>"
      ],
      "text/plain": [
       "                            Address    Lot AM or PM  \\\n",
       "2  Unit 0065 Box 5052\\nDPO AP 27450  94 vE       PM   \n",
       "\n",
       "                                        Browser Info  \\\n",
       "2  Mozilla/5.0 (compatible; MSIE 9.0; Windows NT ...   \n",
       "\n",
       "                      Company   Credit Card CC Exp Date  CC Security Code  \\\n",
       "2  Simpson, Williams and Pham  675957666125       08/19               699   \n",
       "\n",
       "    CC Provider                           Email                       Job  \\\n",
       "2  JCB 16 digit  amymiller@morales-harrison.com  Customer service manager   \n",
       "\n",
       "       IP Address Language  Purchase Price  \n",
       "2  132.207.160.22       de            0.95  "
      ]
     },
     "execution_count": 170,
     "metadata": {},
     "output_type": "execute_result"
    }
   ],
   "source": [
    "ecom[ecom['IP Address'].str.contains(\"132.207.160.22\",case=False)]"
   ]
  },
  {
   "cell_type": "markdown",
   "id": "01cebee9",
   "metadata": {},
   "source": [
    "# Creating A New DataFrame From the Existing Column"
   ]
  },
  {
   "cell_type": "code",
   "execution_count": 176,
   "id": "f18a6ac1",
   "metadata": {},
   "outputs": [
    {
     "name": "stdout",
     "output_type": "stream",
     "text": [
      "Index(['Address', 'Lot', 'AM or PM', 'Browser Info', 'Company', 'Credit Card',\n",
      "       'CC Exp Date', 'CC Security Code', 'CC Provider', 'Email', 'Job',\n",
      "       'IP Address', 'Language', 'Purchase Price'],\n",
      "      dtype='object')\n",
      "\n",
      " the Original DataFrame\n",
      "\n"
     ]
    },
    {
     "data": {
      "text/html": [
       "<div>\n",
       "<style scoped>\n",
       "    .dataframe tbody tr th:only-of-type {\n",
       "        vertical-align: middle;\n",
       "    }\n",
       "\n",
       "    .dataframe tbody tr th {\n",
       "        vertical-align: top;\n",
       "    }\n",
       "\n",
       "    .dataframe thead th {\n",
       "        text-align: right;\n",
       "    }\n",
       "</style>\n",
       "<table border=\"1\" class=\"dataframe\">\n",
       "  <thead>\n",
       "    <tr style=\"text-align: right;\">\n",
       "      <th></th>\n",
       "      <th>Address</th>\n",
       "      <th>Lot</th>\n",
       "      <th>AM or PM</th>\n",
       "      <th>Browser Info</th>\n",
       "      <th>Company</th>\n",
       "      <th>Credit Card</th>\n",
       "      <th>CC Exp Date</th>\n",
       "      <th>CC Security Code</th>\n",
       "      <th>CC Provider</th>\n",
       "      <th>Email</th>\n",
       "      <th>Job</th>\n",
       "      <th>IP Address</th>\n",
       "      <th>Language</th>\n",
       "      <th>Purchase Price</th>\n",
       "    </tr>\n",
       "  </thead>\n",
       "  <tbody>\n",
       "    <tr>\n",
       "      <th>0</th>\n",
       "      <td>16629 Pace Camp Apt. 448\\nAlexisborough, NE 77...</td>\n",
       "      <td>46 in</td>\n",
       "      <td>PM</td>\n",
       "      <td>Opera/9.56.(X11; Linux x86_64; sl-SI) Presto/2...</td>\n",
       "      <td>Martinez-Herman</td>\n",
       "      <td>6011929061123406</td>\n",
       "      <td>02/20</td>\n",
       "      <td>900</td>\n",
       "      <td>JCB 16 digit</td>\n",
       "      <td>pdunlap@yahoo.com</td>\n",
       "      <td>Scientist, product/process development</td>\n",
       "      <td>149.146.147.205</td>\n",
       "      <td>el</td>\n",
       "      <td>98.14</td>\n",
       "    </tr>\n",
       "    <tr>\n",
       "      <th>1</th>\n",
       "      <td>9374 Jasmine Spurs Suite 508\\nSouth John, TN 8...</td>\n",
       "      <td>28 rn</td>\n",
       "      <td>PM</td>\n",
       "      <td>Opera/8.93.(Windows 98; Win 9x 4.90; en-US) Pr...</td>\n",
       "      <td>Fletcher, Richards and Whitaker</td>\n",
       "      <td>3337758169645356</td>\n",
       "      <td>11/18</td>\n",
       "      <td>561</td>\n",
       "      <td>Mastercard</td>\n",
       "      <td>anthony41@reed.com</td>\n",
       "      <td>Drilling engineer</td>\n",
       "      <td>15.160.41.51</td>\n",
       "      <td>fr</td>\n",
       "      <td>70.73</td>\n",
       "    </tr>\n",
       "    <tr>\n",
       "      <th>2</th>\n",
       "      <td>Unit 0065 Box 5052\\nDPO AP 27450</td>\n",
       "      <td>94 vE</td>\n",
       "      <td>PM</td>\n",
       "      <td>Mozilla/5.0 (compatible; MSIE 9.0; Windows NT ...</td>\n",
       "      <td>Simpson, Williams and Pham</td>\n",
       "      <td>675957666125</td>\n",
       "      <td>08/19</td>\n",
       "      <td>699</td>\n",
       "      <td>JCB 16 digit</td>\n",
       "      <td>amymiller@morales-harrison.com</td>\n",
       "      <td>Customer service manager</td>\n",
       "      <td>132.207.160.22</td>\n",
       "      <td>de</td>\n",
       "      <td>0.95</td>\n",
       "    </tr>\n",
       "    <tr>\n",
       "      <th>3</th>\n",
       "      <td>7780 Julia Fords\\nNew Stacy, WA 45798</td>\n",
       "      <td>36 vm</td>\n",
       "      <td>PM</td>\n",
       "      <td>Mozilla/5.0 (Macintosh; Intel Mac OS X 10_8_0 ...</td>\n",
       "      <td>Williams, Marshall and Buchanan</td>\n",
       "      <td>6011578504430710</td>\n",
       "      <td>02/24</td>\n",
       "      <td>384</td>\n",
       "      <td>Discover</td>\n",
       "      <td>brent16@olson-robinson.info</td>\n",
       "      <td>Drilling engineer</td>\n",
       "      <td>30.250.74.19</td>\n",
       "      <td>es</td>\n",
       "      <td>78.04</td>\n",
       "    </tr>\n",
       "    <tr>\n",
       "      <th>4</th>\n",
       "      <td>23012 Munoz Drive Suite 337\\nNew Cynthia, TX 5...</td>\n",
       "      <td>20 IE</td>\n",
       "      <td>AM</td>\n",
       "      <td>Opera/9.58.(X11; Linux x86_64; it-IT) Presto/2...</td>\n",
       "      <td>Brown, Watson and Andrews</td>\n",
       "      <td>6011456623207998</td>\n",
       "      <td>10/25</td>\n",
       "      <td>678</td>\n",
       "      <td>Diners Club / Carte Blanche</td>\n",
       "      <td>christopherwright@gmail.com</td>\n",
       "      <td>Fine artist</td>\n",
       "      <td>24.140.33.94</td>\n",
       "      <td>es</td>\n",
       "      <td>77.82</td>\n",
       "    </tr>\n",
       "  </tbody>\n",
       "</table>\n",
       "</div>"
      ],
      "text/plain": [
       "                                             Address    Lot AM or PM  \\\n",
       "0  16629 Pace Camp Apt. 448\\nAlexisborough, NE 77...  46 in       PM   \n",
       "1  9374 Jasmine Spurs Suite 508\\nSouth John, TN 8...  28 rn       PM   \n",
       "2                   Unit 0065 Box 5052\\nDPO AP 27450  94 vE       PM   \n",
       "3              7780 Julia Fords\\nNew Stacy, WA 45798  36 vm       PM   \n",
       "4  23012 Munoz Drive Suite 337\\nNew Cynthia, TX 5...  20 IE       AM   \n",
       "\n",
       "                                        Browser Info  \\\n",
       "0  Opera/9.56.(X11; Linux x86_64; sl-SI) Presto/2...   \n",
       "1  Opera/8.93.(Windows 98; Win 9x 4.90; en-US) Pr...   \n",
       "2  Mozilla/5.0 (compatible; MSIE 9.0; Windows NT ...   \n",
       "3  Mozilla/5.0 (Macintosh; Intel Mac OS X 10_8_0 ...   \n",
       "4  Opera/9.58.(X11; Linux x86_64; it-IT) Presto/2...   \n",
       "\n",
       "                           Company       Credit Card CC Exp Date  \\\n",
       "0                  Martinez-Herman  6011929061123406       02/20   \n",
       "1  Fletcher, Richards and Whitaker  3337758169645356       11/18   \n",
       "2       Simpson, Williams and Pham      675957666125       08/19   \n",
       "3  Williams, Marshall and Buchanan  6011578504430710       02/24   \n",
       "4        Brown, Watson and Andrews  6011456623207998       10/25   \n",
       "\n",
       "   CC Security Code                  CC Provider  \\\n",
       "0               900                 JCB 16 digit   \n",
       "1               561                   Mastercard   \n",
       "2               699                 JCB 16 digit   \n",
       "3               384                     Discover   \n",
       "4               678  Diners Club / Carte Blanche   \n",
       "\n",
       "                            Email                                     Job  \\\n",
       "0               pdunlap@yahoo.com  Scientist, product/process development   \n",
       "1              anthony41@reed.com                       Drilling engineer   \n",
       "2  amymiller@morales-harrison.com                Customer service manager   \n",
       "3     brent16@olson-robinson.info                       Drilling engineer   \n",
       "4     christopherwright@gmail.com                             Fine artist   \n",
       "\n",
       "        IP Address Language  Purchase Price  \n",
       "0  149.146.147.205       el           98.14  \n",
       "1     15.160.41.51       fr           70.73  \n",
       "2   132.207.160.22       de            0.95  \n",
       "3     30.250.74.19       es           78.04  \n",
       "4     24.140.33.94       es           77.82  "
      ]
     },
     "execution_count": 176,
     "metadata": {},
     "output_type": "execute_result"
    }
   ],
   "source": [
    "import pandas as pd\n",
    "edata= pd.read_csv(\"Ecommerce Purchases\")\n",
    "print(edata.columns)\n",
    "print(\"\\n the Original DataFrame\\n\")\n",
    "edata.head()"
   ]
  },
  {
   "cell_type": "code",
   "execution_count": 177,
   "id": "0ac5b067",
   "metadata": {},
   "outputs": [
    {
     "name": "stdout",
     "output_type": "stream",
     "text": [
      "\n",
      " The New DataFrame with Selected Columns:\n"
     ]
    },
    {
     "data": {
      "text/html": [
       "<div>\n",
       "<style scoped>\n",
       "    .dataframe tbody tr th:only-of-type {\n",
       "        vertical-align: middle;\n",
       "    }\n",
       "\n",
       "    .dataframe tbody tr th {\n",
       "        vertical-align: top;\n",
       "    }\n",
       "\n",
       "    .dataframe thead th {\n",
       "        text-align: right;\n",
       "    }\n",
       "</style>\n",
       "<table border=\"1\" class=\"dataframe\">\n",
       "  <thead>\n",
       "    <tr style=\"text-align: right;\">\n",
       "      <th></th>\n",
       "      <th>Company</th>\n",
       "      <th>Job</th>\n",
       "      <th>Purchase Price</th>\n",
       "    </tr>\n",
       "  </thead>\n",
       "  <tbody>\n",
       "    <tr>\n",
       "      <th>0</th>\n",
       "      <td>Martinez-Herman</td>\n",
       "      <td>Scientist, product/process development</td>\n",
       "      <td>98.14</td>\n",
       "    </tr>\n",
       "    <tr>\n",
       "      <th>1</th>\n",
       "      <td>Fletcher, Richards and Whitaker</td>\n",
       "      <td>Drilling engineer</td>\n",
       "      <td>70.73</td>\n",
       "    </tr>\n",
       "    <tr>\n",
       "      <th>2</th>\n",
       "      <td>Simpson, Williams and Pham</td>\n",
       "      <td>Customer service manager</td>\n",
       "      <td>0.95</td>\n",
       "    </tr>\n",
       "    <tr>\n",
       "      <th>3</th>\n",
       "      <td>Williams, Marshall and Buchanan</td>\n",
       "      <td>Drilling engineer</td>\n",
       "      <td>78.04</td>\n",
       "    </tr>\n",
       "    <tr>\n",
       "      <th>4</th>\n",
       "      <td>Brown, Watson and Andrews</td>\n",
       "      <td>Fine artist</td>\n",
       "      <td>77.82</td>\n",
       "    </tr>\n",
       "  </tbody>\n",
       "</table>\n",
       "</div>"
      ],
      "text/plain": [
       "                           Company                                     Job  \\\n",
       "0                  Martinez-Herman  Scientist, product/process development   \n",
       "1  Fletcher, Richards and Whitaker                       Drilling engineer   \n",
       "2       Simpson, Williams and Pham                Customer service manager   \n",
       "3  Williams, Marshall and Buchanan                       Drilling engineer   \n",
       "4        Brown, Watson and Andrews                             Fine artist   \n",
       "\n",
       "   Purchase Price  \n",
       "0           98.14  \n",
       "1           70.73  \n",
       "2            0.95  \n",
       "3           78.04  \n",
       "4           77.82  "
      ]
     },
     "execution_count": 177,
     "metadata": {},
     "output_type": "execute_result"
    }
   ],
   "source": [
    "print(\"\\n The New DataFrame with Selected Columns:\")\n",
    "edata_new= pd.DataFrame(edata,columns=['Company','Job','Purchase Price'])\n",
    "edata_new.head()"
   ]
  },
  {
   "cell_type": "code",
   "execution_count": 178,
   "id": "ff134454",
   "metadata": {},
   "outputs": [
    {
     "data": {
      "text/plain": [
       "{'AM': [4, 6, 9, 12, 14, 16, 21, 24, 26, 35, 37, 38, 39, 40, 42, 46, 53, 55, 56, 60, 61, 62, 64, 65, 66, 69, 71, 75, 77, 78, 80, 83, 85, 87, 89, 90, 91, 92, 93, 94, 96, 97, 98, 99, 100, 101, 103, 104, 105, 114, 115, 118, 119, 130, 132, 133, 134, 135, 141, 144, 147, 148, 149, 154, 156, 160, 163, 164, 167, 168, 172, 178, 179, 180, 181, 182, 184, 185, 186, 187, 189, 193, 195, 197, 198, 199, 201, 204, 207, 209, 210, 212, 213, 214, 215, 219, 220, 221, 222, 223, ...], 'PM': [0, 1, 2, 3, 5, 7, 8, 10, 11, 13, 15, 17, 18, 19, 20, 22, 23, 25, 27, 28, 29, 30, 31, 32, 33, 34, 36, 41, 43, 44, 45, 47, 48, 49, 50, 51, 52, 54, 57, 58, 59, 63, 67, 68, 70, 72, 73, 74, 76, 79, 81, 82, 84, 86, 88, 95, 102, 106, 107, 108, 109, 110, 111, 112, 113, 116, 117, 120, 121, 122, 123, 124, 125, 126, 127, 128, 129, 131, 136, 137, 138, 139, 140, 142, 143, 145, 146, 150, 151, 152, 153, 155, 157, 158, 159, 161, 162, 165, 166, 169, ...]}"
      ]
     },
     "execution_count": 178,
     "metadata": {},
     "output_type": "execute_result"
    }
   ],
   "source": [
    "ecom.groupby('AM or PM').groups"
   ]
  },
  {
   "cell_type": "code",
   "execution_count": 180,
   "id": "7bf306a3",
   "metadata": {},
   "outputs": [
    {
     "data": {
      "text/html": [
       "<div>\n",
       "<style scoped>\n",
       "    .dataframe tbody tr th:only-of-type {\n",
       "        vertical-align: middle;\n",
       "    }\n",
       "\n",
       "    .dataframe tbody tr th {\n",
       "        vertical-align: top;\n",
       "    }\n",
       "\n",
       "    .dataframe thead th {\n",
       "        text-align: right;\n",
       "    }\n",
       "</style>\n",
       "<table border=\"1\" class=\"dataframe\">\n",
       "  <thead>\n",
       "    <tr style=\"text-align: right;\">\n",
       "      <th></th>\n",
       "      <th>Address</th>\n",
       "      <th>Lot</th>\n",
       "      <th>AM or PM</th>\n",
       "      <th>Browser Info</th>\n",
       "      <th>Company</th>\n",
       "      <th>Credit Card</th>\n",
       "      <th>CC Exp Date</th>\n",
       "      <th>CC Security Code</th>\n",
       "      <th>CC Provider</th>\n",
       "      <th>Email</th>\n",
       "      <th>Job</th>\n",
       "      <th>IP Address</th>\n",
       "      <th>Language</th>\n",
       "      <th>Purchase Price</th>\n",
       "    </tr>\n",
       "  </thead>\n",
       "  <tbody>\n",
       "    <tr>\n",
       "      <th>4</th>\n",
       "      <td>23012 Munoz Drive Suite 337\\nNew Cynthia, TX 5...</td>\n",
       "      <td>20 IE</td>\n",
       "      <td>AM</td>\n",
       "      <td>Opera/9.58.(X11; Linux x86_64; it-IT) Presto/2...</td>\n",
       "      <td>Brown, Watson and Andrews</td>\n",
       "      <td>6011456623207998</td>\n",
       "      <td>10/25</td>\n",
       "      <td>678</td>\n",
       "      <td>Diners Club / Carte Blanche</td>\n",
       "      <td>christopherwright@gmail.com</td>\n",
       "      <td>Fine artist</td>\n",
       "      <td>24.140.33.94</td>\n",
       "      <td>es</td>\n",
       "      <td>77.82</td>\n",
       "    </tr>\n",
       "    <tr>\n",
       "      <th>6</th>\n",
       "      <td>93971 Conway Causeway\\nAndersonburgh, AZ 75107</td>\n",
       "      <td>96 Xt</td>\n",
       "      <td>AM</td>\n",
       "      <td>Mozilla/5.0 (compatible; MSIE 7.0; Windows NT ...</td>\n",
       "      <td>Gibson and Sons</td>\n",
       "      <td>6011398782655569</td>\n",
       "      <td>07/24</td>\n",
       "      <td>714</td>\n",
       "      <td>VISA 16 digit</td>\n",
       "      <td>olivia04@yahoo.com</td>\n",
       "      <td>Dancer</td>\n",
       "      <td>127.252.144.18</td>\n",
       "      <td>de</td>\n",
       "      <td>88.56</td>\n",
       "    </tr>\n",
       "    <tr>\n",
       "      <th>9</th>\n",
       "      <td>3795 Dawson Extensions\\nLake Tinafort, ID 88739</td>\n",
       "      <td>15 Ug</td>\n",
       "      <td>AM</td>\n",
       "      <td>Mozilla/5.0 (X11; Linux i686; rv:1.9.7.20) Gec...</td>\n",
       "      <td>Rivera, Buchanan and Ramirez</td>\n",
       "      <td>4396283918371</td>\n",
       "      <td>01/17</td>\n",
       "      <td>931</td>\n",
       "      <td>American Express</td>\n",
       "      <td>qcoleman@hunt-huerta.com</td>\n",
       "      <td>Forensic scientist</td>\n",
       "      <td>236.198.199.8</td>\n",
       "      <td>zh</td>\n",
       "      <td>95.63</td>\n",
       "    </tr>\n",
       "    <tr>\n",
       "      <th>12</th>\n",
       "      <td>733 Heather Rest Apt. 670\\nBoltonport, UT 78662</td>\n",
       "      <td>69 DO</td>\n",
       "      <td>AM</td>\n",
       "      <td>Mozilla/5.0 (Macintosh; Intel Mac OS X 10_5_3 ...</td>\n",
       "      <td>Moore-Martin</td>\n",
       "      <td>5115990487067905</td>\n",
       "      <td>05/26</td>\n",
       "      <td>119</td>\n",
       "      <td>VISA 16 digit</td>\n",
       "      <td>tholt@hotmail.com</td>\n",
       "      <td>Surveyor, quantity</td>\n",
       "      <td>236.71.234.240</td>\n",
       "      <td>en</td>\n",
       "      <td>39.65</td>\n",
       "    </tr>\n",
       "    <tr>\n",
       "      <th>14</th>\n",
       "      <td>8774 Jason Keys Suite 427\\nEast Scottborough, ...</td>\n",
       "      <td>70 zH</td>\n",
       "      <td>AM</td>\n",
       "      <td>Mozilla/5.0 (Windows 98; it-IT; rv:1.9.2.20) G...</td>\n",
       "      <td>Leach, Howe and Ferguson</td>\n",
       "      <td>869967499275071</td>\n",
       "      <td>09/22</td>\n",
       "      <td>427</td>\n",
       "      <td>VISA 16 digit</td>\n",
       "      <td>aburns@yahoo.com</td>\n",
       "      <td>Acupuncturist</td>\n",
       "      <td>50.25.148.1</td>\n",
       "      <td>de</td>\n",
       "      <td>24.18</td>\n",
       "    </tr>\n",
       "    <tr>\n",
       "      <th>...</th>\n",
       "      <td>...</td>\n",
       "      <td>...</td>\n",
       "      <td>...</td>\n",
       "      <td>...</td>\n",
       "      <td>...</td>\n",
       "      <td>...</td>\n",
       "      <td>...</td>\n",
       "      <td>...</td>\n",
       "      <td>...</td>\n",
       "      <td>...</td>\n",
       "      <td>...</td>\n",
       "      <td>...</td>\n",
       "      <td>...</td>\n",
       "      <td>...</td>\n",
       "    </tr>\n",
       "    <tr>\n",
       "      <th>9989</th>\n",
       "      <td>5674 Cruz Trace\\nNew Shelby, KY 51047-5469</td>\n",
       "      <td>12 Kf</td>\n",
       "      <td>AM</td>\n",
       "      <td>Mozilla/5.0 (compatible; MSIE 9.0; Windows NT ...</td>\n",
       "      <td>Vargas, Nichols and Martinez</td>\n",
       "      <td>5278049688438382</td>\n",
       "      <td>12/23</td>\n",
       "      <td>996</td>\n",
       "      <td>VISA 16 digit</td>\n",
       "      <td>walterswilliam@hotmail.com</td>\n",
       "      <td>Community development worker</td>\n",
       "      <td>39.162.164.169</td>\n",
       "      <td>pt</td>\n",
       "      <td>17.18</td>\n",
       "    </tr>\n",
       "    <tr>\n",
       "      <th>9991</th>\n",
       "      <td>PSC 8165, Box 8498\\nAPO AP 60327-0346</td>\n",
       "      <td>50 dA</td>\n",
       "      <td>AM</td>\n",
       "      <td>Mozilla/5.0 (compatible; MSIE 8.0; Windows NT ...</td>\n",
       "      <td>Snyder Inc</td>\n",
       "      <td>4221582137197481</td>\n",
       "      <td>02/24</td>\n",
       "      <td>969</td>\n",
       "      <td>Voyager</td>\n",
       "      <td>kking@wise-liu.com</td>\n",
       "      <td>IT sales professional</td>\n",
       "      <td>254.25.31.156</td>\n",
       "      <td>el</td>\n",
       "      <td>25.93</td>\n",
       "    </tr>\n",
       "    <tr>\n",
       "      <th>9996</th>\n",
       "      <td>832 Curtis Dam Suite 785\\nNorth Edwardburgh, T...</td>\n",
       "      <td>41 JY</td>\n",
       "      <td>AM</td>\n",
       "      <td>Mozilla/5.0 (compatible; MSIE 9.0; Windows NT ...</td>\n",
       "      <td>Hale, Collins and Wilson</td>\n",
       "      <td>210033169205009</td>\n",
       "      <td>07/25</td>\n",
       "      <td>207</td>\n",
       "      <td>JCB 16 digit</td>\n",
       "      <td>mary85@hotmail.com</td>\n",
       "      <td>Energy engineer</td>\n",
       "      <td>121.133.168.51</td>\n",
       "      <td>pt</td>\n",
       "      <td>25.63</td>\n",
       "    </tr>\n",
       "    <tr>\n",
       "      <th>9997</th>\n",
       "      <td>Unit 4434 Box 6343\\nDPO AE 28026-0283</td>\n",
       "      <td>74 Zh</td>\n",
       "      <td>AM</td>\n",
       "      <td>Mozilla/5.0 (Macintosh; U; Intel Mac OS X 10_7...</td>\n",
       "      <td>Anderson Ltd</td>\n",
       "      <td>6011539787356311</td>\n",
       "      <td>05/21</td>\n",
       "      <td>1</td>\n",
       "      <td>VISA 16 digit</td>\n",
       "      <td>tyler16@gmail.com</td>\n",
       "      <td>Veterinary surgeon</td>\n",
       "      <td>156.210.0.254</td>\n",
       "      <td>el</td>\n",
       "      <td>83.98</td>\n",
       "    </tr>\n",
       "    <tr>\n",
       "      <th>9999</th>\n",
       "      <td>40674 Barrett Stravenue\\nGrimesville, WI 79682</td>\n",
       "      <td>64 Hr</td>\n",
       "      <td>AM</td>\n",
       "      <td>Mozilla/5.0 (X11; Linux i686; rv:1.9.5.20) Gec...</td>\n",
       "      <td>Greene Inc</td>\n",
       "      <td>4139972901927273</td>\n",
       "      <td>02/19</td>\n",
       "      <td>302</td>\n",
       "      <td>JCB 15 digit</td>\n",
       "      <td>rachelford@vaughn.com</td>\n",
       "      <td>Embryologist, clinical</td>\n",
       "      <td>176.119.198.199</td>\n",
       "      <td>el</td>\n",
       "      <td>67.59</td>\n",
       "    </tr>\n",
       "  </tbody>\n",
       "</table>\n",
       "<p>4932 rows × 14 columns</p>\n",
       "</div>"
      ],
      "text/plain": [
       "                                                Address    Lot AM or PM  \\\n",
       "4     23012 Munoz Drive Suite 337\\nNew Cynthia, TX 5...  20 IE       AM   \n",
       "6        93971 Conway Causeway\\nAndersonburgh, AZ 75107  96 Xt       AM   \n",
       "9       3795 Dawson Extensions\\nLake Tinafort, ID 88739  15 Ug       AM   \n",
       "12      733 Heather Rest Apt. 670\\nBoltonport, UT 78662  69 DO       AM   \n",
       "14    8774 Jason Keys Suite 427\\nEast Scottborough, ...  70 zH       AM   \n",
       "...                                                 ...    ...      ...   \n",
       "9989         5674 Cruz Trace\\nNew Shelby, KY 51047-5469  12 Kf       AM   \n",
       "9991              PSC 8165, Box 8498\\nAPO AP 60327-0346  50 dA       AM   \n",
       "9996  832 Curtis Dam Suite 785\\nNorth Edwardburgh, T...  41 JY       AM   \n",
       "9997              Unit 4434 Box 6343\\nDPO AE 28026-0283  74 Zh       AM   \n",
       "9999     40674 Barrett Stravenue\\nGrimesville, WI 79682  64 Hr       AM   \n",
       "\n",
       "                                           Browser Info  \\\n",
       "4     Opera/9.58.(X11; Linux x86_64; it-IT) Presto/2...   \n",
       "6     Mozilla/5.0 (compatible; MSIE 7.0; Windows NT ...   \n",
       "9     Mozilla/5.0 (X11; Linux i686; rv:1.9.7.20) Gec...   \n",
       "12    Mozilla/5.0 (Macintosh; Intel Mac OS X 10_5_3 ...   \n",
       "14    Mozilla/5.0 (Windows 98; it-IT; rv:1.9.2.20) G...   \n",
       "...                                                 ...   \n",
       "9989  Mozilla/5.0 (compatible; MSIE 9.0; Windows NT ...   \n",
       "9991  Mozilla/5.0 (compatible; MSIE 8.0; Windows NT ...   \n",
       "9996  Mozilla/5.0 (compatible; MSIE 9.0; Windows NT ...   \n",
       "9997  Mozilla/5.0 (Macintosh; U; Intel Mac OS X 10_7...   \n",
       "9999  Mozilla/5.0 (X11; Linux i686; rv:1.9.5.20) Gec...   \n",
       "\n",
       "                           Company       Credit Card CC Exp Date  \\\n",
       "4        Brown, Watson and Andrews  6011456623207998       10/25   \n",
       "6                  Gibson and Sons  6011398782655569       07/24   \n",
       "9     Rivera, Buchanan and Ramirez     4396283918371       01/17   \n",
       "12                    Moore-Martin  5115990487067905       05/26   \n",
       "14        Leach, Howe and Ferguson   869967499275071       09/22   \n",
       "...                            ...               ...         ...   \n",
       "9989  Vargas, Nichols and Martinez  5278049688438382       12/23   \n",
       "9991                    Snyder Inc  4221582137197481       02/24   \n",
       "9996      Hale, Collins and Wilson   210033169205009       07/25   \n",
       "9997                  Anderson Ltd  6011539787356311       05/21   \n",
       "9999                    Greene Inc  4139972901927273       02/19   \n",
       "\n",
       "      CC Security Code                  CC Provider  \\\n",
       "4                  678  Diners Club / Carte Blanche   \n",
       "6                  714                VISA 16 digit   \n",
       "9                  931             American Express   \n",
       "12                 119                VISA 16 digit   \n",
       "14                 427                VISA 16 digit   \n",
       "...                ...                          ...   \n",
       "9989               996                VISA 16 digit   \n",
       "9991               969                      Voyager   \n",
       "9996               207                 JCB 16 digit   \n",
       "9997                 1                VISA 16 digit   \n",
       "9999               302                 JCB 15 digit   \n",
       "\n",
       "                            Email                           Job  \\\n",
       "4     christopherwright@gmail.com                   Fine artist   \n",
       "6              olivia04@yahoo.com                        Dancer   \n",
       "9        qcoleman@hunt-huerta.com            Forensic scientist   \n",
       "12              tholt@hotmail.com            Surveyor, quantity   \n",
       "14               aburns@yahoo.com                 Acupuncturist   \n",
       "...                           ...                           ...   \n",
       "9989   walterswilliam@hotmail.com  Community development worker   \n",
       "9991           kking@wise-liu.com         IT sales professional   \n",
       "9996           mary85@hotmail.com               Energy engineer   \n",
       "9997            tyler16@gmail.com            Veterinary surgeon   \n",
       "9999        rachelford@vaughn.com        Embryologist, clinical   \n",
       "\n",
       "           IP Address Language  Purchase Price  \n",
       "4        24.140.33.94       es           77.82  \n",
       "6      127.252.144.18       de           88.56  \n",
       "9       236.198.199.8       zh           95.63  \n",
       "12     236.71.234.240       en           39.65  \n",
       "14        50.25.148.1       de           24.18  \n",
       "...               ...      ...             ...  \n",
       "9989   39.162.164.169       pt           17.18  \n",
       "9991    254.25.31.156       el           25.93  \n",
       "9996   121.133.168.51       pt           25.63  \n",
       "9997    156.210.0.254       el           83.98  \n",
       "9999  176.119.198.199       el           67.59  \n",
       "\n",
       "[4932 rows x 14 columns]"
      ]
     },
     "execution_count": 180,
     "metadata": {},
     "output_type": "execute_result"
    }
   ],
   "source": [
    "ecom.groupby('AM or PM').get_group(\"AM\")"
   ]
  },
  {
   "cell_type": "code",
   "execution_count": 181,
   "id": "5e8d2985",
   "metadata": {},
   "outputs": [
    {
     "data": {
      "text/plain": [
       "{('AM', 'Abbott Ltd'): [7369], ('AM', 'Abbott and Sons'): [8037], ('AM', 'Abbott-Johnson'): [3171], ('AM', 'Acevedo-Watkins'): [4604], ('AM', 'Acosta, Carroll and Jennings'): [7312], ('AM', 'Acosta-Park'): [3022], ('AM', 'Adams Group'): [311, 2773], ('AM', 'Adams Inc'): [6251, 7763], ('AM', 'Adams LLC'): [7044, 8933], ('AM', 'Adams PLC'): [9294], ('AM', 'Adams and Sons'): [521, 7350], ('AM', 'Adams, Barker and Anderson'): [4456], ('AM', 'Adams, Carpenter and Perry'): [6070], ('AM', 'Adams, Garcia and Torres'): [544], ('AM', 'Adams, Gray and Fry'): [5748], ('AM', 'Adams, Marshall and Sullivan'): [6716], ('AM', 'Adams, Ward and Neal'): [3884], ('AM', 'Adams-Banks'): [4309], ('AM', 'Adams-Conrad'): [4265], ('AM', 'Adams-Morrison'): [4120], ('AM', 'Adams-Powell'): [5926], ('AM', 'Adkins PLC'): [6340], ('AM', 'Adkins and Sons'): [9303], ('AM', 'Adkins, Bruce and Pierce'): [6046], ('AM', 'Adkins, Reed and Torres'): [4539], ('AM', 'Adkins-Smith'): [1504], ('AM', 'Aguilar LLC'): [9483], ('AM', 'Aguilar PLC'): [4910], ('AM', 'Aguilar, Garcia and Burke'): [3757], ('AM', 'Aguilar, Torres and Smith'): [1242], ('AM', 'Aguilar-Jones'): [8429], ('AM', 'Aguilar-Perkins'): [381], ('AM', 'Aguirre LLC'): [1865], ('AM', 'Aguirre and Sons'): [3375], ('AM', 'Alexander Ltd'): [4301], ('AM', 'Alexander, Hicks and Ochoa'): [2564], ('AM', 'Alexander, Morgan and Atkinson'): [463], ('AM', 'Alexander, Perez and Thompson'): [4999], ('AM', 'Alexander, Strong and Strong'): [7593], ('AM', 'Alexander-Franklin'): [7136], ('AM', 'Alexander-Kaiser'): [3388], ('AM', 'Alexander-Kelly'): [8548], ('AM', 'Alexander-Ramos'): [7687], ('AM', 'Alexander-Reynolds'): [6842], ('AM', 'Ali Inc'): [2779], ('AM', 'Ali, Orr and Fischer'): [3457], ('AM', 'Ali-Christensen'): [2414], ('AM', 'Ali-Smith'): [7359], ('AM', 'Allen Group'): [5112, 9713], ('AM', 'Allen Inc'): [1081], ('AM', 'Allen Ltd'): [3028, 8615], ('AM', 'Allen and Sons'): [4687], ('AM', 'Allen, Ashley and Suarez'): [7138], ('AM', 'Allen, Johnson and Baker'): [9167], ('AM', 'Allen, Martin and Richards'): [3904], ('AM', 'Allen, Pitts and Nielsen'): [5267], ('AM', 'Allen, Riley and Cox'): [8382], ('AM', 'Allen, West and Miller'): [1280], ('AM', 'Allen-Delgado'): [5952], ('AM', 'Allen-Harris'): [2774], ('AM', 'Allen-Jacobson'): [2648], ('AM', 'Allen-Johnson'): [1905, 3636], ('AM', 'Allen-Peterson'): [1979], ('AM', 'Allen-Taylor'): [1746], ('AM', 'Allen-Watson'): [1923], ('AM', 'Allison LLC'): [1872], ('AM', 'Allison PLC'): [2883], ('AM', 'Allison, Oneal and Gould'): [9343], ('AM', 'Alvarado, Jacobs and Mills'): [3603], ('AM', 'Alvarez Inc'): [1680], ('AM', 'Alvarez PLC'): [8963], ('AM', 'Alvarez, Green and Porter'): [3533], ('AM', 'Alvarez, Rodriguez and Richardson'): [5407], ('AM', 'Alvarez, Vargas and Walker'): [7912], ('AM', 'Alvarez-Gomez'): [460], ('AM', 'Alvarez-Lopez'): [8247], ('AM', 'Alvarez-Perry'): [6168], ('AM', 'Andersen Inc'): [4777], ('AM', 'Andersen, Jarvis and Brown'): [8266], ('AM', 'Andersen, Rivera and Burke'): [7710], ('AM', 'Andersen-Bernard'): [9926], ('AM', 'Andersen-Richards'): [1272], ('AM', 'Anderson Group'): [6050, 6910, 9813], ('AM', 'Anderson Inc'): [154], ('AM', 'Anderson LLC'): [2197, 8781], ('AM', 'Anderson Ltd'): [1513, 5530, 8945, 9997], ('AM', 'Anderson PLC'): [8302], ('AM', 'Anderson, Burns and House'): [5528], ('AM', 'Anderson, Charles and Alexander'): [9922], ('AM', 'Anderson, Davis and Robbins'): [1741], ('AM', 'Anderson, Gray and Knapp'): [7915], ('AM', 'Anderson, Hill and Andrews'): [5327], ('AM', 'Anderson, Houston and Jackson'): [5119], ('AM', 'Anderson, Mitchell and Smith'): [9544], ('AM', 'Anderson, Rojas and Munoz'): [2048], ('AM', 'Anderson, Stevens and Ward'): [9491], ('AM', 'Anderson, Sutton and Dixon'): [716], ('AM', 'Anderson, Vasquez and Gilbert'): [8830], ('AM', 'Anderson, Williams and Diaz'): [443], ('AM', 'Anderson-Adams'): [3452], ...}"
      ]
     },
     "execution_count": 181,
     "metadata": {},
     "output_type": "execute_result"
    }
   ],
   "source": [
    "ecom.groupby(['AM or PM','Company']).groups"
   ]
  },
  {
   "cell_type": "code",
   "execution_count": 184,
   "id": "58034a49",
   "metadata": {},
   "outputs": [
    {
     "data": {
      "text/plain": [
       "AM or PM\n",
       "AM    50.186511\n",
       "PM    50.503779\n",
       "Name: Purchase Price, dtype: float64"
      ]
     },
     "execution_count": 184,
     "metadata": {},
     "output_type": "execute_result"
    }
   ],
   "source": [
    "ap=ecom.groupby(['AM or PM'])\n",
    "ap['Purchase Price'].mean()"
   ]
  },
  {
   "cell_type": "code",
   "execution_count": 187,
   "id": "204d2a31",
   "metadata": {},
   "outputs": [
    {
     "data": {
      "text/html": [
       "<div>\n",
       "<style scoped>\n",
       "    .dataframe tbody tr th:only-of-type {\n",
       "        vertical-align: middle;\n",
       "    }\n",
       "\n",
       "    .dataframe tbody tr th {\n",
       "        vertical-align: top;\n",
       "    }\n",
       "\n",
       "    .dataframe thead th {\n",
       "        text-align: right;\n",
       "    }\n",
       "</style>\n",
       "<table border=\"1\" class=\"dataframe\">\n",
       "  <thead>\n",
       "    <tr style=\"text-align: right;\">\n",
       "      <th></th>\n",
       "      <th>Purchase Price</th>\n",
       "    </tr>\n",
       "    <tr>\n",
       "      <th>AM or PM</th>\n",
       "      <th></th>\n",
       "    </tr>\n",
       "  </thead>\n",
       "  <tbody>\n",
       "    <tr>\n",
       "      <th>AM</th>\n",
       "      <td>50.186511</td>\n",
       "    </tr>\n",
       "    <tr>\n",
       "      <th>PM</th>\n",
       "      <td>50.503779</td>\n",
       "    </tr>\n",
       "  </tbody>\n",
       "</table>\n",
       "</div>"
      ],
      "text/plain": [
       "          Purchase Price\n",
       "AM or PM                \n",
       "AM             50.186511\n",
       "PM             50.503779"
      ]
     },
     "execution_count": 187,
     "metadata": {},
     "output_type": "execute_result"
    }
   ],
   "source": [
    "ecom.groupby(['AM or PM'])[['Purchase Price']].mean()"
   ]
  },
  {
   "cell_type": "code",
   "execution_count": 188,
   "id": "321fbc83",
   "metadata": {},
   "outputs": [],
   "source": [
    "# Sorting"
   ]
  },
  {
   "cell_type": "code",
   "execution_count": 189,
   "id": "07dcc24a",
   "metadata": {},
   "outputs": [
    {
     "data": {
      "text/html": [
       "<div>\n",
       "<style scoped>\n",
       "    .dataframe tbody tr th:only-of-type {\n",
       "        vertical-align: middle;\n",
       "    }\n",
       "\n",
       "    .dataframe tbody tr th {\n",
       "        vertical-align: top;\n",
       "    }\n",
       "\n",
       "    .dataframe thead th {\n",
       "        text-align: right;\n",
       "    }\n",
       "</style>\n",
       "<table border=\"1\" class=\"dataframe\">\n",
       "  <thead>\n",
       "    <tr style=\"text-align: right;\">\n",
       "      <th></th>\n",
       "      <th>Address</th>\n",
       "      <th>Lot</th>\n",
       "      <th>AM or PM</th>\n",
       "      <th>Browser Info</th>\n",
       "      <th>Company</th>\n",
       "      <th>Credit Card</th>\n",
       "      <th>CC Exp Date</th>\n",
       "      <th>CC Security Code</th>\n",
       "      <th>CC Provider</th>\n",
       "      <th>Email</th>\n",
       "      <th>Job</th>\n",
       "      <th>IP Address</th>\n",
       "      <th>Language</th>\n",
       "      <th>Purchase Price</th>\n",
       "    </tr>\n",
       "  </thead>\n",
       "  <tbody>\n",
       "    <tr>\n",
       "      <th>9931</th>\n",
       "      <td>71958 Diaz Roads Apt. 343\\nPort Richardville, ...</td>\n",
       "      <td>62 qP</td>\n",
       "      <td>AM</td>\n",
       "      <td>Opera/8.68.(X11; Linux i686; it-IT) Presto/2.9...</td>\n",
       "      <td>Thompson, Arnold and Ho</td>\n",
       "      <td>4432224867137016</td>\n",
       "      <td>12/19</td>\n",
       "      <td>624</td>\n",
       "      <td>JCB 16 digit</td>\n",
       "      <td>david35@banks.com</td>\n",
       "      <td>Academic librarian</td>\n",
       "      <td>149.198.225.228</td>\n",
       "      <td>en</td>\n",
       "      <td>64.41</td>\n",
       "    </tr>\n",
       "    <tr>\n",
       "      <th>4214</th>\n",
       "      <td>1265 Duncan Court\\nAlvarezview, DE 03874</td>\n",
       "      <td>67 EV</td>\n",
       "      <td>AM</td>\n",
       "      <td>Mozilla/5.0 (Macintosh; U; Intel Mac OS X 10_7...</td>\n",
       "      <td>Martinez-Jordan</td>\n",
       "      <td>4982407347457484</td>\n",
       "      <td>05/21</td>\n",
       "      <td>921</td>\n",
       "      <td>JCB 16 digit</td>\n",
       "      <td>michealhaley@rodriguez.com</td>\n",
       "      <td>Academic librarian</td>\n",
       "      <td>77.28.102.156</td>\n",
       "      <td>en</td>\n",
       "      <td>56.46</td>\n",
       "    </tr>\n",
       "    <tr>\n",
       "      <th>8499</th>\n",
       "      <td>795 Randall Skyway Suite 928\\nKiddstad, MS 709...</td>\n",
       "      <td>24 pK</td>\n",
       "      <td>AM</td>\n",
       "      <td>Mozilla/5.0 (Windows NT 5.1) AppleWebKit/5360 ...</td>\n",
       "      <td>Wilson, Patel and Mccoy</td>\n",
       "      <td>5344177216341636</td>\n",
       "      <td>05/22</td>\n",
       "      <td>386</td>\n",
       "      <td>American Express</td>\n",
       "      <td>amylozano@allen-miller.net</td>\n",
       "      <td>Academic librarian</td>\n",
       "      <td>94.152.95.202</td>\n",
       "      <td>el</td>\n",
       "      <td>22.56</td>\n",
       "    </tr>\n",
       "    <tr>\n",
       "      <th>7769</th>\n",
       "      <td>PSC 4313, Box 0557\\nAPO AA 12033-6203</td>\n",
       "      <td>25 WM</td>\n",
       "      <td>PM</td>\n",
       "      <td>Mozilla/5.0 (Macintosh; U; Intel Mac OS X 10_6...</td>\n",
       "      <td>Turner-Harris</td>\n",
       "      <td>4105681690623817</td>\n",
       "      <td>04/26</td>\n",
       "      <td>523</td>\n",
       "      <td>Voyager</td>\n",
       "      <td>hatfieldcorey@parker.net</td>\n",
       "      <td>Academic librarian</td>\n",
       "      <td>227.123.241.138</td>\n",
       "      <td>es</td>\n",
       "      <td>95.15</td>\n",
       "    </tr>\n",
       "    <tr>\n",
       "      <th>3914</th>\n",
       "      <td>548 Sanchez Dale Suite 325\\nNorth Jay, HI 35901</td>\n",
       "      <td>59 iy</td>\n",
       "      <td>AM</td>\n",
       "      <td>Mozilla/5.0 (Windows; U; Windows NT 6.0) Apple...</td>\n",
       "      <td>Haynes and Sons</td>\n",
       "      <td>6011998459310685</td>\n",
       "      <td>10/18</td>\n",
       "      <td>65</td>\n",
       "      <td>American Express</td>\n",
       "      <td>wheeleralexandra@colon-craig.com</td>\n",
       "      <td>Academic librarian</td>\n",
       "      <td>222.54.101.200</td>\n",
       "      <td>el</td>\n",
       "      <td>15.37</td>\n",
       "    </tr>\n",
       "    <tr>\n",
       "      <th>8234</th>\n",
       "      <td>87850 Amy Corner Suite 135\\nLake Jonathanside,...</td>\n",
       "      <td>81 Hg</td>\n",
       "      <td>PM</td>\n",
       "      <td>Mozilla/5.0 (Windows NT 5.0) AppleWebKit/5331 ...</td>\n",
       "      <td>Tate Inc</td>\n",
       "      <td>30435953333392</td>\n",
       "      <td>06/21</td>\n",
       "      <td>968</td>\n",
       "      <td>American Express</td>\n",
       "      <td>ggonzalez@miles.com</td>\n",
       "      <td>Academic librarian</td>\n",
       "      <td>71.176.157.226</td>\n",
       "      <td>ru</td>\n",
       "      <td>65.87</td>\n",
       "    </tr>\n",
       "    <tr>\n",
       "      <th>6589</th>\n",
       "      <td>76753 Duncan Pines\\nRamirezmouth, RI 18246</td>\n",
       "      <td>74 YW</td>\n",
       "      <td>AM</td>\n",
       "      <td>Mozilla/5.0 (X11; Linux i686) AppleWebKit/5352...</td>\n",
       "      <td>Moran, Ramsey and Navarro</td>\n",
       "      <td>5456352641046696</td>\n",
       "      <td>04/22</td>\n",
       "      <td>120</td>\n",
       "      <td>VISA 13 digit</td>\n",
       "      <td>jason94@warren-campbell.com</td>\n",
       "      <td>Academic librarian</td>\n",
       "      <td>86.112.73.93</td>\n",
       "      <td>it</td>\n",
       "      <td>0.76</td>\n",
       "    </tr>\n",
       "    <tr>\n",
       "      <th>2339</th>\n",
       "      <td>06823 Kathryn Wall Suite 698\\nNorth John, WV 5...</td>\n",
       "      <td>26 II</td>\n",
       "      <td>AM</td>\n",
       "      <td>Mozilla/5.0 (Macintosh; U; PPC Mac OS X 10_7_2...</td>\n",
       "      <td>Giles Group</td>\n",
       "      <td>5237469400100757</td>\n",
       "      <td>05/24</td>\n",
       "      <td>4113</td>\n",
       "      <td>VISA 13 digit</td>\n",
       "      <td>rgonzales@yahoo.com</td>\n",
       "      <td>Academic librarian</td>\n",
       "      <td>203.221.200.249</td>\n",
       "      <td>el</td>\n",
       "      <td>65.67</td>\n",
       "    </tr>\n",
       "    <tr>\n",
       "      <th>7103</th>\n",
       "      <td>37030 Terri Orchard\\nLake Ginaview, WA 06615-1392</td>\n",
       "      <td>15 Ao</td>\n",
       "      <td>PM</td>\n",
       "      <td>Mozilla/5.0 (Macintosh; U; Intel Mac OS X 10_6...</td>\n",
       "      <td>Johnson, Kramer and Smith</td>\n",
       "      <td>3088397087539796</td>\n",
       "      <td>12/20</td>\n",
       "      <td>27</td>\n",
       "      <td>VISA 16 digit</td>\n",
       "      <td>kathy35@cline.com</td>\n",
       "      <td>Academic librarian</td>\n",
       "      <td>211.239.125.235</td>\n",
       "      <td>es</td>\n",
       "      <td>29.55</td>\n",
       "    </tr>\n",
       "    <tr>\n",
       "      <th>1646</th>\n",
       "      <td>58961 Bryan Run\\nNew Barbaraborough, OR 04467-...</td>\n",
       "      <td>11 Mc</td>\n",
       "      <td>PM</td>\n",
       "      <td>Mozilla/5.0 (Macintosh; U; Intel Mac OS X 10_7...</td>\n",
       "      <td>Odonnell, Long and Jordan</td>\n",
       "      <td>4197434016663</td>\n",
       "      <td>05/17</td>\n",
       "      <td>630</td>\n",
       "      <td>JCB 16 digit</td>\n",
       "      <td>timothy94@gmail.com</td>\n",
       "      <td>Academic librarian</td>\n",
       "      <td>58.7.54.13</td>\n",
       "      <td>fr</td>\n",
       "      <td>58.66</td>\n",
       "    </tr>\n",
       "    <tr>\n",
       "      <th>1461</th>\n",
       "      <td>617 Glover Roads Suite 548\\nHodgefort, TN 29876</td>\n",
       "      <td>27 aM</td>\n",
       "      <td>AM</td>\n",
       "      <td>Mozilla/5.0 (X11; Linux x86_64) AppleWebKit/53...</td>\n",
       "      <td>Green PLC</td>\n",
       "      <td>4036104378992887</td>\n",
       "      <td>02/20</td>\n",
       "      <td>932</td>\n",
       "      <td>VISA 13 digit</td>\n",
       "      <td>diane09@orozco-nunez.com</td>\n",
       "      <td>Academic librarian</td>\n",
       "      <td>204.168.95.171</td>\n",
       "      <td>de</td>\n",
       "      <td>53.01</td>\n",
       "    </tr>\n",
       "    <tr>\n",
       "      <th>6564</th>\n",
       "      <td>85368 Charles Meadows Suite 963\\nCastillohaven...</td>\n",
       "      <td>43 Aa</td>\n",
       "      <td>PM</td>\n",
       "      <td>Opera/9.96.(X11; Linux i686; en-US) Presto/2.9...</td>\n",
       "      <td>Wright-Gallegos</td>\n",
       "      <td>5279540864997885</td>\n",
       "      <td>05/21</td>\n",
       "      <td>887</td>\n",
       "      <td>VISA 16 digit</td>\n",
       "      <td>yleonard@lopez.com</td>\n",
       "      <td>Accommodation manager</td>\n",
       "      <td>216.175.183.64</td>\n",
       "      <td>fr</td>\n",
       "      <td>33.63</td>\n",
       "    </tr>\n",
       "    <tr>\n",
       "      <th>9628</th>\n",
       "      <td>43141 Hayes Village\\nNew Zacharyville, VT 0465...</td>\n",
       "      <td>50 EA</td>\n",
       "      <td>PM</td>\n",
       "      <td>Opera/8.49.(Windows NT 5.2; it-IT) Presto/2.9....</td>\n",
       "      <td>Washington and Sons</td>\n",
       "      <td>180012456109823</td>\n",
       "      <td>07/23</td>\n",
       "      <td>1379</td>\n",
       "      <td>VISA 16 digit</td>\n",
       "      <td>pwhite@hotmail.com</td>\n",
       "      <td>Accommodation manager</td>\n",
       "      <td>110.190.136.238</td>\n",
       "      <td>de</td>\n",
       "      <td>57.89</td>\n",
       "    </tr>\n",
       "    <tr>\n",
       "      <th>963</th>\n",
       "      <td>3104 Johnson Hill Suite 513\\nNorrishaven, KS 1...</td>\n",
       "      <td>82 kx</td>\n",
       "      <td>PM</td>\n",
       "      <td>Mozilla/5.0 (Macintosh; U; PPC Mac OS X 10_5_2...</td>\n",
       "      <td>Smith-Welch</td>\n",
       "      <td>4942074666150816</td>\n",
       "      <td>11/24</td>\n",
       "      <td>730</td>\n",
       "      <td>JCB 16 digit</td>\n",
       "      <td>williamsdiana@reeves-cole.biz</td>\n",
       "      <td>Accommodation manager</td>\n",
       "      <td>136.124.216.57</td>\n",
       "      <td>zh</td>\n",
       "      <td>24.02</td>\n",
       "    </tr>\n",
       "    <tr>\n",
       "      <th>5923</th>\n",
       "      <td>902 Long Neck Suite 670\\nJenniferhaven, WA 455...</td>\n",
       "      <td>03 Fj</td>\n",
       "      <td>AM</td>\n",
       "      <td>Opera/9.43.(Windows NT 5.1; en-US) Presto/2.9....</td>\n",
       "      <td>Miller Ltd</td>\n",
       "      <td>5432597211305182</td>\n",
       "      <td>02/22</td>\n",
       "      <td>334</td>\n",
       "      <td>JCB 16 digit</td>\n",
       "      <td>ljackson@gmail.com</td>\n",
       "      <td>Accommodation manager</td>\n",
       "      <td>43.13.105.20</td>\n",
       "      <td>zh</td>\n",
       "      <td>19.95</td>\n",
       "    </tr>\n",
       "    <tr>\n",
       "      <th>7741</th>\n",
       "      <td>773 Salazar Valley\\nWest Patrickburgh, SD 58707</td>\n",
       "      <td>67 Ps</td>\n",
       "      <td>AM</td>\n",
       "      <td>Mozilla/5.0 (Macintosh; U; PPC Mac OS X 10_6_1...</td>\n",
       "      <td>Cole-Aguirre</td>\n",
       "      <td>4449078413809</td>\n",
       "      <td>10/17</td>\n",
       "      <td>812</td>\n",
       "      <td>JCB 16 digit</td>\n",
       "      <td>elizabeth83@yahoo.com</td>\n",
       "      <td>Accommodation manager</td>\n",
       "      <td>63.4.247.180</td>\n",
       "      <td>pt</td>\n",
       "      <td>58.07</td>\n",
       "    </tr>\n",
       "    <tr>\n",
       "      <th>1306</th>\n",
       "      <td>38478 Williams Springs\\nColleenberg, UT 74057-...</td>\n",
       "      <td>30 Ms</td>\n",
       "      <td>PM</td>\n",
       "      <td>Mozilla/5.0 (Windows; U; Windows NT 6.2) Apple...</td>\n",
       "      <td>Ryan Inc</td>\n",
       "      <td>4359396742732</td>\n",
       "      <td>02/26</td>\n",
       "      <td>493</td>\n",
       "      <td>Voyager</td>\n",
       "      <td>alexawilliams@gmail.com</td>\n",
       "      <td>Accommodation manager</td>\n",
       "      <td>57.121.27.253</td>\n",
       "      <td>en</td>\n",
       "      <td>48.58</td>\n",
       "    </tr>\n",
       "    <tr>\n",
       "      <th>2422</th>\n",
       "      <td>66919 Sarah Hill Apt. 380\\nOlsentown, MN 89638...</td>\n",
       "      <td>70 py</td>\n",
       "      <td>PM</td>\n",
       "      <td>Mozilla/5.0 (Windows NT 6.2) AppleWebKit/5361 ...</td>\n",
       "      <td>Patterson-Schroeder</td>\n",
       "      <td>30429552550696</td>\n",
       "      <td>06/26</td>\n",
       "      <td>833</td>\n",
       "      <td>Mastercard</td>\n",
       "      <td>hawkinswilliam@kelly.info</td>\n",
       "      <td>Accommodation manager</td>\n",
       "      <td>82.91.73.208</td>\n",
       "      <td>pt</td>\n",
       "      <td>9.06</td>\n",
       "    </tr>\n",
       "    <tr>\n",
       "      <th>4509</th>\n",
       "      <td>71642 Lucero Ridges\\nRowehaven, PW 15631</td>\n",
       "      <td>99 qk</td>\n",
       "      <td>AM</td>\n",
       "      <td>Mozilla/5.0 (Macintosh; PPC Mac OS X 10_5_6; r...</td>\n",
       "      <td>Nelson, Ward and Gray</td>\n",
       "      <td>3112681885884748</td>\n",
       "      <td>01/18</td>\n",
       "      <td>836</td>\n",
       "      <td>VISA 16 digit</td>\n",
       "      <td>rebecca50@jones.net</td>\n",
       "      <td>Accommodation manager</td>\n",
       "      <td>1.168.147.130</td>\n",
       "      <td>ru</td>\n",
       "      <td>34.62</td>\n",
       "    </tr>\n",
       "    <tr>\n",
       "      <th>4013</th>\n",
       "      <td>06641 Kristin Stravenue\\nGrayfurt, MN 23573</td>\n",
       "      <td>07 IJ</td>\n",
       "      <td>PM</td>\n",
       "      <td>Mozilla/5.0 (iPod; U; CPU iPhone OS 4_3 like M...</td>\n",
       "      <td>Blackwell LLC</td>\n",
       "      <td>30125617735989</td>\n",
       "      <td>07/20</td>\n",
       "      <td>575</td>\n",
       "      <td>Discover</td>\n",
       "      <td>ambersanders@hotmail.com</td>\n",
       "      <td>Accommodation manager</td>\n",
       "      <td>193.247.248.209</td>\n",
       "      <td>el</td>\n",
       "      <td>32.28</td>\n",
       "    </tr>\n",
       "  </tbody>\n",
       "</table>\n",
       "</div>"
      ],
      "text/plain": [
       "                                                Address    Lot AM or PM  \\\n",
       "9931  71958 Diaz Roads Apt. 343\\nPort Richardville, ...  62 qP       AM   \n",
       "4214           1265 Duncan Court\\nAlvarezview, DE 03874  67 EV       AM   \n",
       "8499  795 Randall Skyway Suite 928\\nKiddstad, MS 709...  24 pK       AM   \n",
       "7769              PSC 4313, Box 0557\\nAPO AA 12033-6203  25 WM       PM   \n",
       "3914    548 Sanchez Dale Suite 325\\nNorth Jay, HI 35901  59 iy       AM   \n",
       "8234  87850 Amy Corner Suite 135\\nLake Jonathanside,...  81 Hg       PM   \n",
       "6589         76753 Duncan Pines\\nRamirezmouth, RI 18246  74 YW       AM   \n",
       "2339  06823 Kathryn Wall Suite 698\\nNorth John, WV 5...  26 II       AM   \n",
       "7103  37030 Terri Orchard\\nLake Ginaview, WA 06615-1392  15 Ao       PM   \n",
       "1646  58961 Bryan Run\\nNew Barbaraborough, OR 04467-...  11 Mc       PM   \n",
       "1461    617 Glover Roads Suite 548\\nHodgefort, TN 29876  27 aM       AM   \n",
       "6564  85368 Charles Meadows Suite 963\\nCastillohaven...  43 Aa       PM   \n",
       "9628  43141 Hayes Village\\nNew Zacharyville, VT 0465...  50 EA       PM   \n",
       "963   3104 Johnson Hill Suite 513\\nNorrishaven, KS 1...  82 kx       PM   \n",
       "5923  902 Long Neck Suite 670\\nJenniferhaven, WA 455...  03 Fj       AM   \n",
       "7741    773 Salazar Valley\\nWest Patrickburgh, SD 58707  67 Ps       AM   \n",
       "1306  38478 Williams Springs\\nColleenberg, UT 74057-...  30 Ms       PM   \n",
       "2422  66919 Sarah Hill Apt. 380\\nOlsentown, MN 89638...  70 py       PM   \n",
       "4509           71642 Lucero Ridges\\nRowehaven, PW 15631  99 qk       AM   \n",
       "4013        06641 Kristin Stravenue\\nGrayfurt, MN 23573  07 IJ       PM   \n",
       "\n",
       "                                           Browser Info  \\\n",
       "9931  Opera/8.68.(X11; Linux i686; it-IT) Presto/2.9...   \n",
       "4214  Mozilla/5.0 (Macintosh; U; Intel Mac OS X 10_7...   \n",
       "8499  Mozilla/5.0 (Windows NT 5.1) AppleWebKit/5360 ...   \n",
       "7769  Mozilla/5.0 (Macintosh; U; Intel Mac OS X 10_6...   \n",
       "3914  Mozilla/5.0 (Windows; U; Windows NT 6.0) Apple...   \n",
       "8234  Mozilla/5.0 (Windows NT 5.0) AppleWebKit/5331 ...   \n",
       "6589  Mozilla/5.0 (X11; Linux i686) AppleWebKit/5352...   \n",
       "2339  Mozilla/5.0 (Macintosh; U; PPC Mac OS X 10_7_2...   \n",
       "7103  Mozilla/5.0 (Macintosh; U; Intel Mac OS X 10_6...   \n",
       "1646  Mozilla/5.0 (Macintosh; U; Intel Mac OS X 10_7...   \n",
       "1461  Mozilla/5.0 (X11; Linux x86_64) AppleWebKit/53...   \n",
       "6564  Opera/9.96.(X11; Linux i686; en-US) Presto/2.9...   \n",
       "9628  Opera/8.49.(Windows NT 5.2; it-IT) Presto/2.9....   \n",
       "963   Mozilla/5.0 (Macintosh; U; PPC Mac OS X 10_5_2...   \n",
       "5923  Opera/9.43.(Windows NT 5.1; en-US) Presto/2.9....   \n",
       "7741  Mozilla/5.0 (Macintosh; U; PPC Mac OS X 10_6_1...   \n",
       "1306  Mozilla/5.0 (Windows; U; Windows NT 6.2) Apple...   \n",
       "2422  Mozilla/5.0 (Windows NT 6.2) AppleWebKit/5361 ...   \n",
       "4509  Mozilla/5.0 (Macintosh; PPC Mac OS X 10_5_6; r...   \n",
       "4013  Mozilla/5.0 (iPod; U; CPU iPhone OS 4_3 like M...   \n",
       "\n",
       "                        Company       Credit Card CC Exp Date  \\\n",
       "9931    Thompson, Arnold and Ho  4432224867137016       12/19   \n",
       "4214            Martinez-Jordan  4982407347457484       05/21   \n",
       "8499    Wilson, Patel and Mccoy  5344177216341636       05/22   \n",
       "7769              Turner-Harris  4105681690623817       04/26   \n",
       "3914            Haynes and Sons  6011998459310685       10/18   \n",
       "8234                   Tate Inc    30435953333392       06/21   \n",
       "6589  Moran, Ramsey and Navarro  5456352641046696       04/22   \n",
       "2339                Giles Group  5237469400100757       05/24   \n",
       "7103  Johnson, Kramer and Smith  3088397087539796       12/20   \n",
       "1646  Odonnell, Long and Jordan     4197434016663       05/17   \n",
       "1461                  Green PLC  4036104378992887       02/20   \n",
       "6564            Wright-Gallegos  5279540864997885       05/21   \n",
       "9628        Washington and Sons   180012456109823       07/23   \n",
       "963                 Smith-Welch  4942074666150816       11/24   \n",
       "5923                 Miller Ltd  5432597211305182       02/22   \n",
       "7741               Cole-Aguirre     4449078413809       10/17   \n",
       "1306                   Ryan Inc     4359396742732       02/26   \n",
       "2422        Patterson-Schroeder    30429552550696       06/26   \n",
       "4509      Nelson, Ward and Gray  3112681885884748       01/18   \n",
       "4013              Blackwell LLC    30125617735989       07/20   \n",
       "\n",
       "      CC Security Code       CC Provider                             Email  \\\n",
       "9931               624      JCB 16 digit                 david35@banks.com   \n",
       "4214               921      JCB 16 digit        michealhaley@rodriguez.com   \n",
       "8499               386  American Express        amylozano@allen-miller.net   \n",
       "7769               523           Voyager          hatfieldcorey@parker.net   \n",
       "3914                65  American Express  wheeleralexandra@colon-craig.com   \n",
       "8234               968  American Express               ggonzalez@miles.com   \n",
       "6589               120     VISA 13 digit       jason94@warren-campbell.com   \n",
       "2339              4113     VISA 13 digit               rgonzales@yahoo.com   \n",
       "7103                27     VISA 16 digit                 kathy35@cline.com   \n",
       "1646               630      JCB 16 digit               timothy94@gmail.com   \n",
       "1461               932     VISA 13 digit          diane09@orozco-nunez.com   \n",
       "6564               887     VISA 16 digit                yleonard@lopez.com   \n",
       "9628              1379     VISA 16 digit                pwhite@hotmail.com   \n",
       "963                730      JCB 16 digit     williamsdiana@reeves-cole.biz   \n",
       "5923               334      JCB 16 digit                ljackson@gmail.com   \n",
       "7741               812      JCB 16 digit             elizabeth83@yahoo.com   \n",
       "1306               493           Voyager           alexawilliams@gmail.com   \n",
       "2422               833        Mastercard         hawkinswilliam@kelly.info   \n",
       "4509               836     VISA 16 digit               rebecca50@jones.net   \n",
       "4013               575          Discover          ambersanders@hotmail.com   \n",
       "\n",
       "                        Job       IP Address Language  Purchase Price  \n",
       "9931     Academic librarian  149.198.225.228       en           64.41  \n",
       "4214     Academic librarian    77.28.102.156       en           56.46  \n",
       "8499     Academic librarian    94.152.95.202       el           22.56  \n",
       "7769     Academic librarian  227.123.241.138       es           95.15  \n",
       "3914     Academic librarian   222.54.101.200       el           15.37  \n",
       "8234     Academic librarian   71.176.157.226       ru           65.87  \n",
       "6589     Academic librarian     86.112.73.93       it            0.76  \n",
       "2339     Academic librarian  203.221.200.249       el           65.67  \n",
       "7103     Academic librarian  211.239.125.235       es           29.55  \n",
       "1646     Academic librarian       58.7.54.13       fr           58.66  \n",
       "1461     Academic librarian   204.168.95.171       de           53.01  \n",
       "6564  Accommodation manager   216.175.183.64       fr           33.63  \n",
       "9628  Accommodation manager  110.190.136.238       de           57.89  \n",
       "963   Accommodation manager   136.124.216.57       zh           24.02  \n",
       "5923  Accommodation manager     43.13.105.20       zh           19.95  \n",
       "7741  Accommodation manager     63.4.247.180       pt           58.07  \n",
       "1306  Accommodation manager    57.121.27.253       en           48.58  \n",
       "2422  Accommodation manager     82.91.73.208       pt            9.06  \n",
       "4509  Accommodation manager    1.168.147.130       ru           34.62  \n",
       "4013  Accommodation manager  193.247.248.209       el           32.28  "
      ]
     },
     "execution_count": 189,
     "metadata": {},
     "output_type": "execute_result"
    }
   ],
   "source": [
    "ecom.sort_values(by=\"Job\").head(20)"
   ]
  },
  {
   "cell_type": "code",
   "execution_count": 191,
   "id": "1aa0f823",
   "metadata": {},
   "outputs": [
    {
     "data": {
      "text/html": [
       "<div>\n",
       "<style scoped>\n",
       "    .dataframe tbody tr th:only-of-type {\n",
       "        vertical-align: middle;\n",
       "    }\n",
       "\n",
       "    .dataframe tbody tr th {\n",
       "        vertical-align: top;\n",
       "    }\n",
       "\n",
       "    .dataframe thead th {\n",
       "        text-align: right;\n",
       "    }\n",
       "</style>\n",
       "<table border=\"1\" class=\"dataframe\">\n",
       "  <thead>\n",
       "    <tr style=\"text-align: right;\">\n",
       "      <th></th>\n",
       "      <th>Address</th>\n",
       "      <th>Lot</th>\n",
       "      <th>AM or PM</th>\n",
       "      <th>Browser Info</th>\n",
       "      <th>Company</th>\n",
       "      <th>Credit Card</th>\n",
       "      <th>CC Exp Date</th>\n",
       "      <th>CC Security Code</th>\n",
       "      <th>CC Provider</th>\n",
       "      <th>Email</th>\n",
       "      <th>Job</th>\n",
       "      <th>IP Address</th>\n",
       "      <th>Language</th>\n",
       "      <th>Purchase Price</th>\n",
       "    </tr>\n",
       "  </thead>\n",
       "  <tbody>\n",
       "    <tr>\n",
       "      <th>2339</th>\n",
       "      <td>06823 Kathryn Wall Suite 698\\nNorth John, WV 5...</td>\n",
       "      <td>26 II</td>\n",
       "      <td>AM</td>\n",
       "      <td>Mozilla/5.0 (Macintosh; U; PPC Mac OS X 10_7_2...</td>\n",
       "      <td>Giles Group</td>\n",
       "      <td>5237469400100757</td>\n",
       "      <td>05/24</td>\n",
       "      <td>4113</td>\n",
       "      <td>VISA 13 digit</td>\n",
       "      <td>rgonzales@yahoo.com</td>\n",
       "      <td>Academic librarian</td>\n",
       "      <td>203.221.200.249</td>\n",
       "      <td>el</td>\n",
       "      <td>65.67</td>\n",
       "    </tr>\n",
       "    <tr>\n",
       "      <th>8234</th>\n",
       "      <td>87850 Amy Corner Suite 135\\nLake Jonathanside,...</td>\n",
       "      <td>81 Hg</td>\n",
       "      <td>PM</td>\n",
       "      <td>Mozilla/5.0 (Windows NT 5.0) AppleWebKit/5331 ...</td>\n",
       "      <td>Tate Inc</td>\n",
       "      <td>30435953333392</td>\n",
       "      <td>06/21</td>\n",
       "      <td>968</td>\n",
       "      <td>American Express</td>\n",
       "      <td>ggonzalez@miles.com</td>\n",
       "      <td>Academic librarian</td>\n",
       "      <td>71.176.157.226</td>\n",
       "      <td>ru</td>\n",
       "      <td>65.87</td>\n",
       "    </tr>\n",
       "    <tr>\n",
       "      <th>1461</th>\n",
       "      <td>617 Glover Roads Suite 548\\nHodgefort, TN 29876</td>\n",
       "      <td>27 aM</td>\n",
       "      <td>AM</td>\n",
       "      <td>Mozilla/5.0 (X11; Linux x86_64) AppleWebKit/53...</td>\n",
       "      <td>Green PLC</td>\n",
       "      <td>4036104378992887</td>\n",
       "      <td>02/20</td>\n",
       "      <td>932</td>\n",
       "      <td>VISA 13 digit</td>\n",
       "      <td>diane09@orozco-nunez.com</td>\n",
       "      <td>Academic librarian</td>\n",
       "      <td>204.168.95.171</td>\n",
       "      <td>de</td>\n",
       "      <td>53.01</td>\n",
       "    </tr>\n",
       "    <tr>\n",
       "      <th>4214</th>\n",
       "      <td>1265 Duncan Court\\nAlvarezview, DE 03874</td>\n",
       "      <td>67 EV</td>\n",
       "      <td>AM</td>\n",
       "      <td>Mozilla/5.0 (Macintosh; U; Intel Mac OS X 10_7...</td>\n",
       "      <td>Martinez-Jordan</td>\n",
       "      <td>4982407347457484</td>\n",
       "      <td>05/21</td>\n",
       "      <td>921</td>\n",
       "      <td>JCB 16 digit</td>\n",
       "      <td>michealhaley@rodriguez.com</td>\n",
       "      <td>Academic librarian</td>\n",
       "      <td>77.28.102.156</td>\n",
       "      <td>en</td>\n",
       "      <td>56.46</td>\n",
       "    </tr>\n",
       "    <tr>\n",
       "      <th>1646</th>\n",
       "      <td>58961 Bryan Run\\nNew Barbaraborough, OR 04467-...</td>\n",
       "      <td>11 Mc</td>\n",
       "      <td>PM</td>\n",
       "      <td>Mozilla/5.0 (Macintosh; U; Intel Mac OS X 10_7...</td>\n",
       "      <td>Odonnell, Long and Jordan</td>\n",
       "      <td>4197434016663</td>\n",
       "      <td>05/17</td>\n",
       "      <td>630</td>\n",
       "      <td>JCB 16 digit</td>\n",
       "      <td>timothy94@gmail.com</td>\n",
       "      <td>Academic librarian</td>\n",
       "      <td>58.7.54.13</td>\n",
       "      <td>fr</td>\n",
       "      <td>58.66</td>\n",
       "    </tr>\n",
       "    <tr>\n",
       "      <th>9931</th>\n",
       "      <td>71958 Diaz Roads Apt. 343\\nPort Richardville, ...</td>\n",
       "      <td>62 qP</td>\n",
       "      <td>AM</td>\n",
       "      <td>Opera/8.68.(X11; Linux i686; it-IT) Presto/2.9...</td>\n",
       "      <td>Thompson, Arnold and Ho</td>\n",
       "      <td>4432224867137016</td>\n",
       "      <td>12/19</td>\n",
       "      <td>624</td>\n",
       "      <td>JCB 16 digit</td>\n",
       "      <td>david35@banks.com</td>\n",
       "      <td>Academic librarian</td>\n",
       "      <td>149.198.225.228</td>\n",
       "      <td>en</td>\n",
       "      <td>64.41</td>\n",
       "    </tr>\n",
       "    <tr>\n",
       "      <th>7769</th>\n",
       "      <td>PSC 4313, Box 0557\\nAPO AA 12033-6203</td>\n",
       "      <td>25 WM</td>\n",
       "      <td>PM</td>\n",
       "      <td>Mozilla/5.0 (Macintosh; U; Intel Mac OS X 10_6...</td>\n",
       "      <td>Turner-Harris</td>\n",
       "      <td>4105681690623817</td>\n",
       "      <td>04/26</td>\n",
       "      <td>523</td>\n",
       "      <td>Voyager</td>\n",
       "      <td>hatfieldcorey@parker.net</td>\n",
       "      <td>Academic librarian</td>\n",
       "      <td>227.123.241.138</td>\n",
       "      <td>es</td>\n",
       "      <td>95.15</td>\n",
       "    </tr>\n",
       "    <tr>\n",
       "      <th>8499</th>\n",
       "      <td>795 Randall Skyway Suite 928\\nKiddstad, MS 709...</td>\n",
       "      <td>24 pK</td>\n",
       "      <td>AM</td>\n",
       "      <td>Mozilla/5.0 (Windows NT 5.1) AppleWebKit/5360 ...</td>\n",
       "      <td>Wilson, Patel and Mccoy</td>\n",
       "      <td>5344177216341636</td>\n",
       "      <td>05/22</td>\n",
       "      <td>386</td>\n",
       "      <td>American Express</td>\n",
       "      <td>amylozano@allen-miller.net</td>\n",
       "      <td>Academic librarian</td>\n",
       "      <td>94.152.95.202</td>\n",
       "      <td>el</td>\n",
       "      <td>22.56</td>\n",
       "    </tr>\n",
       "    <tr>\n",
       "      <th>6589</th>\n",
       "      <td>76753 Duncan Pines\\nRamirezmouth, RI 18246</td>\n",
       "      <td>74 YW</td>\n",
       "      <td>AM</td>\n",
       "      <td>Mozilla/5.0 (X11; Linux i686) AppleWebKit/5352...</td>\n",
       "      <td>Moran, Ramsey and Navarro</td>\n",
       "      <td>5456352641046696</td>\n",
       "      <td>04/22</td>\n",
       "      <td>120</td>\n",
       "      <td>VISA 13 digit</td>\n",
       "      <td>jason94@warren-campbell.com</td>\n",
       "      <td>Academic librarian</td>\n",
       "      <td>86.112.73.93</td>\n",
       "      <td>it</td>\n",
       "      <td>0.76</td>\n",
       "    </tr>\n",
       "    <tr>\n",
       "      <th>3914</th>\n",
       "      <td>548 Sanchez Dale Suite 325\\nNorth Jay, HI 35901</td>\n",
       "      <td>59 iy</td>\n",
       "      <td>AM</td>\n",
       "      <td>Mozilla/5.0 (Windows; U; Windows NT 6.0) Apple...</td>\n",
       "      <td>Haynes and Sons</td>\n",
       "      <td>6011998459310685</td>\n",
       "      <td>10/18</td>\n",
       "      <td>65</td>\n",
       "      <td>American Express</td>\n",
       "      <td>wheeleralexandra@colon-craig.com</td>\n",
       "      <td>Academic librarian</td>\n",
       "      <td>222.54.101.200</td>\n",
       "      <td>el</td>\n",
       "      <td>15.37</td>\n",
       "    </tr>\n",
       "  </tbody>\n",
       "</table>\n",
       "</div>"
      ],
      "text/plain": [
       "                                                Address    Lot AM or PM  \\\n",
       "2339  06823 Kathryn Wall Suite 698\\nNorth John, WV 5...  26 II       AM   \n",
       "8234  87850 Amy Corner Suite 135\\nLake Jonathanside,...  81 Hg       PM   \n",
       "1461    617 Glover Roads Suite 548\\nHodgefort, TN 29876  27 aM       AM   \n",
       "4214           1265 Duncan Court\\nAlvarezview, DE 03874  67 EV       AM   \n",
       "1646  58961 Bryan Run\\nNew Barbaraborough, OR 04467-...  11 Mc       PM   \n",
       "9931  71958 Diaz Roads Apt. 343\\nPort Richardville, ...  62 qP       AM   \n",
       "7769              PSC 4313, Box 0557\\nAPO AA 12033-6203  25 WM       PM   \n",
       "8499  795 Randall Skyway Suite 928\\nKiddstad, MS 709...  24 pK       AM   \n",
       "6589         76753 Duncan Pines\\nRamirezmouth, RI 18246  74 YW       AM   \n",
       "3914    548 Sanchez Dale Suite 325\\nNorth Jay, HI 35901  59 iy       AM   \n",
       "\n",
       "                                           Browser Info  \\\n",
       "2339  Mozilla/5.0 (Macintosh; U; PPC Mac OS X 10_7_2...   \n",
       "8234  Mozilla/5.0 (Windows NT 5.0) AppleWebKit/5331 ...   \n",
       "1461  Mozilla/5.0 (X11; Linux x86_64) AppleWebKit/53...   \n",
       "4214  Mozilla/5.0 (Macintosh; U; Intel Mac OS X 10_7...   \n",
       "1646  Mozilla/5.0 (Macintosh; U; Intel Mac OS X 10_7...   \n",
       "9931  Opera/8.68.(X11; Linux i686; it-IT) Presto/2.9...   \n",
       "7769  Mozilla/5.0 (Macintosh; U; Intel Mac OS X 10_6...   \n",
       "8499  Mozilla/5.0 (Windows NT 5.1) AppleWebKit/5360 ...   \n",
       "6589  Mozilla/5.0 (X11; Linux i686) AppleWebKit/5352...   \n",
       "3914  Mozilla/5.0 (Windows; U; Windows NT 6.0) Apple...   \n",
       "\n",
       "                        Company       Credit Card CC Exp Date  \\\n",
       "2339                Giles Group  5237469400100757       05/24   \n",
       "8234                   Tate Inc    30435953333392       06/21   \n",
       "1461                  Green PLC  4036104378992887       02/20   \n",
       "4214            Martinez-Jordan  4982407347457484       05/21   \n",
       "1646  Odonnell, Long and Jordan     4197434016663       05/17   \n",
       "9931    Thompson, Arnold and Ho  4432224867137016       12/19   \n",
       "7769              Turner-Harris  4105681690623817       04/26   \n",
       "8499    Wilson, Patel and Mccoy  5344177216341636       05/22   \n",
       "6589  Moran, Ramsey and Navarro  5456352641046696       04/22   \n",
       "3914            Haynes and Sons  6011998459310685       10/18   \n",
       "\n",
       "      CC Security Code       CC Provider                             Email  \\\n",
       "2339              4113     VISA 13 digit               rgonzales@yahoo.com   \n",
       "8234               968  American Express               ggonzalez@miles.com   \n",
       "1461               932     VISA 13 digit          diane09@orozco-nunez.com   \n",
       "4214               921      JCB 16 digit        michealhaley@rodriguez.com   \n",
       "1646               630      JCB 16 digit               timothy94@gmail.com   \n",
       "9931               624      JCB 16 digit                 david35@banks.com   \n",
       "7769               523           Voyager          hatfieldcorey@parker.net   \n",
       "8499               386  American Express        amylozano@allen-miller.net   \n",
       "6589               120     VISA 13 digit       jason94@warren-campbell.com   \n",
       "3914                65  American Express  wheeleralexandra@colon-craig.com   \n",
       "\n",
       "                     Job       IP Address Language  Purchase Price  \n",
       "2339  Academic librarian  203.221.200.249       el           65.67  \n",
       "8234  Academic librarian   71.176.157.226       ru           65.87  \n",
       "1461  Academic librarian   204.168.95.171       de           53.01  \n",
       "4214  Academic librarian    77.28.102.156       en           56.46  \n",
       "1646  Academic librarian       58.7.54.13       fr           58.66  \n",
       "9931  Academic librarian  149.198.225.228       en           64.41  \n",
       "7769  Academic librarian  227.123.241.138       es           95.15  \n",
       "8499  Academic librarian    94.152.95.202       el           22.56  \n",
       "6589  Academic librarian     86.112.73.93       it            0.76  \n",
       "3914  Academic librarian   222.54.101.200       el           15.37  "
      ]
     },
     "execution_count": 191,
     "metadata": {},
     "output_type": "execute_result"
    }
   ],
   "source": [
    "ecom_sorted= ecom.sort_values(by=[\"Job\",'CC Security Code'],ascending=[True,False])\n",
    "ecom_sorted.head(10)"
   ]
  },
  {
   "cell_type": "code",
   "execution_count": 195,
   "id": "0099e2b3",
   "metadata": {},
   "outputs": [
    {
     "data": {
      "text/html": [
       "<div>\n",
       "<style scoped>\n",
       "    .dataframe tbody tr th:only-of-type {\n",
       "        vertical-align: middle;\n",
       "    }\n",
       "\n",
       "    .dataframe tbody tr th {\n",
       "        vertical-align: top;\n",
       "    }\n",
       "\n",
       "    .dataframe thead th {\n",
       "        text-align: right;\n",
       "    }\n",
       "</style>\n",
       "<table border=\"1\" class=\"dataframe\">\n",
       "  <thead>\n",
       "    <tr style=\"text-align: right;\">\n",
       "      <th></th>\n",
       "      <th>Address</th>\n",
       "      <th>Lot</th>\n",
       "      <th>AM or PM</th>\n",
       "      <th>Browser Info</th>\n",
       "      <th>Company</th>\n",
       "      <th>Credit Card</th>\n",
       "      <th>CC Exp Date</th>\n",
       "      <th>CC Security Code</th>\n",
       "      <th>CC Provider</th>\n",
       "      <th>Email</th>\n",
       "      <th>Job</th>\n",
       "      <th>IP Address</th>\n",
       "      <th>Language</th>\n",
       "      <th>Purchase Price</th>\n",
       "      <th>Cost</th>\n",
       "    </tr>\n",
       "  </thead>\n",
       "  <tbody>\n",
       "    <tr>\n",
       "      <th>0</th>\n",
       "      <td>16629 Pace Camp Apt. 448\\nAlexisborough, NE 77...</td>\n",
       "      <td>46 in</td>\n",
       "      <td>PM</td>\n",
       "      <td>Opera/9.56.(X11; Linux x86_64; sl-SI) Presto/2...</td>\n",
       "      <td>Martinez-Herman</td>\n",
       "      <td>6011929061123406</td>\n",
       "      <td>02/20</td>\n",
       "      <td>900</td>\n",
       "      <td>JCB 16 digit</td>\n",
       "      <td>pdunlap@yahoo.com</td>\n",
       "      <td>Scientist, product/process development</td>\n",
       "      <td>149.146.147.205</td>\n",
       "      <td>el</td>\n",
       "      <td>98.14</td>\n",
       "      <td>costly</td>\n",
       "    </tr>\n",
       "    <tr>\n",
       "      <th>1</th>\n",
       "      <td>9374 Jasmine Spurs Suite 508\\nSouth John, TN 8...</td>\n",
       "      <td>28 rn</td>\n",
       "      <td>PM</td>\n",
       "      <td>Opera/8.93.(Windows 98; Win 9x 4.90; en-US) Pr...</td>\n",
       "      <td>Fletcher, Richards and Whitaker</td>\n",
       "      <td>3337758169645356</td>\n",
       "      <td>11/18</td>\n",
       "      <td>561</td>\n",
       "      <td>Mastercard</td>\n",
       "      <td>anthony41@reed.com</td>\n",
       "      <td>Drilling engineer</td>\n",
       "      <td>15.160.41.51</td>\n",
       "      <td>fr</td>\n",
       "      <td>70.73</td>\n",
       "      <td>costly</td>\n",
       "    </tr>\n",
       "    <tr>\n",
       "      <th>2</th>\n",
       "      <td>Unit 0065 Box 5052\\nDPO AP 27450</td>\n",
       "      <td>94 vE</td>\n",
       "      <td>PM</td>\n",
       "      <td>Mozilla/5.0 (compatible; MSIE 9.0; Windows NT ...</td>\n",
       "      <td>Simpson, Williams and Pham</td>\n",
       "      <td>675957666125</td>\n",
       "      <td>08/19</td>\n",
       "      <td>699</td>\n",
       "      <td>JCB 16 digit</td>\n",
       "      <td>amymiller@morales-harrison.com</td>\n",
       "      <td>Customer service manager</td>\n",
       "      <td>132.207.160.22</td>\n",
       "      <td>de</td>\n",
       "      <td>0.95</td>\n",
       "      <td>Affordable</td>\n",
       "    </tr>\n",
       "    <tr>\n",
       "      <th>3</th>\n",
       "      <td>7780 Julia Fords\\nNew Stacy, WA 45798</td>\n",
       "      <td>36 vm</td>\n",
       "      <td>PM</td>\n",
       "      <td>Mozilla/5.0 (Macintosh; Intel Mac OS X 10_8_0 ...</td>\n",
       "      <td>Williams, Marshall and Buchanan</td>\n",
       "      <td>6011578504430710</td>\n",
       "      <td>02/24</td>\n",
       "      <td>384</td>\n",
       "      <td>Discover</td>\n",
       "      <td>brent16@olson-robinson.info</td>\n",
       "      <td>Drilling engineer</td>\n",
       "      <td>30.250.74.19</td>\n",
       "      <td>es</td>\n",
       "      <td>78.04</td>\n",
       "      <td>costly</td>\n",
       "    </tr>\n",
       "    <tr>\n",
       "      <th>4</th>\n",
       "      <td>23012 Munoz Drive Suite 337\\nNew Cynthia, TX 5...</td>\n",
       "      <td>20 IE</td>\n",
       "      <td>AM</td>\n",
       "      <td>Opera/9.58.(X11; Linux x86_64; it-IT) Presto/2...</td>\n",
       "      <td>Brown, Watson and Andrews</td>\n",
       "      <td>6011456623207998</td>\n",
       "      <td>10/25</td>\n",
       "      <td>678</td>\n",
       "      <td>Diners Club / Carte Blanche</td>\n",
       "      <td>christopherwright@gmail.com</td>\n",
       "      <td>Fine artist</td>\n",
       "      <td>24.140.33.94</td>\n",
       "      <td>es</td>\n",
       "      <td>77.82</td>\n",
       "      <td>costly</td>\n",
       "    </tr>\n",
       "    <tr>\n",
       "      <th>...</th>\n",
       "      <td>...</td>\n",
       "      <td>...</td>\n",
       "      <td>...</td>\n",
       "      <td>...</td>\n",
       "      <td>...</td>\n",
       "      <td>...</td>\n",
       "      <td>...</td>\n",
       "      <td>...</td>\n",
       "      <td>...</td>\n",
       "      <td>...</td>\n",
       "      <td>...</td>\n",
       "      <td>...</td>\n",
       "      <td>...</td>\n",
       "      <td>...</td>\n",
       "      <td>...</td>\n",
       "    </tr>\n",
       "    <tr>\n",
       "      <th>95</th>\n",
       "      <td>4445 Christopher Well Apt. 053\\nRonaldton, KS ...</td>\n",
       "      <td>33 Uu</td>\n",
       "      <td>PM</td>\n",
       "      <td>Opera/9.21.(Windows NT 6.1; sl-SI) Presto/2.9....</td>\n",
       "      <td>Moore-Hall</td>\n",
       "      <td>3088798824982514</td>\n",
       "      <td>04/18</td>\n",
       "      <td>928</td>\n",
       "      <td>JCB 16 digit</td>\n",
       "      <td>arellanopatrick@thomas.net</td>\n",
       "      <td>Dealer</td>\n",
       "      <td>59.216.3.55</td>\n",
       "      <td>fr</td>\n",
       "      <td>19.56</td>\n",
       "      <td>Affordable</td>\n",
       "    </tr>\n",
       "    <tr>\n",
       "      <th>96</th>\n",
       "      <td>17923 Carol Lake Suite 232\\nNew Andre, MD 0577...</td>\n",
       "      <td>20 bk</td>\n",
       "      <td>AM</td>\n",
       "      <td>Mozilla/5.0 (Macintosh; U; Intel Mac OS X 10_8...</td>\n",
       "      <td>Knight LLC</td>\n",
       "      <td>60498172646</td>\n",
       "      <td>09/25</td>\n",
       "      <td>600</td>\n",
       "      <td>Voyager</td>\n",
       "      <td>mannlisa@yahoo.com</td>\n",
       "      <td>Town planner</td>\n",
       "      <td>200.220.84.25</td>\n",
       "      <td>fr</td>\n",
       "      <td>77.51</td>\n",
       "      <td>costly</td>\n",
       "    </tr>\n",
       "    <tr>\n",
       "      <th>97</th>\n",
       "      <td>91474 Craig Brooks Suite 633\\nNew Patrick, CT ...</td>\n",
       "      <td>42 Nk</td>\n",
       "      <td>AM</td>\n",
       "      <td>Mozilla/5.0 (X11; Linux x86_64; rv:1.9.7.20) G...</td>\n",
       "      <td>Parker, Nelson and Delgado</td>\n",
       "      <td>3528362130154694</td>\n",
       "      <td>02/25</td>\n",
       "      <td>366</td>\n",
       "      <td>Mastercard</td>\n",
       "      <td>crawfordwilliam@yahoo.com</td>\n",
       "      <td>Travel agency manager</td>\n",
       "      <td>126.124.175.181</td>\n",
       "      <td>ru</td>\n",
       "      <td>17.20</td>\n",
       "      <td>Affordable</td>\n",
       "    </tr>\n",
       "    <tr>\n",
       "      <th>98</th>\n",
       "      <td>192 Malone Stream Suite 756\\nLake Gary, KS 373...</td>\n",
       "      <td>00 zU</td>\n",
       "      <td>AM</td>\n",
       "      <td>Mozilla/5.0 (compatible; MSIE 7.0; Windows NT ...</td>\n",
       "      <td>Simpson Inc</td>\n",
       "      <td>376660848256225</td>\n",
       "      <td>08/23</td>\n",
       "      <td>215</td>\n",
       "      <td>American Express</td>\n",
       "      <td>jeanetteburgess@hotmail.com</td>\n",
       "      <td>Engineer, water</td>\n",
       "      <td>177.234.46.245</td>\n",
       "      <td>fr</td>\n",
       "      <td>38.75</td>\n",
       "      <td>costly</td>\n",
       "    </tr>\n",
       "    <tr>\n",
       "      <th>99</th>\n",
       "      <td>0156 Williams Ridge\\nLake Davidside, SD 58117</td>\n",
       "      <td>78 NS</td>\n",
       "      <td>AM</td>\n",
       "      <td>Mozilla/5.0 (compatible; MSIE 5.0; Windows NT ...</td>\n",
       "      <td>Harper, Patrick and Richards</td>\n",
       "      <td>4913535442412</td>\n",
       "      <td>07/22</td>\n",
       "      <td>548</td>\n",
       "      <td>American Express</td>\n",
       "      <td>amandastewart@gmail.com</td>\n",
       "      <td>Lecturer, higher education</td>\n",
       "      <td>136.255.248.130</td>\n",
       "      <td>fr</td>\n",
       "      <td>50.60</td>\n",
       "      <td>costly</td>\n",
       "    </tr>\n",
       "  </tbody>\n",
       "</table>\n",
       "<p>100 rows × 15 columns</p>\n",
       "</div>"
      ],
      "text/plain": [
       "                                              Address    Lot AM or PM  \\\n",
       "0   16629 Pace Camp Apt. 448\\nAlexisborough, NE 77...  46 in       PM   \n",
       "1   9374 Jasmine Spurs Suite 508\\nSouth John, TN 8...  28 rn       PM   \n",
       "2                    Unit 0065 Box 5052\\nDPO AP 27450  94 vE       PM   \n",
       "3               7780 Julia Fords\\nNew Stacy, WA 45798  36 vm       PM   \n",
       "4   23012 Munoz Drive Suite 337\\nNew Cynthia, TX 5...  20 IE       AM   \n",
       "..                                                ...    ...      ...   \n",
       "95  4445 Christopher Well Apt. 053\\nRonaldton, KS ...  33 Uu       PM   \n",
       "96  17923 Carol Lake Suite 232\\nNew Andre, MD 0577...  20 bk       AM   \n",
       "97  91474 Craig Brooks Suite 633\\nNew Patrick, CT ...  42 Nk       AM   \n",
       "98  192 Malone Stream Suite 756\\nLake Gary, KS 373...  00 zU       AM   \n",
       "99      0156 Williams Ridge\\nLake Davidside, SD 58117  78 NS       AM   \n",
       "\n",
       "                                         Browser Info  \\\n",
       "0   Opera/9.56.(X11; Linux x86_64; sl-SI) Presto/2...   \n",
       "1   Opera/8.93.(Windows 98; Win 9x 4.90; en-US) Pr...   \n",
       "2   Mozilla/5.0 (compatible; MSIE 9.0; Windows NT ...   \n",
       "3   Mozilla/5.0 (Macintosh; Intel Mac OS X 10_8_0 ...   \n",
       "4   Opera/9.58.(X11; Linux x86_64; it-IT) Presto/2...   \n",
       "..                                                ...   \n",
       "95  Opera/9.21.(Windows NT 6.1; sl-SI) Presto/2.9....   \n",
       "96  Mozilla/5.0 (Macintosh; U; Intel Mac OS X 10_8...   \n",
       "97  Mozilla/5.0 (X11; Linux x86_64; rv:1.9.7.20) G...   \n",
       "98  Mozilla/5.0 (compatible; MSIE 7.0; Windows NT ...   \n",
       "99  Mozilla/5.0 (compatible; MSIE 5.0; Windows NT ...   \n",
       "\n",
       "                            Company       Credit Card CC Exp Date  \\\n",
       "0                   Martinez-Herman  6011929061123406       02/20   \n",
       "1   Fletcher, Richards and Whitaker  3337758169645356       11/18   \n",
       "2        Simpson, Williams and Pham      675957666125       08/19   \n",
       "3   Williams, Marshall and Buchanan  6011578504430710       02/24   \n",
       "4         Brown, Watson and Andrews  6011456623207998       10/25   \n",
       "..                              ...               ...         ...   \n",
       "95                       Moore-Hall  3088798824982514       04/18   \n",
       "96                       Knight LLC       60498172646       09/25   \n",
       "97       Parker, Nelson and Delgado  3528362130154694       02/25   \n",
       "98                      Simpson Inc   376660848256225       08/23   \n",
       "99     Harper, Patrick and Richards     4913535442412       07/22   \n",
       "\n",
       "    CC Security Code                  CC Provider  \\\n",
       "0                900                 JCB 16 digit   \n",
       "1                561                   Mastercard   \n",
       "2                699                 JCB 16 digit   \n",
       "3                384                     Discover   \n",
       "4                678  Diners Club / Carte Blanche   \n",
       "..               ...                          ...   \n",
       "95               928                 JCB 16 digit   \n",
       "96               600                      Voyager   \n",
       "97               366                   Mastercard   \n",
       "98               215             American Express   \n",
       "99               548             American Express   \n",
       "\n",
       "                             Email                                     Job  \\\n",
       "0                pdunlap@yahoo.com  Scientist, product/process development   \n",
       "1               anthony41@reed.com                       Drilling engineer   \n",
       "2   amymiller@morales-harrison.com                Customer service manager   \n",
       "3      brent16@olson-robinson.info                       Drilling engineer   \n",
       "4      christopherwright@gmail.com                             Fine artist   \n",
       "..                             ...                                     ...   \n",
       "95      arellanopatrick@thomas.net                                  Dealer   \n",
       "96              mannlisa@yahoo.com                            Town planner   \n",
       "97       crawfordwilliam@yahoo.com                   Travel agency manager   \n",
       "98     jeanetteburgess@hotmail.com                         Engineer, water   \n",
       "99         amandastewart@gmail.com              Lecturer, higher education   \n",
       "\n",
       "         IP Address Language  Purchase Price        Cost  \n",
       "0   149.146.147.205       el           98.14      costly  \n",
       "1      15.160.41.51       fr           70.73      costly  \n",
       "2    132.207.160.22       de            0.95  Affordable  \n",
       "3      30.250.74.19       es           78.04      costly  \n",
       "4      24.140.33.94       es           77.82      costly  \n",
       "..              ...      ...             ...         ...  \n",
       "95      59.216.3.55       fr           19.56  Affordable  \n",
       "96    200.220.84.25       fr           77.51      costly  \n",
       "97  126.124.175.181       ru           17.20  Affordable  \n",
       "98   177.234.46.245       fr           38.75      costly  \n",
       "99  136.255.248.130       fr           50.60      costly  \n",
       "\n",
       "[100 rows x 15 columns]"
      ]
     },
     "execution_count": 195,
     "metadata": {},
     "output_type": "execute_result"
    }
   ],
   "source": [
    "# Adding New Column:\n",
    "ecom[\"Cost\"]= ecom[\"Purchase Price\"].apply(lambda x:\"costly\" if x>=25 else 'Affordable')\n",
    "ecom.head(100)"
   ]
  },
  {
   "cell_type": "markdown",
   "id": "270a3ed3",
   "metadata": {},
   "source": [
    "# Data Visualisation"
   ]
  },
  {
   "cell_type": "code",
   "execution_count": 196,
   "id": "a67efc68",
   "metadata": {},
   "outputs": [],
   "source": [
    "import seaborn as sns"
   ]
  },
  {
   "cell_type": "code",
   "execution_count": 198,
   "id": "e70d01bf",
   "metadata": {},
   "outputs": [
    {
     "name": "stdout",
     "output_type": "stream",
     "text": [
      "['anagrams', 'anscombe', 'attention', 'brain_networks', 'car_crashes', 'diamonds', 'dots', 'exercise', 'flights', 'fmri', 'geyser', 'iris', 'mpg', 'penguins', 'planets', 'taxis', 'tips', 'titanic']\n"
     ]
    }
   ],
   "source": [
    "print(sns.get_dataset_names()) "
   ]
  },
  {
   "cell_type": "code",
   "execution_count": 199,
   "id": "774b1de2",
   "metadata": {},
   "outputs": [
    {
     "data": {
      "text/html": [
       "<div>\n",
       "<style scoped>\n",
       "    .dataframe tbody tr th:only-of-type {\n",
       "        vertical-align: middle;\n",
       "    }\n",
       "\n",
       "    .dataframe tbody tr th {\n",
       "        vertical-align: top;\n",
       "    }\n",
       "\n",
       "    .dataframe thead th {\n",
       "        text-align: right;\n",
       "    }\n",
       "</style>\n",
       "<table border=\"1\" class=\"dataframe\">\n",
       "  <thead>\n",
       "    <tr style=\"text-align: right;\">\n",
       "      <th></th>\n",
       "      <th>species</th>\n",
       "      <th>island</th>\n",
       "      <th>bill_length_mm</th>\n",
       "      <th>bill_depth_mm</th>\n",
       "      <th>flipper_length_mm</th>\n",
       "      <th>body_mass_g</th>\n",
       "      <th>sex</th>\n",
       "    </tr>\n",
       "  </thead>\n",
       "  <tbody>\n",
       "    <tr>\n",
       "      <th>0</th>\n",
       "      <td>Adelie</td>\n",
       "      <td>Torgersen</td>\n",
       "      <td>39.1</td>\n",
       "      <td>18.7</td>\n",
       "      <td>181.0</td>\n",
       "      <td>3750.0</td>\n",
       "      <td>Male</td>\n",
       "    </tr>\n",
       "    <tr>\n",
       "      <th>1</th>\n",
       "      <td>Adelie</td>\n",
       "      <td>Torgersen</td>\n",
       "      <td>39.5</td>\n",
       "      <td>17.4</td>\n",
       "      <td>186.0</td>\n",
       "      <td>3800.0</td>\n",
       "      <td>Female</td>\n",
       "    </tr>\n",
       "    <tr>\n",
       "      <th>2</th>\n",
       "      <td>Adelie</td>\n",
       "      <td>Torgersen</td>\n",
       "      <td>40.3</td>\n",
       "      <td>18.0</td>\n",
       "      <td>195.0</td>\n",
       "      <td>3250.0</td>\n",
       "      <td>Female</td>\n",
       "    </tr>\n",
       "    <tr>\n",
       "      <th>3</th>\n",
       "      <td>Adelie</td>\n",
       "      <td>Torgersen</td>\n",
       "      <td>NaN</td>\n",
       "      <td>NaN</td>\n",
       "      <td>NaN</td>\n",
       "      <td>NaN</td>\n",
       "      <td>NaN</td>\n",
       "    </tr>\n",
       "    <tr>\n",
       "      <th>4</th>\n",
       "      <td>Adelie</td>\n",
       "      <td>Torgersen</td>\n",
       "      <td>36.7</td>\n",
       "      <td>19.3</td>\n",
       "      <td>193.0</td>\n",
       "      <td>3450.0</td>\n",
       "      <td>Female</td>\n",
       "    </tr>\n",
       "    <tr>\n",
       "      <th>5</th>\n",
       "      <td>Adelie</td>\n",
       "      <td>Torgersen</td>\n",
       "      <td>39.3</td>\n",
       "      <td>20.6</td>\n",
       "      <td>190.0</td>\n",
       "      <td>3650.0</td>\n",
       "      <td>Male</td>\n",
       "    </tr>\n",
       "    <tr>\n",
       "      <th>6</th>\n",
       "      <td>Adelie</td>\n",
       "      <td>Torgersen</td>\n",
       "      <td>38.9</td>\n",
       "      <td>17.8</td>\n",
       "      <td>181.0</td>\n",
       "      <td>3625.0</td>\n",
       "      <td>Female</td>\n",
       "    </tr>\n",
       "    <tr>\n",
       "      <th>7</th>\n",
       "      <td>Adelie</td>\n",
       "      <td>Torgersen</td>\n",
       "      <td>39.2</td>\n",
       "      <td>19.6</td>\n",
       "      <td>195.0</td>\n",
       "      <td>4675.0</td>\n",
       "      <td>Male</td>\n",
       "    </tr>\n",
       "    <tr>\n",
       "      <th>8</th>\n",
       "      <td>Adelie</td>\n",
       "      <td>Torgersen</td>\n",
       "      <td>34.1</td>\n",
       "      <td>18.1</td>\n",
       "      <td>193.0</td>\n",
       "      <td>3475.0</td>\n",
       "      <td>NaN</td>\n",
       "    </tr>\n",
       "    <tr>\n",
       "      <th>9</th>\n",
       "      <td>Adelie</td>\n",
       "      <td>Torgersen</td>\n",
       "      <td>42.0</td>\n",
       "      <td>20.2</td>\n",
       "      <td>190.0</td>\n",
       "      <td>4250.0</td>\n",
       "      <td>NaN</td>\n",
       "    </tr>\n",
       "  </tbody>\n",
       "</table>\n",
       "</div>"
      ],
      "text/plain": [
       "  species     island  bill_length_mm  bill_depth_mm  flipper_length_mm  \\\n",
       "0  Adelie  Torgersen            39.1           18.7              181.0   \n",
       "1  Adelie  Torgersen            39.5           17.4              186.0   \n",
       "2  Adelie  Torgersen            40.3           18.0              195.0   \n",
       "3  Adelie  Torgersen             NaN            NaN                NaN   \n",
       "4  Adelie  Torgersen            36.7           19.3              193.0   \n",
       "5  Adelie  Torgersen            39.3           20.6              190.0   \n",
       "6  Adelie  Torgersen            38.9           17.8              181.0   \n",
       "7  Adelie  Torgersen            39.2           19.6              195.0   \n",
       "8  Adelie  Torgersen            34.1           18.1              193.0   \n",
       "9  Adelie  Torgersen            42.0           20.2              190.0   \n",
       "\n",
       "   body_mass_g     sex  \n",
       "0       3750.0    Male  \n",
       "1       3800.0  Female  \n",
       "2       3250.0  Female  \n",
       "3          NaN     NaN  \n",
       "4       3450.0  Female  \n",
       "5       3650.0    Male  \n",
       "6       3625.0  Female  \n",
       "7       4675.0    Male  \n",
       "8       3475.0     NaN  \n",
       "9       4250.0     NaN  "
      ]
     },
     "execution_count": 199,
     "metadata": {},
     "output_type": "execute_result"
    }
   ],
   "source": [
    "tab= sns.load_dataset('penguins')\n",
    "tab.head(10)"
   ]
  },
  {
   "cell_type": "code",
   "execution_count": 202,
   "id": "978f6785",
   "metadata": {},
   "outputs": [
    {
     "data": {
      "text/plain": [
       "<AxesSubplot:xlabel='species', ylabel='flipper_length_mm'>"
      ]
     },
     "execution_count": 202,
     "metadata": {},
     "output_type": "execute_result"
    },
    {
     "data": {
      "image/png": "[encoded data removed]",
      "text/plain": [
       "<Figure size 432x288 with 1 Axes>"
      ]
     },
     "metadata": {
      "needs_background": "light"
     },
     "output_type": "display_data"
    }
   ],
   "source": [
    "sns.pointplot(x='species',y='flipper_length_mm',data=tab)"
   ]
  },
  {
   "cell_type": "markdown",
   "id": "e9e9bf1f",
   "metadata": {},
   "source": [
    "# Count Plot\n"
   ]
  },
  {
   "cell_type": "code",
   "execution_count": 204,
   "id": "2514359d",
   "metadata": {},
   "outputs": [
    {
     "data": {
      "text/plain": [
       "<AxesSubplot:xlabel='count', ylabel='sex'>"
      ]
     },
     "execution_count": 204,
     "metadata": {},
     "output_type": "execute_result"
    },
    {
     "data": {
      "image/png": "[encoded data removed]",
      "text/plain": [
       "<Figure size 432x288 with 1 Axes>"
      ]
     },
     "metadata": {
      "needs_background": "light"
     },
     "output_type": "display_data"
    }
   ],
   "source": [
    "sns.countplot(y='sex',data=tab)"
   ]
  },
  {
   "cell_type": "code",
   "execution_count": 205,
   "id": "10a01c71",
   "metadata": {},
   "outputs": [
    {
     "data": {
      "text/plain": [
       "<AxesSubplot:xlabel='sex', ylabel='count'>"
      ]
     },
     "execution_count": 205,
     "metadata": {},
     "output_type": "execute_result"
    },
    {
     "data": {
      "image/png": "[encoded data removed]",
      "text/plain": [
       "<Figure size 432x288 with 1 Axes>"
      ]
     },
     "metadata": {
      "needs_background": "light"
     },
     "output_type": "display_data"
    }
   ],
   "source": [
    "sns.countplot(x='sex',data=tab)"
   ]
  },
  {
   "cell_type": "code",
   "execution_count": 208,
   "id": "93dc370d",
   "metadata": {},
   "outputs": [
    {
     "data": {
      "text/plain": [
       "<AxesSubplot:xlabel='sex', ylabel='body_mass_g'>"
      ]
     },
     "execution_count": 208,
     "metadata": {},
     "output_type": "execute_result"
    },
    {
     "data": {
      "image/png": "[encoded data removed]",
      "text/plain": [
       "<Figure size 432x288 with 1 Axes>"
      ]
     },
     "metadata": {
      "needs_background": "light"
     },
     "output_type": "display_data"
    }
   ],
   "source": [
    "sns.barplot(x='sex', y='body_mass_g',data=tab)"
   ]
  },
  {
   "cell_type": "code",
   "execution_count": 214,
   "id": "6c11e2c1",
   "metadata": {},
   "outputs": [
    {
     "data": {
      "text/plain": [
       "<AxesSubplot:xlabel='island', ylabel='bill_length_mm'>"
      ]
     },
     "execution_count": 214,
     "metadata": {},
     "output_type": "execute_result"
    },
    {
     "data": {
      "image/png": "[encoded data removed]",
      "text/plain": [
       "<Figure size 432x288 with 1 Axes>"
      ]
     },
     "metadata": {
      "needs_background": "light"
     },
     "output_type": "display_data"
    }
   ],
   "source": [
    "sns.boxplot(x='island',y='bill_length_mm',data=tab,palette='rainbow')\n",
    "# Palette is optional"
   ]
  },
  {
   "cell_type": "code",
   "execution_count": 216,
   "id": "5adf86b2",
   "metadata": {},
   "outputs": [
    {
     "data": {
      "text/plain": [
       "<seaborn.axisgrid.JointGrid at 0x22636013760>"
      ]
     },
     "execution_count": 216,
     "metadata": {},
     "output_type": "execute_result"
    },
    {
     "data": {
      "image/png": "[encoded data removed]",
      "text/plain": [
       "<Figure size 432x432 with 3 Axes>"
      ]
     },
     "metadata": {
      "needs_background": "light"
     },
     "output_type": "display_data"
    }
   ],
   "source": [
    "sns.jointplot(x='flipper_length_mm',y='body_mass_g',data=tab,dropna=True)"
   ]
  },
  {
   "cell_type": "code",
   "execution_count": 217,
   "id": "e6084884",
   "metadata": {},
   "outputs": [
    {
     "name": "stderr",
     "output_type": "stream",
     "text": [
      "C:\\Users\\Public\\anaconda3\\lib\\site-packages\\seaborn\\distributions.py:2619: FutureWarning: `distplot` is a deprecated function and will be removed in a future version. Please adapt your code to use either `displot` (a figure-level function with similar flexibility) or `kdeplot` (an axes-level function for kernel density plots).\n",
      "  warnings.warn(msg, FutureWarning)\n"
     ]
    },
    {
     "data": {
      "text/plain": [
       "<AxesSubplot:xlabel='bill_length_mm', ylabel='Density'>"
      ]
     },
     "execution_count": 217,
     "metadata": {},
     "output_type": "execute_result"
    },
    {
     "data": {
      "image/png": "[encoded data removed]",
      "text/plain": [
       "<Figure size 432x288 with 1 Axes>"
      ]
     },
     "metadata": {
      "needs_background": "light"
     },
     "output_type": "display_data"
    }
   ],
   "source": [
    "sns.distplot(tab['bill_length_mm'],hist=False)"
   ]
  },
  {
   "cell_type": "code",
   "execution_count": 218,
   "id": "9bee4fde",
   "metadata": {},
   "outputs": [
    {
     "name": "stderr",
     "output_type": "stream",
     "text": [
      "C:\\Users\\Public\\anaconda3\\lib\\site-packages\\seaborn\\distributions.py:2619: FutureWarning: `distplot` is a deprecated function and will be removed in a future version. Please adapt your code to use either `displot` (a figure-level function with similar flexibility) or `histplot` (an axes-level function for histograms).\n",
      "  warnings.warn(msg, FutureWarning)\n"
     ]
    },
    {
     "data": {
      "text/plain": [
       "<AxesSubplot:xlabel='bill_length_mm', ylabel='Density'>"
      ]
     },
     "execution_count": 218,
     "metadata": {},
     "output_type": "execute_result"
    },
    {
     "data": {
      "image/png": "[encoded data removed]",
      "text/plain": [
       "<Figure size 432x288 with 1 Axes>"
      ]
     },
     "metadata": {
      "needs_background": "light"
     },
     "output_type": "display_data"
    }
   ],
   "source": [
    "sns.distplot(tab['bill_length_mm'],hist=True)"
   ]
  },
  {
   "cell_type": "code",
   "execution_count": 219,
   "id": "f3aa6b41",
   "metadata": {},
   "outputs": [
    {
     "data": {
      "text/html": [
       "<div>\n",
       "<style scoped>\n",
       "    .dataframe tbody tr th:only-of-type {\n",
       "        vertical-align: middle;\n",
       "    }\n",
       "\n",
       "    .dataframe tbody tr th {\n",
       "        vertical-align: top;\n",
       "    }\n",
       "\n",
       "    .dataframe thead th {\n",
       "        text-align: right;\n",
       "    }\n",
       "</style>\n",
       "<table border=\"1\" class=\"dataframe\">\n",
       "  <thead>\n",
       "    <tr style=\"text-align: right;\">\n",
       "      <th></th>\n",
       "      <th>bill_length_mm</th>\n",
       "      <th>bill_depth_mm</th>\n",
       "      <th>flipper_length_mm</th>\n",
       "      <th>body_mass_g</th>\n",
       "    </tr>\n",
       "  </thead>\n",
       "  <tbody>\n",
       "    <tr>\n",
       "      <th>bill_length_mm</th>\n",
       "      <td>1.000000</td>\n",
       "      <td>-0.235053</td>\n",
       "      <td>0.656181</td>\n",
       "      <td>0.595110</td>\n",
       "    </tr>\n",
       "    <tr>\n",
       "      <th>bill_depth_mm</th>\n",
       "      <td>-0.235053</td>\n",
       "      <td>1.000000</td>\n",
       "      <td>-0.583851</td>\n",
       "      <td>-0.471916</td>\n",
       "    </tr>\n",
       "    <tr>\n",
       "      <th>flipper_length_mm</th>\n",
       "      <td>0.656181</td>\n",
       "      <td>-0.583851</td>\n",
       "      <td>1.000000</td>\n",
       "      <td>0.871202</td>\n",
       "    </tr>\n",
       "    <tr>\n",
       "      <th>body_mass_g</th>\n",
       "      <td>0.595110</td>\n",
       "      <td>-0.471916</td>\n",
       "      <td>0.871202</td>\n",
       "      <td>1.000000</td>\n",
       "    </tr>\n",
       "  </tbody>\n",
       "</table>\n",
       "</div>"
      ],
      "text/plain": [
       "                   bill_length_mm  bill_depth_mm  flipper_length_mm  \\\n",
       "bill_length_mm           1.000000      -0.235053           0.656181   \n",
       "bill_depth_mm           -0.235053       1.000000          -0.583851   \n",
       "flipper_length_mm        0.656181      -0.583851           1.000000   \n",
       "body_mass_g              0.595110      -0.471916           0.871202   \n",
       "\n",
       "                   body_mass_g  \n",
       "bill_length_mm        0.595110  \n",
       "bill_depth_mm        -0.471916  \n",
       "flipper_length_mm     0.871202  \n",
       "body_mass_g           1.000000  "
      ]
     },
     "execution_count": 219,
     "metadata": {},
     "output_type": "execute_result"
    }
   ],
   "source": [
    "tab.corr()"
   ]
  },
  {
   "cell_type": "code",
   "execution_count": 220,
   "id": "df7de095",
   "metadata": {},
   "outputs": [
    {
     "data": {
      "text/plain": [
       "<AxesSubplot:>"
      ]
     },
     "execution_count": 220,
     "metadata": {},
     "output_type": "execute_result"
    },
    {
     "data": {
      "image/png": "[encoded data removed]",
      "text/plain": [
       "<Figure size 432x288 with 2 Axes>"
      ]
     },
     "metadata": {
      "needs_background": "light"
     },
     "output_type": "display_data"
    }
   ],
   "source": [
    "sns.heatmap(tab.corr(),annot=True)"
   ]
  },
  {
   "cell_type": "code",
   "execution_count": 221,
   "id": "54088127",
   "metadata": {},
   "outputs": [
    {
     "data": {
      "text/plain": [
       "<AxesSubplot:>"
      ]
     },
     "execution_count": 221,
     "metadata": {},
     "output_type": "execute_result"
    },
    {
     "data": {
      "image/png": "[encoded data removed]",
      "text/plain": [
       "<Figure size 432x288 with 2 Axes>"
      ]
     },
     "metadata": {
      "needs_background": "light"
     },
     "output_type": "display_data"
    }
   ],
   "source": [
    "sns.heatmap(tab.corr())"
   ]
  },
  {
   "cell_type": "code",
   "execution_count": 240,
   "id": "187d7270",
   "metadata": {},
   "outputs": [
    {
     "data": {
      "image/png": "[encoded data removed]",
      "text/plain": [
       "<Figure size 432x288 with 1 Axes>"
      ]
     },
     "metadata": {
      "needs_background": "light"
     },
     "output_type": "display_data"
    }
   ],
   "source": [
    "from matplotlib import pyplot as plt \n",
    "import  numpy as np\n",
    "# Legend Plot\n",
    "x1=[1,5,8,3]\n",
    "x2=[2,1,6,7]\n",
    "y1=[4,5,1,3]\n",
    "y2=[2,0,8,5]\n",
    "plt.plot(x1,x2,'r:*',markerfacecolor='blue',markeredgecolor='blue',label='first')\n",
    "plt.plot(y1,y2,'g-*',markerfacecolor='yellow',markeredgecolor='yellow',label='second')\n",
    "plt.title(\"legend\")\n",
    "plt.xlabel(\"x-axis\")\n",
    "plt.ylabel('y-axis')\n",
    "plt.legend()\n",
    "plt.show()"
   ]
  },
  {
   "cell_type": "code",
   "execution_count": 249,
   "id": "baca025d",
   "metadata": {},
   "outputs": [
    {
     "data": {
      "image/png": "[encoded data removed]",
      "text/plain": [
       "<Figure size 432x288 with 1 Axes>"
      ]
     },
     "metadata": {},
     "output_type": "display_data"
    }
   ],
   "source": [
    "import matplotlib.pyplot as plt\n",
    "cat=['Action','Drama',\"Thriller\",'Comedy']\n",
    "vote=[3,4,8,7]\n",
    "plt.pie(vote)\n",
    "plt.show()"
   ]
  },
  {
   "cell_type": "code",
   "execution_count": 250,
   "id": "69a1cc94",
   "metadata": {},
   "outputs": [
    {
     "data": {
      "image/png": "[encoded data removed]",
      "text/plain": [
       "<Figure size 432x288 with 1 Axes>"
      ]
     },
     "metadata": {},
     "output_type": "display_data"
    }
   ],
   "source": [
    "plt.title(\"Movie Scorecard\")\n",
    "plt.pie(vote,labels=cat,labeldistance=1.1)\n",
    "plt.legend(loc=4)\n",
    "plt.show()"
   ]
  },
  {
   "cell_type": "code",
   "execution_count": 252,
   "id": "decd0250",
   "metadata": {},
   "outputs": [
    {
     "data": {
      "image/png": "[encoded data removed]",
      "text/plain": [
       "<Figure size 432x288 with 1 Axes>"
      ]
     },
     "metadata": {},
     "output_type": "display_data"
    }
   ],
   "source": [
    "plt.title(\"Movie Scorecard\")\n",
    "plt.pie(vote,labels=cat,labeldistance=1.1)\n",
    "plt.legend()\n",
    "plt.show()"
   ]
  },
  {
   "cell_type": "code",
   "execution_count": 253,
   "id": "07c924fa",
   "metadata": {},
   "outputs": [
    {
     "data": {
      "image/png": "[encoded data removed]",
      "text/plain": [
       "<Figure size 432x288 with 1 Axes>"
      ]
     },
     "metadata": {},
     "output_type": "display_data"
    }
   ],
   "source": [
    "# Pulling Out Wedges:\n",
    "plt.pie(vote,labels=cat,labeldistance=1.1,explode=[0,0.1,0.0,0.1])\n",
    "plt.show()"
   ]
  },
  {
   "cell_type": "code",
   "execution_count": 255,
   "id": "dbd9e144",
   "metadata": {},
   "outputs": [
    {
     "data": {
      "image/png": "[encoded data removed]",
      "text/plain": [
       "<Figure size 432x288 with 1 Axes>"
      ]
     },
     "metadata": {},
     "output_type": "display_data"
    }
   ],
   "source": [
    "plt.pie(vote,labels=cat,labeldistance=1.1,explode=[0,0.0,0.0,0.1])\n",
    "plt.show()\n",
    "# labeldistance will decide the distance from the center"
   ]
  },
  {
   "cell_type": "code",
   "execution_count": 257,
   "id": "dfe2ea2a",
   "metadata": {},
   "outputs": [
    {
     "data": {
      "image/png": "[encoded data removed]",
      "text/plain": [
       "<Figure size 432x288 with 1 Axes>"
      ]
     },
     "metadata": {},
     "output_type": "display_data"
    }
   ],
   "source": [
    "plt.pie(vote,labels=cat,labeldistance=1.1, startangle=90,explode=[0,0.0,0.0,0.1])\n",
    "plt.show()\n",
    "# labeldistance will decide the distance from the center\n",
    "# StartAngle is the measure from the Beginning:"
   ]
  },
  {
   "cell_type": "code",
   "execution_count": 265,
   "id": "e957a29c",
   "metadata": {},
   "outputs": [
    {
     "data": {
      "image/png": "[encoded data removed]",
      "text/plain": [
       "<Figure size 432x288 with 1 Axes>"
      ]
     },
     "metadata": {},
     "output_type": "display_data"
    }
   ],
   "source": [
    "plt.pie(vote,labels=cat,labeldistance=1.1, startangle=90,colors=['red','g','b','y'],shadow=True,autopct='%0.2f%%',pctdistance=0.5)\n",
    "plt.show()"
   ]
  },
  {
   "cell_type": "code",
   "execution_count": 266,
   "id": "83f5c42c",
   "metadata": {},
   "outputs": [
    {
     "data": {
      "image/png": "[encoded data removed]",
      "text/plain": [
       "<Figure size 432x288 with 1 Axes>"
      ]
     },
     "metadata": {},
     "output_type": "display_data"
    }
   ],
   "source": [
    "plt.pie(vote,labels=cat,labeldistance=1.1, startangle=90,colors=['red','g','b','y'],shadow=True,autopct='%0.2f%%',pctdistance=0.5,radius=1.3)\n",
    "plt.show()"
   ]
  },
  {
   "cell_type": "code",
   "execution_count": null,
   "id": "1359dc28",
   "metadata": {},
   "outputs": [],
   "source": []
  },
  {
   "cell_type": "code",
   "execution_count": null,
   "id": "8381a01b",
   "metadata": {},
   "outputs": [],
   "source": []
  }
 ],
 "metadata": {
  "kernelspec": {
   "display_name": "Python 3 (ipykernel)",
   "language": "python",
   "name": "python3"
  },
  "language_info": {
   "codemirror_mode": {
    "name": "ipython",
    "version": 3
   },
   "file_extension": ".py",
   "mimetype": "text/x-python",
   "name": "python",
   "nbconvert_exporter": "python",
   "pygments_lexer": "ipython3",
   "version": "3.9.7"
  }
 },
 "nbformat": 4,
 "nbformat_minor": 5
}
