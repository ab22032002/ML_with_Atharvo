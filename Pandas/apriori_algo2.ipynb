{
 "cells": [
  {
   "cell_type": "code",
   "execution_count": 1,
   "id": "458ba8bd",
   "metadata": {},
   "outputs": [],
   "source": [
    "import numpy as np \n",
    "import pandas as pd\n",
    "import seaborn as sns\n",
    "from matplotlib import pyplot as plt"
   ]
  },
  {
   "cell_type": "code",
   "execution_count": 2,
   "id": "998fe179",
   "metadata": {},
   "outputs": [
    {
     "data": {
      "text/html": [
       "<div>\n",
       "<style scoped>\n",
       "    .dataframe tbody tr th:only-of-type {\n",
       "        vertical-align: middle;\n",
       "    }\n",
       "\n",
       "    .dataframe tbody tr th {\n",
       "        vertical-align: top;\n",
       "    }\n",
       "\n",
       "    .dataframe thead th {\n",
       "        text-align: right;\n",
       "    }\n",
       "</style>\n",
       "<table border=\"1\" class=\"dataframe\">\n",
       "  <thead>\n",
       "    <tr style=\"text-align: right;\">\n",
       "      <th></th>\n",
       "      <th>Member_number</th>\n",
       "      <th>Date</th>\n",
       "      <th>itemDescription</th>\n",
       "    </tr>\n",
       "  </thead>\n",
       "  <tbody>\n",
       "    <tr>\n",
       "      <th>0</th>\n",
       "      <td>1808</td>\n",
       "      <td>21-07-2015</td>\n",
       "      <td>tropical fruit</td>\n",
       "    </tr>\n",
       "    <tr>\n",
       "      <th>1</th>\n",
       "      <td>2552</td>\n",
       "      <td>05-01-2015</td>\n",
       "      <td>whole milk</td>\n",
       "    </tr>\n",
       "    <tr>\n",
       "      <th>2</th>\n",
       "      <td>2300</td>\n",
       "      <td>19-09-2015</td>\n",
       "      <td>pip fruit</td>\n",
       "    </tr>\n",
       "    <tr>\n",
       "      <th>3</th>\n",
       "      <td>1187</td>\n",
       "      <td>12-12-2015</td>\n",
       "      <td>other vegetables</td>\n",
       "    </tr>\n",
       "    <tr>\n",
       "      <th>4</th>\n",
       "      <td>3037</td>\n",
       "      <td>01-02-2015</td>\n",
       "      <td>whole milk</td>\n",
       "    </tr>\n",
       "    <tr>\n",
       "      <th>...</th>\n",
       "      <td>...</td>\n",
       "      <td>...</td>\n",
       "      <td>...</td>\n",
       "    </tr>\n",
       "    <tr>\n",
       "      <th>38760</th>\n",
       "      <td>4471</td>\n",
       "      <td>08-10-2014</td>\n",
       "      <td>sliced cheese</td>\n",
       "    </tr>\n",
       "    <tr>\n",
       "      <th>38761</th>\n",
       "      <td>2022</td>\n",
       "      <td>23-02-2014</td>\n",
       "      <td>candy</td>\n",
       "    </tr>\n",
       "    <tr>\n",
       "      <th>38762</th>\n",
       "      <td>1097</td>\n",
       "      <td>16-04-2014</td>\n",
       "      <td>cake bar</td>\n",
       "    </tr>\n",
       "    <tr>\n",
       "      <th>38763</th>\n",
       "      <td>1510</td>\n",
       "      <td>03-12-2014</td>\n",
       "      <td>fruit/vegetable juice</td>\n",
       "    </tr>\n",
       "    <tr>\n",
       "      <th>38764</th>\n",
       "      <td>1521</td>\n",
       "      <td>26-12-2014</td>\n",
       "      <td>cat food</td>\n",
       "    </tr>\n",
       "  </tbody>\n",
       "</table>\n",
       "<p>38765 rows × 3 columns</p>\n",
       "</div>"
      ],
      "text/plain": [
       "       Member_number        Date        itemDescription\n",
       "0               1808  21-07-2015         tropical fruit\n",
       "1               2552  05-01-2015             whole milk\n",
       "2               2300  19-09-2015              pip fruit\n",
       "3               1187  12-12-2015       other vegetables\n",
       "4               3037  01-02-2015             whole milk\n",
       "...              ...         ...                    ...\n",
       "38760           4471  08-10-2014          sliced cheese\n",
       "38761           2022  23-02-2014                  candy\n",
       "38762           1097  16-04-2014               cake bar\n",
       "38763           1510  03-12-2014  fruit/vegetable juice\n",
       "38764           1521  26-12-2014               cat food\n",
       "\n",
       "[38765 rows x 3 columns]"
      ]
     },
     "execution_count": 2,
     "metadata": {},
     "output_type": "execute_result"
    }
   ],
   "source": [
    "gro = pd.read_csv('../Datasets/Groceries_dataset.csv')\n",
    "gro"
   ]
  },
  {
   "cell_type": "code",
   "execution_count": 3,
   "id": "87dc67dd",
   "metadata": {},
   "outputs": [
    {
     "name": "stdout",
     "output_type": "stream",
     "text": [
      "Date From 01-01-2014 to 31-10-2015\n"
     ]
    }
   ],
   "source": [
    "print(\"Date From\",gro.Date.min(),'to',gro.Date.max())"
   ]
  },
  {
   "cell_type": "code",
   "execution_count": 11,
   "id": "2408ddc9",
   "metadata": {},
   "outputs": [
    {
     "data": {
      "text/plain": [
       "0        21-07-2015\n",
       "1        05-01-2015\n",
       "2        19-09-2015\n",
       "3        12-12-2015\n",
       "4        01-02-2015\n",
       "            ...    \n",
       "38760    08-10-2014\n",
       "38761    23-02-2014\n",
       "38762    16-04-2014\n",
       "38763    03-12-2014\n",
       "38764    26-12-2014\n",
       "Name: Date, Length: 38765, dtype: object"
      ]
     },
     "execution_count": 11,
     "metadata": {},
     "output_type": "execute_result"
    }
   ],
   "source": [
    "gro['Date']"
   ]
  },
  {
   "cell_type": "code",
   "execution_count": 12,
   "id": "3ec453a7",
   "metadata": {},
   "outputs": [
    {
     "data": {
      "text/plain": [
       "dtype('O')"
      ]
     },
     "execution_count": 12,
     "metadata": {},
     "output_type": "execute_result"
    }
   ],
   "source": [
    "gro.Date.dtypes"
   ]
  },
  {
   "cell_type": "code",
   "execution_count": 14,
   "id": "1cc1a24a",
   "metadata": {},
   "outputs": [
    {
     "data": {
      "text/plain": [
       "0       2015-07-21\n",
       "1       2015-05-01\n",
       "2       2015-09-19\n",
       "3       2015-12-12\n",
       "4       2015-01-02\n",
       "           ...    \n",
       "38760   2014-08-10\n",
       "38761   2014-02-23\n",
       "38762   2014-04-16\n",
       "38763   2014-03-12\n",
       "38764   2014-12-26\n",
       "Name: Date, Length: 38765, dtype: datetime64[ns]"
      ]
     },
     "execution_count": 14,
     "metadata": {},
     "output_type": "execute_result"
    }
   ],
   "source": [
    "gro['Date']=pd.to_datetime(gro['Date'])\n",
    "gro.Date"
   ]
  },
  {
   "cell_type": "code",
   "execution_count": 15,
   "id": "d4f0f311",
   "metadata": {},
   "outputs": [
    {
     "data": {
      "text/plain": [
       "dtype('<M8[ns]')"
      ]
     },
     "execution_count": 15,
     "metadata": {},
     "output_type": "execute_result"
    }
   ],
   "source": [
    "gro.Date.dtypes"
   ]
  },
  {
   "cell_type": "code",
   "execution_count": 16,
   "id": "76560230",
   "metadata": {},
   "outputs": [
    {
     "data": {
      "text/plain": [
       "0        2015\n",
       "1        2015\n",
       "2        2015\n",
       "3        2015\n",
       "4        2015\n",
       "         ... \n",
       "38760    2014\n",
       "38761    2014\n",
       "38762    2014\n",
       "38763    2014\n",
       "38764    2014\n",
       "Name: Date, Length: 38765, dtype: int64"
      ]
     },
     "execution_count": 16,
     "metadata": {},
     "output_type": "execute_result"
    }
   ],
   "source": [
    "gro.Date.dt.year"
   ]
  },
  {
   "cell_type": "code",
   "execution_count": 18,
   "id": "1e25169d",
   "metadata": {},
   "outputs": [
    {
     "data": {
      "text/plain": [
       "0        2015\n",
       "1        2015\n",
       "2        2015\n",
       "3        2015\n",
       "4        2015\n",
       "         ... \n",
       "38760    2014\n",
       "38761    2014\n",
       "38762    2014\n",
       "38763    2014\n",
       "38764    2014\n",
       "Name: year, Length: 38765, dtype: int64"
      ]
     },
     "execution_count": 18,
     "metadata": {},
     "output_type": "execute_result"
    }
   ],
   "source": [
    "gro['year']=gro.Date.dt.year\n",
    "gro.year"
   ]
  },
  {
   "cell_type": "code",
   "execution_count": 20,
   "id": "195f8d91",
   "metadata": {},
   "outputs": [
    {
     "data": {
      "text/plain": [
       "0         7\n",
       "1         5\n",
       "2         9\n",
       "3        12\n",
       "4         1\n",
       "         ..\n",
       "38760     8\n",
       "38761     2\n",
       "38762     4\n",
       "38763     3\n",
       "38764    12\n",
       "Name: month, Length: 38765, dtype: int64"
      ]
     },
     "execution_count": 20,
     "metadata": {},
     "output_type": "execute_result"
    }
   ],
   "source": [
    "gro['month']=gro.Date.dt.month\n",
    "gro.month"
   ]
  },
  {
   "cell_type": "code",
   "execution_count": 21,
   "id": "facf5025",
   "metadata": {},
   "outputs": [
    {
     "data": {
      "text/plain": [
       "0        21\n",
       "1         1\n",
       "2        19\n",
       "3        12\n",
       "4         2\n",
       "         ..\n",
       "38760    10\n",
       "38761    23\n",
       "38762    16\n",
       "38763    12\n",
       "38764    26\n",
       "Name: day, Length: 38765, dtype: int64"
      ]
     },
     "execution_count": 21,
     "metadata": {},
     "output_type": "execute_result"
    }
   ],
   "source": [
    "gro['day']=gro.Date.dt.day\n",
    "gro.day"
   ]
  },
  {
   "cell_type": "code",
   "execution_count": 22,
   "id": "e74706f0",
   "metadata": {},
   "outputs": [
    {
     "data": {
      "text/plain": [
       "0          Tuesday\n",
       "1           Friday\n",
       "2         Saturday\n",
       "3         Saturday\n",
       "4           Friday\n",
       "           ...    \n",
       "38760       Sunday\n",
       "38761       Sunday\n",
       "38762    Wednesday\n",
       "38763    Wednesday\n",
       "38764       Friday\n",
       "Name: day name, Length: 38765, dtype: object"
      ]
     },
     "execution_count": 22,
     "metadata": {},
     "output_type": "execute_result"
    }
   ],
   "source": [
    "gro['day name']=gro.Date.dt.day_name()\n",
    "gro['day name']"
   ]
  },
  {
   "cell_type": "code",
   "execution_count": 24,
   "id": "83bddd0f",
   "metadata": {},
   "outputs": [
    {
     "data": {
      "text/html": [
       "<div>\n",
       "<style scoped>\n",
       "    .dataframe tbody tr th:only-of-type {\n",
       "        vertical-align: middle;\n",
       "    }\n",
       "\n",
       "    .dataframe tbody tr th {\n",
       "        vertical-align: top;\n",
       "    }\n",
       "\n",
       "    .dataframe thead th {\n",
       "        text-align: right;\n",
       "    }\n",
       "</style>\n",
       "<table border=\"1\" class=\"dataframe\">\n",
       "  <thead>\n",
       "    <tr style=\"text-align: right;\">\n",
       "      <th></th>\n",
       "      <th>Member_number</th>\n",
       "      <th>Date</th>\n",
       "      <th>itemDescription</th>\n",
       "      <th>year</th>\n",
       "      <th>month</th>\n",
       "      <th>day</th>\n",
       "      <th>day name</th>\n",
       "    </tr>\n",
       "  </thead>\n",
       "  <tbody>\n",
       "    <tr>\n",
       "      <th>0</th>\n",
       "      <td>1808</td>\n",
       "      <td>2015-07-21</td>\n",
       "      <td>tropical fruit</td>\n",
       "      <td>2015</td>\n",
       "      <td>7</td>\n",
       "      <td>21</td>\n",
       "      <td>Tuesday</td>\n",
       "    </tr>\n",
       "    <tr>\n",
       "      <th>1</th>\n",
       "      <td>2552</td>\n",
       "      <td>2015-05-01</td>\n",
       "      <td>whole milk</td>\n",
       "      <td>2015</td>\n",
       "      <td>5</td>\n",
       "      <td>1</td>\n",
       "      <td>Friday</td>\n",
       "    </tr>\n",
       "    <tr>\n",
       "      <th>2</th>\n",
       "      <td>2300</td>\n",
       "      <td>2015-09-19</td>\n",
       "      <td>pip fruit</td>\n",
       "      <td>2015</td>\n",
       "      <td>9</td>\n",
       "      <td>19</td>\n",
       "      <td>Saturday</td>\n",
       "    </tr>\n",
       "    <tr>\n",
       "      <th>3</th>\n",
       "      <td>1187</td>\n",
       "      <td>2015-12-12</td>\n",
       "      <td>other vegetables</td>\n",
       "      <td>2015</td>\n",
       "      <td>12</td>\n",
       "      <td>12</td>\n",
       "      <td>Saturday</td>\n",
       "    </tr>\n",
       "    <tr>\n",
       "      <th>4</th>\n",
       "      <td>3037</td>\n",
       "      <td>2015-01-02</td>\n",
       "      <td>whole milk</td>\n",
       "      <td>2015</td>\n",
       "      <td>1</td>\n",
       "      <td>2</td>\n",
       "      <td>Friday</td>\n",
       "    </tr>\n",
       "    <tr>\n",
       "      <th>5</th>\n",
       "      <td>4941</td>\n",
       "      <td>2015-02-14</td>\n",
       "      <td>rolls/buns</td>\n",
       "      <td>2015</td>\n",
       "      <td>2</td>\n",
       "      <td>14</td>\n",
       "      <td>Saturday</td>\n",
       "    </tr>\n",
       "    <tr>\n",
       "      <th>6</th>\n",
       "      <td>4501</td>\n",
       "      <td>2015-08-05</td>\n",
       "      <td>other vegetables</td>\n",
       "      <td>2015</td>\n",
       "      <td>8</td>\n",
       "      <td>5</td>\n",
       "      <td>Wednesday</td>\n",
       "    </tr>\n",
       "    <tr>\n",
       "      <th>7</th>\n",
       "      <td>3803</td>\n",
       "      <td>2015-12-23</td>\n",
       "      <td>pot plants</td>\n",
       "      <td>2015</td>\n",
       "      <td>12</td>\n",
       "      <td>23</td>\n",
       "      <td>Wednesday</td>\n",
       "    </tr>\n",
       "    <tr>\n",
       "      <th>8</th>\n",
       "      <td>2762</td>\n",
       "      <td>2015-03-20</td>\n",
       "      <td>whole milk</td>\n",
       "      <td>2015</td>\n",
       "      <td>3</td>\n",
       "      <td>20</td>\n",
       "      <td>Friday</td>\n",
       "    </tr>\n",
       "    <tr>\n",
       "      <th>9</th>\n",
       "      <td>4119</td>\n",
       "      <td>2015-12-02</td>\n",
       "      <td>tropical fruit</td>\n",
       "      <td>2015</td>\n",
       "      <td>12</td>\n",
       "      <td>2</td>\n",
       "      <td>Wednesday</td>\n",
       "    </tr>\n",
       "  </tbody>\n",
       "</table>\n",
       "</div>"
      ],
      "text/plain": [
       "   Member_number       Date   itemDescription  year  month  day   day name\n",
       "0           1808 2015-07-21    tropical fruit  2015      7   21    Tuesday\n",
       "1           2552 2015-05-01        whole milk  2015      5    1     Friday\n",
       "2           2300 2015-09-19         pip fruit  2015      9   19   Saturday\n",
       "3           1187 2015-12-12  other vegetables  2015     12   12   Saturday\n",
       "4           3037 2015-01-02        whole milk  2015      1    2     Friday\n",
       "5           4941 2015-02-14        rolls/buns  2015      2   14   Saturday\n",
       "6           4501 2015-08-05  other vegetables  2015      8    5  Wednesday\n",
       "7           3803 2015-12-23        pot plants  2015     12   23  Wednesday\n",
       "8           2762 2015-03-20        whole milk  2015      3   20     Friday\n",
       "9           4119 2015-12-02    tropical fruit  2015     12    2  Wednesday"
      ]
     },
     "execution_count": 24,
     "metadata": {},
     "output_type": "execute_result"
    }
   ],
   "source": [
    "gro.head(10)"
   ]
  },
  {
   "cell_type": "code",
   "execution_count": null,
   "id": "325516a8",
   "metadata": {},
   "outputs": [],
   "source": [
    "plt.rcparams['figure.figsize']=[17,7]\n",
    "color=plt.cm.spring_r"
   ]
  }
 ],
 "metadata": {
  "kernelspec": {
   "display_name": "Python 3 (ipykernel)",
   "language": "python",
   "name": "python3"
  },
  "language_info": {
   "codemirror_mode": {
    "name": "ipython",
    "version": 3
   },
   "file_extension": ".py",
   "mimetype": "text/x-python",
   "name": "python",
   "nbconvert_exporter": "python",
   "pygments_lexer": "ipython3",
   "version": "3.9.7"
  }
 },
 "nbformat": 4,
 "nbformat_minor": 5
}
