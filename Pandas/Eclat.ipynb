{
 "cells": [
  {
   "cell_type": "code",
   "execution_count": 1,
   "id": "5a51a3ac",
   "metadata": {},
   "outputs": [
    {
     "name": "stdout",
     "output_type": "stream",
     "text": [
      "Collecting pyECLAT\n",
      "  Downloading pyECLAT-1.0.2-py3-none-any.whl (6.3 kB)\n",
      "Requirement already satisfied: tqdm>=4.41.1 in c:\\users\\public\\anaconda3\\lib\\site-packages (from pyECLAT) (4.62.3)\n",
      "Requirement already satisfied: numpy>=1.17.4 in c:\\users\\public\\anaconda3\\lib\\site-packages (from pyECLAT) (1.20.3)\n",
      "Requirement already satisfied: pandas>=0.25.3 in c:\\users\\public\\anaconda3\\lib\\site-packages (from pyECLAT) (1.3.4)\n",
      "Requirement already satisfied: pytz>=2017.3 in c:\\users\\public\\anaconda3\\lib\\site-packages (from pandas>=0.25.3->pyECLAT) (2021.3)\n",
      "Requirement already satisfied: python-dateutil>=2.7.3 in c:\\users\\public\\anaconda3\\lib\\site-packages (from pandas>=0.25.3->pyECLAT) (2.8.2)\n",
      "Requirement already satisfied: six>=1.5 in c:\\users\\public\\anaconda3\\lib\\site-packages (from python-dateutil>=2.7.3->pandas>=0.25.3->pyECLAT) (1.16.0)\n",
      "Requirement already satisfied: colorama in c:\\users\\public\\anaconda3\\lib\\site-packages (from tqdm>=4.41.1->pyECLAT) (0.4.4)\n",
      "Installing collected packages: pyECLAT\n",
      "Successfully installed pyECLAT-1.0.2\n",
      "Note: you may need to restart the kernel to use updated packages.\n"
     ]
    }
   ],
   "source": [
    "pip install pyECLAT"
   ]
  },
  {
   "cell_type": "code",
   "execution_count": 4,
   "id": "21b0b29d",
   "metadata": {},
   "outputs": [],
   "source": [
    "import pyECLAT\n",
    "transactions = [\n",
    "    ['bear','wine','cheese'],\n",
    "    ['beer','potato chips'],\n",
    "    ['eggs','flour','butter','cheese'],\n",
    "    ['eggs','flour','butter','beer','cheese'],\n",
    "    ['wine','cheese'],\n",
    "    ['potato chips'],\n",
    "    ['eggs','flour','butter','wine','cheese'],\n",
    "    ['eggs','flour','butter','beer','potato chips'],\n",
    "    ['wine','beer'],\n",
    "    ['wine','potato chips'],\n",
    "    ['flour','eggs'],\n",
    "    ['beer','potato chips'],\n",
    "    ['eggs','flour','butter','butter','wine','cheese'],\n",
    "    ['beer','wine','potato chips','cheese'],\n",
    "    ['wine','cheese'],\n",
    "    ['wine','potato chips']\n",
    "]"
   ]
  },
  {
   "cell_type": "code",
   "execution_count": 6,
   "id": "54893244",
   "metadata": {},
   "outputs": [
    {
     "data": {
      "text/plain": [
       "[['bear', 'wine', 'cheese'],\n",
       " ['beer', 'potato chips'],\n",
       " ['eggs', 'flour', 'butter', 'cheese'],\n",
       " ['eggs', 'flour', 'butter', 'beer', 'cheese'],\n",
       " ['wine', 'cheese'],\n",
       " ['potato chips'],\n",
       " ['eggs', 'flour', 'butter', 'wine', 'cheese'],\n",
       " ['eggs', 'flour', 'butter', 'beer', 'potato chips'],\n",
       " ['wine', 'beer'],\n",
       " ['wine', 'potato chips'],\n",
       " ['flour', 'eggs'],\n",
       " ['beer', 'potato chips'],\n",
       " ['eggs', 'flour', 'butter', 'butter', 'wine', 'cheese'],\n",
       " ['beer', 'wine', 'potato chips', 'cheese'],\n",
       " ['wine', 'cheese'],\n",
       " ['wine', 'potato chips']]"
      ]
     },
     "execution_count": 6,
     "metadata": {},
     "output_type": "execute_result"
    }
   ],
   "source": [
    "transactions"
   ]
  },
  {
   "cell_type": "code",
   "execution_count": 7,
   "id": "ca1c56dc",
   "metadata": {},
   "outputs": [],
   "source": [
    "import pandas as pd\n",
    "dt= pd.DataFrame(transactions)"
   ]
  },
  {
   "cell_type": "code",
   "execution_count": 28,
   "id": "62ec28d7",
   "metadata": {},
   "outputs": [
    {
     "data": {
      "text/html": [
       "<div>\n",
       "<style scoped>\n",
       "    .dataframe tbody tr th:only-of-type {\n",
       "        vertical-align: middle;\n",
       "    }\n",
       "\n",
       "    .dataframe tbody tr th {\n",
       "        vertical-align: top;\n",
       "    }\n",
       "\n",
       "    .dataframe thead th {\n",
       "        text-align: right;\n",
       "    }\n",
       "</style>\n",
       "<table border=\"1\" class=\"dataframe\">\n",
       "  <thead>\n",
       "    <tr style=\"text-align: right;\">\n",
       "      <th></th>\n",
       "      <th>0</th>\n",
       "      <th>1</th>\n",
       "      <th>2</th>\n",
       "      <th>3</th>\n",
       "      <th>4</th>\n",
       "      <th>5</th>\n",
       "    </tr>\n",
       "  </thead>\n",
       "  <tbody>\n",
       "    <tr>\n",
       "      <th>0</th>\n",
       "      <td>bear</td>\n",
       "      <td>wine</td>\n",
       "      <td>cheese</td>\n",
       "      <td>None</td>\n",
       "      <td>None</td>\n",
       "      <td>None</td>\n",
       "    </tr>\n",
       "    <tr>\n",
       "      <th>1</th>\n",
       "      <td>beer</td>\n",
       "      <td>potato chips</td>\n",
       "      <td>None</td>\n",
       "      <td>None</td>\n",
       "      <td>None</td>\n",
       "      <td>None</td>\n",
       "    </tr>\n",
       "    <tr>\n",
       "      <th>2</th>\n",
       "      <td>eggs</td>\n",
       "      <td>flour</td>\n",
       "      <td>butter</td>\n",
       "      <td>cheese</td>\n",
       "      <td>None</td>\n",
       "      <td>None</td>\n",
       "    </tr>\n",
       "    <tr>\n",
       "      <th>3</th>\n",
       "      <td>eggs</td>\n",
       "      <td>flour</td>\n",
       "      <td>butter</td>\n",
       "      <td>beer</td>\n",
       "      <td>cheese</td>\n",
       "      <td>None</td>\n",
       "    </tr>\n",
       "    <tr>\n",
       "      <th>4</th>\n",
       "      <td>wine</td>\n",
       "      <td>cheese</td>\n",
       "      <td>None</td>\n",
       "      <td>None</td>\n",
       "      <td>None</td>\n",
       "      <td>None</td>\n",
       "    </tr>\n",
       "    <tr>\n",
       "      <th>5</th>\n",
       "      <td>potato chips</td>\n",
       "      <td>None</td>\n",
       "      <td>None</td>\n",
       "      <td>None</td>\n",
       "      <td>None</td>\n",
       "      <td>None</td>\n",
       "    </tr>\n",
       "    <tr>\n",
       "      <th>6</th>\n",
       "      <td>eggs</td>\n",
       "      <td>flour</td>\n",
       "      <td>butter</td>\n",
       "      <td>wine</td>\n",
       "      <td>cheese</td>\n",
       "      <td>None</td>\n",
       "    </tr>\n",
       "    <tr>\n",
       "      <th>7</th>\n",
       "      <td>eggs</td>\n",
       "      <td>flour</td>\n",
       "      <td>butter</td>\n",
       "      <td>beer</td>\n",
       "      <td>potato chips</td>\n",
       "      <td>None</td>\n",
       "    </tr>\n",
       "    <tr>\n",
       "      <th>8</th>\n",
       "      <td>wine</td>\n",
       "      <td>beer</td>\n",
       "      <td>None</td>\n",
       "      <td>None</td>\n",
       "      <td>None</td>\n",
       "      <td>None</td>\n",
       "    </tr>\n",
       "    <tr>\n",
       "      <th>9</th>\n",
       "      <td>wine</td>\n",
       "      <td>potato chips</td>\n",
       "      <td>None</td>\n",
       "      <td>None</td>\n",
       "      <td>None</td>\n",
       "      <td>None</td>\n",
       "    </tr>\n",
       "    <tr>\n",
       "      <th>10</th>\n",
       "      <td>flour</td>\n",
       "      <td>eggs</td>\n",
       "      <td>None</td>\n",
       "      <td>None</td>\n",
       "      <td>None</td>\n",
       "      <td>None</td>\n",
       "    </tr>\n",
       "    <tr>\n",
       "      <th>11</th>\n",
       "      <td>beer</td>\n",
       "      <td>potato chips</td>\n",
       "      <td>None</td>\n",
       "      <td>None</td>\n",
       "      <td>None</td>\n",
       "      <td>None</td>\n",
       "    </tr>\n",
       "    <tr>\n",
       "      <th>12</th>\n",
       "      <td>eggs</td>\n",
       "      <td>flour</td>\n",
       "      <td>butter</td>\n",
       "      <td>butter</td>\n",
       "      <td>wine</td>\n",
       "      <td>cheese</td>\n",
       "    </tr>\n",
       "    <tr>\n",
       "      <th>13</th>\n",
       "      <td>beer</td>\n",
       "      <td>wine</td>\n",
       "      <td>potato chips</td>\n",
       "      <td>cheese</td>\n",
       "      <td>None</td>\n",
       "      <td>None</td>\n",
       "    </tr>\n",
       "    <tr>\n",
       "      <th>14</th>\n",
       "      <td>wine</td>\n",
       "      <td>cheese</td>\n",
       "      <td>None</td>\n",
       "      <td>None</td>\n",
       "      <td>None</td>\n",
       "      <td>None</td>\n",
       "    </tr>\n",
       "    <tr>\n",
       "      <th>15</th>\n",
       "      <td>wine</td>\n",
       "      <td>potato chips</td>\n",
       "      <td>None</td>\n",
       "      <td>None</td>\n",
       "      <td>None</td>\n",
       "      <td>None</td>\n",
       "    </tr>\n",
       "  </tbody>\n",
       "</table>\n",
       "</div>"
      ],
      "text/plain": [
       "               0             1             2       3             4       5\n",
       "0           bear          wine        cheese    None          None    None\n",
       "1           beer  potato chips          None    None          None    None\n",
       "2           eggs         flour        butter  cheese          None    None\n",
       "3           eggs         flour        butter    beer        cheese    None\n",
       "4           wine        cheese          None    None          None    None\n",
       "5   potato chips          None          None    None          None    None\n",
       "6           eggs         flour        butter    wine        cheese    None\n",
       "7           eggs         flour        butter    beer  potato chips    None\n",
       "8           wine          beer          None    None          None    None\n",
       "9           wine  potato chips          None    None          None    None\n",
       "10         flour          eggs          None    None          None    None\n",
       "11          beer  potato chips          None    None          None    None\n",
       "12          eggs         flour        butter  butter          wine  cheese\n",
       "13          beer          wine  potato chips  cheese          None    None\n",
       "14          wine        cheese          None    None          None    None\n",
       "15          wine  potato chips          None    None          None    None"
      ]
     },
     "execution_count": 28,
     "metadata": {},
     "output_type": "execute_result"
    }
   ],
   "source": [
    "dt"
   ]
  },
  {
   "cell_type": "code",
   "execution_count": 30,
   "id": "1a727430",
   "metadata": {},
   "outputs": [
    {
     "data": {
      "text/plain": [
       "2"
      ]
     },
     "execution_count": 30,
     "metadata": {},
     "output_type": "execute_result"
    }
   ],
   "source": [
    "min_n_products = 2\n",
    "#  we don't want anykind of individual Products in our List:\n",
    "min_support = 7/len(transactions)\n",
    "max_length = max([len(x) for x in transactions])\n",
    "min_n_products"
   ]
  },
  {
   "cell_type": "code",
   "execution_count": 36,
   "id": "d211d0f5",
   "metadata": {},
   "outputs": [
    {
     "data": {
      "text/plain": [
       "0.4375"
      ]
     },
     "execution_count": 36,
     "metadata": {},
     "output_type": "execute_result"
    }
   ],
   "source": [
    "min_support"
   ]
  },
  {
   "cell_type": "code",
   "execution_count": 37,
   "id": "81d629fa",
   "metadata": {},
   "outputs": [
    {
     "data": {
      "text/plain": [
       "6"
      ]
     },
     "execution_count": 37,
     "metadata": {},
     "output_type": "execute_result"
    }
   ],
   "source": [
    "max_length"
   ]
  },
  {
   "cell_type": "code",
   "execution_count": 39,
   "id": "10864399",
   "metadata": {},
   "outputs": [
    {
     "name": "stderr",
     "output_type": "stream",
     "text": [
      "100%|██████████| 9/9 [00:00<00:00, 454.09it/s]\n",
      "100%|██████████| 9/9 [00:00<?, ?it/s]\n",
      "100%|██████████| 9/9 [00:00<00:00, 1504.11it/s]\n"
     ]
    },
    {
     "name": "stdout",
     "output_type": "stream",
     "text": [
      "Combination 2 by 2\n"
     ]
    },
    {
     "name": "stderr",
     "output_type": "stream",
     "text": [
      "3it [00:00, 64.19it/s]\n"
     ]
    },
    {
     "name": "stdout",
     "output_type": "stream",
     "text": [
      "Combination 3 by 3\n"
     ]
    },
    {
     "name": "stderr",
     "output_type": "stream",
     "text": [
      "1it [00:00, 100.21it/s]\n"
     ]
    },
    {
     "name": "stdout",
     "output_type": "stream",
     "text": [
      "Combination 4 by 4\n"
     ]
    },
    {
     "name": "stderr",
     "output_type": "stream",
     "text": [
      "0it [00:00, ?it/s]\n"
     ]
    },
    {
     "name": "stdout",
     "output_type": "stream",
     "text": [
      "Combination 5 by 5\n"
     ]
    },
    {
     "name": "stderr",
     "output_type": "stream",
     "text": [
      "0it [00:00, ?it/s]\n"
     ]
    },
    {
     "name": "stdout",
     "output_type": "stream",
     "text": [
      "Combination 6 by 6\n"
     ]
    },
    {
     "name": "stderr",
     "output_type": "stream",
     "text": [
      "0it [00:00, ?it/s]\n"
     ]
    }
   ],
   "source": [
    "from pyECLAT import ECLAT\n",
    "# my_eclat = ECLAT(data=dt,verbose =True)\n",
    "my_eclat=ECLAT(data=dt,verbose=True)\n",
    "rule_indices,rule_supports = my_eclat.fit(min_support=min_support,\n",
    "                                         min_combination=min_n_products,\n",
    "                                         max_combination=max_length)"
   ]
  },
  {
   "cell_type": "code",
   "execution_count": 40,
   "id": "11ded2e0",
   "metadata": {},
   "outputs": [
    {
     "name": "stdout",
     "output_type": "stream",
     "text": [
      "{}\n"
     ]
    }
   ],
   "source": [
    "print(rule_supports)"
   ]
  },
  {
   "cell_type": "code",
   "execution_count": 41,
   "id": "870fc121",
   "metadata": {},
   "outputs": [
    {
     "name": "stdout",
     "output_type": "stream",
     "text": [
      "{}\n"
     ]
    }
   ],
   "source": [
    "print(rule_indices)"
   ]
  },
  {
   "cell_type": "code",
   "execution_count": null,
   "id": "f3568a32",
   "metadata": {},
   "outputs": [],
   "source": []
  }
 ],
 "metadata": {
  "kernelspec": {
   "display_name": "Python 3 (ipykernel)",
   "language": "python",
   "name": "python3"
  },
  "language_info": {
   "codemirror_mode": {
    "name": "ipython",
    "version": 3
   },
   "file_extension": ".py",
   "mimetype": "text/x-python",
   "name": "python",
   "nbconvert_exporter": "python",
   "pygments_lexer": "ipython3",
   "version": "3.9.7"
  }
 },
 "nbformat": 4,
 "nbformat_minor": 5
}
