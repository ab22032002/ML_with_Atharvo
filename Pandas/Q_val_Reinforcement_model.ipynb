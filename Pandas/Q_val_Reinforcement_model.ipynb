{
 "cells": [
  {
   "cell_type": "code",
   "execution_count": 1,
   "id": "be80dae6",
   "metadata": {},
   "outputs": [],
   "source": [
    "import numpy as np"
   ]
  },
  {
   "cell_type": "code",
   "execution_count": 14,
   "id": "b404977c",
   "metadata": {},
   "outputs": [
    {
     "data": {
      "text/plain": [
       "matrix([[ -1,  -1,  -1,  -1,   0,  -1],\n",
       "        [ -1,  -1,  -1,   0,  -1, 100],\n",
       "        [ -1,  -1,  -1,   0,  -1,  -1],\n",
       "        [ -1,   0,   0,  -1,   0,  -1],\n",
       "        [ -1,   0,   0,  -1,  -1, 100],\n",
       "        [ -1,   0,  -1,  -1,   0, 100]])"
      ]
     },
     "execution_count": 14,
     "metadata": {},
     "output_type": "execute_result"
    }
   ],
   "source": [
    "r= np.matrix([[-1,-1,-1,-1,0,-1],\n",
    "            [-1,-1,-1,0,-1,100],\n",
    "            [-1,-1,-1,0,-1,-1],\n",
    "            [-1,0,0,-1,0,-1],\n",
    "            [-1,0,0,-1,-1,100],\n",
    "            [-1,0,-1,-1,0,100]])\n",
    "r"
   ]
  },
  {
   "cell_type": "code",
   "execution_count": 20,
   "id": "1f50720c",
   "metadata": {},
   "outputs": [
    {
     "data": {
      "text/plain": [
       "matrix([[0., 0., 0., 0., 0., 0.],\n",
       "        [0., 0., 0., 0., 0., 0.],\n",
       "        [0., 0., 0., 0., 0., 0.],\n",
       "        [0., 0., 0., 0., 0., 0.],\n",
       "        [0., 0., 0., 0., 0., 0.],\n",
       "        [0., 0., 0., 0., 0., 0.]])"
      ]
     },
     "execution_count": 20,
     "metadata": {},
     "output_type": "execute_result"
    }
   ],
   "source": [
    "q= np.matrix(np.zeros([6,6]))\n",
    "q"
   ]
  },
  {
   "cell_type": "code",
   "execution_count": 21,
   "id": "c68d5f54",
   "metadata": {},
   "outputs": [
    {
     "data": {
      "text/plain": [
       "matrix([[0., 0., 0., 0., 0., 0.],\n",
       "        [0., 0., 0., 0., 0., 0.],\n",
       "        [0., 0., 0., 0., 0., 0.],\n",
       "        [0., 0., 0., 0., 0., 0.],\n",
       "        [0., 0., 0., 0., 0., 0.],\n",
       "        [0., 0., 0., 0., 0., 0.]])"
      ]
     },
     "execution_count": 21,
     "metadata": {},
     "output_type": "execute_result"
    }
   ],
   "source": [
    "q"
   ]
  },
  {
   "cell_type": "code",
   "execution_count": 23,
   "id": "88aacaef",
   "metadata": {},
   "outputs": [],
   "source": [
    "gamma = 0.8\n",
    "initial_state= 1"
   ]
  },
  {
   "cell_type": "code",
   "execution_count": 25,
   "id": "dcd6eb9d",
   "metadata": {},
   "outputs": [],
   "source": [
    "def available_actions(state):\n",
    "    current_state_row= r[state,]\n",
    "    av_act = np.where(current_state_row>=0)[1]\n",
    "    return av_act"
   ]
  },
  {
   "cell_type": "code",
   "execution_count": 28,
   "id": "89720157",
   "metadata": {},
   "outputs": [
    {
     "data": {
      "text/plain": [
       "array([3, 5], dtype=int64)"
      ]
     },
     "execution_count": 28,
     "metadata": {},
     "output_type": "execute_result"
    }
   ],
   "source": [
    "available_actions(initial_state)"
   ]
  },
  {
   "cell_type": "code",
   "execution_count": 29,
   "id": "987d5064",
   "metadata": {},
   "outputs": [
    {
     "data": {
      "text/plain": [
       "matrix([[ -1,  -1,  -1,   0,  -1, 100]])"
      ]
     },
     "execution_count": 29,
     "metadata": {},
     "output_type": "execute_result"
    }
   ],
   "source": [
    "current_state_row= r[1,]\n",
    "current_state_row"
   ]
  },
  {
   "cell_type": "code",
   "execution_count": 30,
   "id": "298fdacf",
   "metadata": {},
   "outputs": [
    {
     "data": {
      "text/plain": [
       "array([3, 5], dtype=int64)"
      ]
     },
     "execution_count": 30,
     "metadata": {},
     "output_type": "execute_result"
    }
   ],
   "source": [
    "available_act= available_actions(initial_state)\n",
    "available_act"
   ]
  },
  {
   "cell_type": "code",
   "execution_count": 32,
   "id": "d6b76414",
   "metadata": {},
   "outputs": [],
   "source": [
    "# Next avilable action values :\n",
    "# are returned by the av_act"
   ]
  },
  {
   "cell_type": "code",
   "execution_count": 66,
   "id": "fa2f65e7",
   "metadata": {},
   "outputs": [],
   "source": [
    "def sample_next_actions(available_actions_range):\n",
    "    next_action = int(np.random.choice(available_act,1))\n",
    "    return next_action"
   ]
  },
  {
   "cell_type": "code",
   "execution_count": 67,
   "id": "549c4267",
   "metadata": {},
   "outputs": [
    {
     "data": {
      "text/plain": [
       "3"
      ]
     },
     "execution_count": 67,
     "metadata": {},
     "output_type": "execute_result"
    }
   ],
   "source": [
    "next_action = int(np.random.choice(available_act,1))\n",
    "next_action"
   ]
  },
  {
   "cell_type": "code",
   "execution_count": 68,
   "id": "e9587aaf",
   "metadata": {},
   "outputs": [],
   "source": [
    "action = sample_next_actions(available_act)"
   ]
  },
  {
   "cell_type": "code",
   "execution_count": 69,
   "id": "f3e09aa6",
   "metadata": {},
   "outputs": [
    {
     "data": {
      "text/plain": [
       "5"
      ]
     },
     "execution_count": 69,
     "metadata": {},
     "output_type": "execute_result"
    }
   ],
   "source": [
    "action"
   ]
  },
  {
   "cell_type": "code",
   "execution_count": 57,
   "id": "e92a766a",
   "metadata": {},
   "outputs": [],
   "source": [
    "def update(current_state, action,gamma):\n",
    "    max_index = np.where(q[action,]==np.max(q[action,]))[1]\n",
    "    if max_index.shape[0]>1:\n",
    "        max_index = int(np.random.choice(max_index,size=1))\n",
    "    else:\n",
    "        max_index = int(max_index)\n",
    "    max_value = q[action,max_index]\n",
    "    q[current_state,action]=r[current_state,action]+gamma*max_value\n",
    "    \n"
   ]
  },
  {
   "cell_type": "code",
   "execution_count": 70,
   "id": "bad29ccc",
   "metadata": {},
   "outputs": [],
   "source": [
    "update(initial_state,action,gamma)"
   ]
  },
  {
   "cell_type": "code",
   "execution_count": 71,
   "id": "653c306c",
   "metadata": {},
   "outputs": [
    {
     "data": {
      "text/plain": [
       "array([0, 1, 2, 3, 4, 5], dtype=int64)"
      ]
     },
     "execution_count": 71,
     "metadata": {},
     "output_type": "execute_result"
    }
   ],
   "source": [
    "max_index = np.where(q[5,] == np.max(q[5,]))[1]\n",
    "max_index"
   ]
  },
  {
   "cell_type": "code",
   "execution_count": 72,
   "id": "1950f745",
   "metadata": {},
   "outputs": [
    {
     "data": {
      "text/plain": [
       "6"
      ]
     },
     "execution_count": 72,
     "metadata": {},
     "output_type": "execute_result"
    }
   ],
   "source": [
    "max_index.shape[0]"
   ]
  },
  {
   "cell_type": "code",
   "execution_count": 73,
   "id": "b3f667c4",
   "metadata": {},
   "outputs": [
    {
     "data": {
      "text/plain": [
       "matrix([[  0.,   0.,   0.,   0.,   0.,   0.],\n",
       "        [  0.,   0.,   0.,   0.,   0., 100.],\n",
       "        [  0.,   0.,   0.,   0.,   0.,   0.],\n",
       "        [  0.,   0.,   0.,   0.,   0.,   0.],\n",
       "        [  0.,   0.,   0.,   0.,   0.,   0.],\n",
       "        [  0.,   0.,   0.,   0.,   0.,   0.]])"
      ]
     },
     "execution_count": 73,
     "metadata": {},
     "output_type": "execute_result"
    }
   ],
   "source": [
    "q/np.max(q)*100"
   ]
  },
  {
   "cell_type": "code",
   "execution_count": 75,
   "id": "0b690e9f",
   "metadata": {},
   "outputs": [
    {
     "name": "stdout",
     "output_type": "stream",
     "text": [
      "trained Q matrix\n",
      "[[  0.    0.    0.    0.   80.    0. ]\n",
      " [  0.    0.    0.   64.    0.  100. ]\n",
      " [  0.    0.    0.   64.    0.    0. ]\n",
      " [  0.   80.   51.2   0.   80.    0. ]\n",
      " [  0.   80.   51.2   0.    0.  100. ]\n",
      " [  0.   80.    0.    0.   80.  100. ]]\n"
     ]
    }
   ],
   "source": [
    "for i in range(10000):\n",
    "    current_state = np.random.randint(0,int(q.shape[0]))\n",
    "    available_act = available_actions(current_state)\n",
    "    action = sample_next_actions(available_act)\n",
    "    update(current_state,action,gamma)\n",
    "\n",
    "print(\"trained Q matrix\")\n",
    "print(q/np.max(q)*100)"
   ]
  },
  {
   "cell_type": "code",
   "execution_count": null,
   "id": "aef178bb",
   "metadata": {},
   "outputs": [],
   "source": [
    "# current_state = 1\n",
    "# steps = [current_state]\n",
    "\n",
    "# while current_state!=5:\n",
    "#     next_step_index = np.where(q[current_state,]==np.max(q[current_state,]))[1]\n",
    "    \n",
    "#     if next_step_index.shape[0]>1:\n",
    "#         next_step_index = int(np.random.choice(next_step_index,index,size=1))\n",
    "#     else:\n",
    "#         next_step_index = int(next_step_index)\n",
    "#     steps.append(next_step_index)\n",
    "    \n",
    "# print(\"selectedPath:\")\n",
    "# print(steps)"
   ]
  },
  {
   "cell_type": "code",
   "execution_count": null,
   "id": "ed8226a2",
   "metadata": {},
   "outputs": [],
   "source": [
    "q"
   ]
  },
  {
   "cell_type": "code",
   "execution_count": null,
   "id": "6d6d8162",
   "metadata": {},
   "outputs": [],
   "source": []
  },
  {
   "cell_type": "code",
   "execution_count": null,
   "id": "fcacd70a",
   "metadata": {},
   "outputs": [],
   "source": []
  },
  {
   "cell_type": "code",
   "execution_count": null,
   "id": "c9c08c7a",
   "metadata": {},
   "outputs": [],
   "source": []
  },
  {
   "cell_type": "code",
   "execution_count": null,
   "id": "1cf87e24",
   "metadata": {},
   "outputs": [],
   "source": []
  }
 ],
 "metadata": {
  "kernelspec": {
   "display_name": "Python 3 (ipykernel)",
   "language": "python",
   "name": "python3"
  },
  "language_info": {
   "codemirror_mode": {
    "name": "ipython",
    "version": 3
   },
   "file_extension": ".py",
   "mimetype": "text/x-python",
   "name": "python",
   "nbconvert_exporter": "python",
   "pygments_lexer": "ipython3",
   "version": "3.9.7"
  }
 },
 "nbformat": 4,
 "nbformat_minor": 5
}
